{
 "cells": [
  {
   "cell_type": "code",
   "execution_count": 3,
   "id": "21224e25-0f6c-4ec8-b0fc-3f7b9f61fdee",
   "metadata": {},
   "outputs": [],
   "source": [
    "def RGBToHex(c):\n",
    "    return '#%02x%02x%02x' %(int(c[0]),int(c[1]),int(c[2]))\n",
    "\n",
    "def hexToRGB(h):\n",
    "    return tuple(int(h[i:i+2], 16) for i in (1, 3, 5))\n",
    "\n",
    "def GetWeighedColor(col1, col2, w=0.5):\n",
    "    c1 = hexToRGB(col1)\n",
    "    c2 = hexToRGB(col2)\n",
    "    return RGBToHex([(1-w)*c1[0] + (w)*c2[0], (1-w)*c1[1] + (w)*c2[1], (1-w)*c1[2] + (w)*c2[2]])"
   ]
  },
  {
   "cell_type": "code",
   "execution_count": 14,
   "id": "99ec32b0-6060-43c4-9437-e4005c056236",
   "metadata": {},
   "outputs": [
    {
     "data": {
      "text/plain": [
       "'#93c5b8'"
      ]
     },
     "execution_count": 14,
     "metadata": {},
     "output_type": "execute_result"
    }
   ],
   "source": [
    "GetWeighedColor('#ffffff', '#288c71')"
   ]
  },
  {
   "cell_type": "code",
   "execution_count": null,
   "id": "003a667b-2dc1-416c-a76e-a50e1847f43c",
   "metadata": {},
   "outputs": [],
   "source": []
  }
 ],
 "metadata": {
  "kernelspec": {
   "display_name": "Python 3",
   "language": "python",
   "name": "python3"
  },
  "language_info": {
   "codemirror_mode": {
    "name": "ipython",
    "version": 3
   },
   "file_extension": ".py",
   "mimetype": "text/x-python",
   "name": "python",
   "nbconvert_exporter": "python",
   "pygments_lexer": "ipython3",
   "version": "3.8.8"
  }
 },
 "nbformat": 4,
 "nbformat_minor": 5
}
