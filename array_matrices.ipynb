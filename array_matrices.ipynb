{
 "cells": [
  {
   "cell_type": "code",
   "execution_count": 1,
   "id": "b50ccfe0-25e6-4af2-8368-031355a28f01",
   "metadata": {},
   "outputs": [],
   "source": [
    "import random as r\n",
    "import numpy as np\n",
    "r.seed(10)\n",
    "X = np.array([[x1, x2] for x1, x2 in zip([r.random() for _ in range(100)], [r.random() for _ in range(100)])])\n",
    "y = np.array([2 * x[0] + 3 * x[1] for x in X])\n",
    "\n",
    "def get_cost (X, y, theta):\n",
    "    return 0.5 * np.average(np.power(theta @ X.T - y, 2))\n",
    "\n",
    "def gradient(X, y, theta, learning_rate):\n",
    "    return learning_rate * (theta @ X.T - y) @ X - 0.000001 * theta\n",
    "    \n",
    "def lin_regression(X, y, learning_rate = 0.001, iteration = 1000):\n",
    "    ones = np.ones([X.shape[0], 1])\n",
    "    X = np.concatenate([ones, X], 1)\n",
    "    \n",
    "    theta = np.zeros([1, X.shape[1]])\n",
    "    \n",
    "    cost = []\n",
    "    for i in range(iteration):\n",
    "        theta -= gradient(X, y, theta, learning_rate)\n",
    "        cost.append(get_cost(X, y, theta))\n",
    "    return cost, theta\n",
    "\n",
    "val = lin_regression(X, y)\n",
    "beta = np.linalg.inv(X.T @ X) @ X.T @ y"
   ]
  },
  {
   "cell_type": "code",
   "execution_count": 5,
   "id": "0e607bb4-d4ff-4ab3-ba11-b319035e9835",
   "metadata": {},
   "outputs": [
    {
     "data": {
      "text/plain": [
       "(1, 2, 3)"
      ]
     },
     "execution_count": 5,
     "metadata": {},
     "output_type": "execute_result"
    }
   ],
   "source": [
    "a = [[1, 2], [2, 3], [3, 4]]\n",
    "b = list(zip(*a))\n",
    "b[0]"
   ]
  },
  {
   "cell_type": "code",
   "execution_count": null,
   "id": "afde6c1d-94f5-458f-a557-775e0588e950",
   "metadata": {},
   "outputs": [],
   "source": []
  }
 ],
 "metadata": {
  "kernelspec": {
   "display_name": "Python 3",
   "language": "python",
   "name": "python3"
  },
  "language_info": {
   "codemirror_mode": {
    "name": "ipython",
    "version": 3
   },
   "file_extension": ".py",
   "mimetype": "text/x-python",
   "name": "python",
   "nbconvert_exporter": "python",
   "pygments_lexer": "ipython3",
   "version": "3.8.8"
  }
 },
 "nbformat": 4,
 "nbformat_minor": 5
}
