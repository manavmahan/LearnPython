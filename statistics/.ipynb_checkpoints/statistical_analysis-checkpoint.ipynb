{
 "cells": [
  {
   "cell_type": "markdown",
   "id": "19d1fe01-04c6-4dad-bd0e-eed92a363ad4",
   "metadata": {},
   "source": [
    "# Statistical Analysis\n",
    "## Statistical significance - type I error, alpha\n",
    "Probability of correclty rejecting the null hypothesis."
   ]
  },
  {
   "cell_type": "code",
   "execution_count": 27,
   "id": "56354611-7cfe-4f21-8d20-7b52c618d56d",
   "metadata": {},
   "outputs": [
    {
     "data": {
      "text/plain": [
       "121.89931336859593"
      ]
     },
     "execution_count": 27,
     "metadata": {},
     "output_type": "execute_result"
    }
   ],
   "source": [
    "# recording average speed using three measurements v1, v2, v3\n",
    "# assume a normal distribution N(mu, sigma)\n",
    "\n",
    "# H0: v-120 = 0\n",
    "# H1: v-120 > 0\n",
    "\n",
    "# alpha = Z((c - 120) / sqrt(sigma/3))\n",
    "# Z = 1.645 corresponding to alpha = 0.05\n",
    "\n",
    "import math\n",
    "import scipy.stats as st\n",
    "\n",
    "sigma = 4\n",
    "alpha = 0.05\n",
    "c = 120 + st.norm.ppf(1 - alpha) * math.sqrt(4 / 3)\n",
    "c"
   ]
  },
  {
   "cell_type": "markdown",
   "id": "afaab1ed-79fa-42e5-b7c1-77d520008a4f",
   "metadata": {},
   "source": [
    "Intepretation: The speed will be considered 120+ if it is more than 121.9. \n",
    "\n",
    "However, the study has 5% chance to FALSELY show that speed is greater than 120 while it is otherwise."
   ]
  },
  {
   "cell_type": "markdown",
   "id": "6b607ad9-c66e-4053-b460-7c7966ccc5fd",
   "metadata": {},
   "source": [
    "## Statistical power - type II error, beta\n",
    "Probability of "
   ]
  },
  {
   "cell_type": "code",
   "execution_count": 28,
   "id": "80fea4d3-1e5b-4b8f-a99c-41da591bb60f",
   "metadata": {},
   "outputs": [
    {
     "data": {
      "text/plain": [
       "0.0036299774940953336"
      ]
     },
     "execution_count": 28,
     "metadata": {},
     "output_type": "execute_result"
    }
   ],
   "source": [
    "# calculate probability of P(T<121.9|mu=125)\n",
    "beta = st.norm.cdf((121.9-125) / math.sqrt(4/3))\n",
    "beta"
   ]
  },
  {
   "cell_type": "markdown",
   "id": "c4f4a4c8-23d4-427f-ad35-cb97f0e950d9",
   "metadata": {},
   "source": [
    "Interpretation: There 0.36% probability that speed will be considered 120- while it is 125."
   ]
  },
  {
   "cell_type": "markdown",
   "id": "debff3cb-f672-4613-9973-42fb6755b4af",
   "metadata": {},
   "source": [
    "## Possibility of coin to be fair"
   ]
  },
  {
   "cell_type": "code",
   "execution_count": 31,
   "id": "fecc6e1c-7ea6-4c59-808c-9753c9fa4920",
   "metadata": {},
   "outputs": [
    {
     "data": {
      "text/plain": [
       "0.11531829833984375"
      ]
     },
     "execution_count": 31,
     "metadata": {},
     "output_type": "execute_result"
    }
   ],
   "source": [
    "import math\n",
    "def nCombinations(n, r):\n",
    "    return n if r==1 else 1 if r==n else math.factorial(n)/(math.factorial(n-r) * math.factorial(r))\n",
    "\n",
    "# coined tossed 20 times and 14 heads\n",
    "# p = 2 * min(p(heads<=14), heads>=14)\n",
    "# p(heads)>=14 will be minimum of the two\n",
    "p = 2 * (sum([nCombinations(20, x) for x in range(14, 21)]) / 2 ** 20)\n",
    "\n",
    "# H0: the coin is fair"
   ]
  },
  {
   "cell_type": "code",
   "execution_count": null,
   "id": "6d0f33b1-3b10-48ce-aebd-98255ab2c34c",
   "metadata": {},
   "outputs": [],
   "source": []
  }
 ],
 "metadata": {
  "kernelspec": {
   "display_name": "Python 3",
   "language": "python",
   "name": "python3"
  },
  "language_info": {
   "codemirror_mode": {
    "name": "ipython",
    "version": 3
   },
   "file_extension": ".py",
   "mimetype": "text/x-python",
   "name": "python",
   "nbconvert_exporter": "python",
   "pygments_lexer": "ipython3",
   "version": "3.8.8"
  }
 },
 "nbformat": 4,
 "nbformat_minor": 5
}
