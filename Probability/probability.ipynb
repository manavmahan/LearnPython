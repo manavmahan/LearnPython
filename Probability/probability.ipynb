{
 "cells": [
  {
   "cell_type": "markdown",
   "id": "bdffb4fe-d7b6-4232-b1fa-faac8f8c87fe",
   "metadata": {},
   "source": [
    "## Probability of n Persons having same birthday"
   ]
  },
  {
   "cell_type": "code",
   "execution_count": 1,
   "id": "adf13b8b-c5cd-432a-8f73-2969730472aa",
   "metadata": {},
   "outputs": [
    {
     "data": {
      "text/plain": [
       "0.5072972343239854"
      ]
     },
     "execution_count": 1,
     "metadata": {},
     "output_type": "execute_result"
    }
   ],
   "source": [
    "import math\n",
    "def nPermutations(n, r):\n",
    "    return 1 if r==0 else math.factorial(n) / math.factorial(n-r)\n",
    "\n",
    "n = 23\n",
    "p = nPermutations(365, n) / (365 ** n)\n",
    "(1 - p)"
   ]
  },
  {
   "cell_type": "markdown",
   "id": "a5d4d4d5-8e80-45ef-89f7-24e542b85994",
   "metadata": {},
   "source": [
    "## Probability of HHT and HTT\n",
    "\n",
    "Number of expected tosses:\n",
    "\n",
    "> Forget first H\n",
    ">> HT - 2; TT - 4 "
   ]
  },
  {
   "cell_type": "code",
   "execution_count": null,
   "id": "515e2191-5f75-4c82-87d4-761c61d1bf97",
   "metadata": {},
   "outputs": [],
   "source": []
  }
 ],
 "metadata": {
  "kernelspec": {
   "display_name": "Python 3",
   "language": "python",
   "name": "python3"
  },
  "language_info": {
   "codemirror_mode": {
    "name": "ipython",
    "version": 3
   },
   "file_extension": ".py",
   "mimetype": "text/x-python",
   "name": "python",
   "nbconvert_exporter": "python",
   "pygments_lexer": "ipython3",
   "version": "3.8.8"
  }
 },
 "nbformat": 4,
 "nbformat_minor": 5
}
