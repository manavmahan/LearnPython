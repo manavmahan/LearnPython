{
 "cells": [
  {
   "cell_type": "markdown",
   "metadata": {},
   "source": [
    "# Abstract classes"
   ]
  },
  {
   "cell_type": "markdown",
   "metadata": {},
   "source": [
    "In Python, abstract classes can be created by using `ABC` (Abstract Base Class) as a base class.  Abstract methods can be defined using the `abstractmethod` decorator.  Both are imported from `abc`."
   ]
  },
  {
   "cell_type": "code",
   "execution_count": 1,
   "metadata": {
    "ExecuteTime": {
     "end_time": "2018-11-21T15:52:27.842860Z",
     "start_time": "2018-11-21T15:52:27.830005Z"
    }
   },
   "outputs": [],
   "source": [
    "from abc import ABC, abstractmethod\n",
    "import math\n",
    "from traceback import print_exc"
   ]
  },
  {
   "cell_type": "markdown",
   "metadata": {},
   "source": [
    "The abstract class represents a geometric shape and defines a single abstract method, `area`.  Note that the `Shape` class could have concrete methods as well though."
   ]
  },
  {
   "cell_type": "code",
   "execution_count": 2,
   "metadata": {
    "ExecuteTime": {
     "end_time": "2018-11-21T15:52:27.861270Z",
     "start_time": "2018-11-21T15:52:27.852952Z"
    }
   },
   "outputs": [],
   "source": [
    "class Shape(ABC):\n",
    "    \n",
    "    @abstractmethod\n",
    "    def area(self):\n",
    "        ..."
   ]
  },
  {
   "cell_type": "markdown",
   "metadata": {},
   "source": [
    "Trying to instantiate an abstract class causes a `TypeError`."
   ]
  },
  {
   "cell_type": "code",
   "execution_count": 3,
   "metadata": {
    "ExecuteTime": {
     "end_time": "2018-11-21T15:52:27.878916Z",
     "start_time": "2018-11-21T15:52:27.872121Z"
    }
   },
   "outputs": [
    {
     "name": "stderr",
     "output_type": "stream",
     "text": [
      "Traceback (most recent call last):\n",
      "  File \"<ipython-input-3-fede734bc8a0>\", line 2, in <module>\n",
      "    _ = Shape()\n",
      "TypeError: Can't instantiate abstract class Shape with abstract methods area\n"
     ]
    }
   ],
   "source": [
    "try:\n",
    "    _ = Shape()\n",
    "except TypeError:\n",
    "    print_exc()"
   ]
  },
  {
   "cell_type": "markdown",
   "metadata": {},
   "source": [
    "The class `Circle` has `Shape` as a base class.  It has an attribute `radius`, and implements `area`."
   ]
  },
  {
   "cell_type": "code",
   "execution_count": 4,
   "metadata": {
    "ExecuteTime": {
     "end_time": "2018-11-21T15:52:27.915460Z",
     "start_time": "2018-11-21T15:52:27.906565Z"
    }
   },
   "outputs": [],
   "source": [
    "class Circle(Shape):\n",
    "    \n",
    "    def __init__(self, radius):\n",
    "        self._radius = float(radius)\n",
    "    \n",
    "    @property\n",
    "    def radius(self):\n",
    "        return self._radius\n",
    "    \n",
    "    def area(self):\n",
    "        return math.pi*self.radius**2"
   ]
  },
  {
   "cell_type": "markdown",
   "metadata": {},
   "source": [
    "`Circle` is a concrete class, and can be instantiated."
   ]
  },
  {
   "cell_type": "code",
   "execution_count": 5,
   "metadata": {
    "ExecuteTime": {
     "end_time": "2018-11-21T15:52:27.958242Z",
     "start_time": "2018-11-21T15:52:27.922877Z"
    }
   },
   "outputs": [
    {
     "data": {
      "text/plain": [
       "12.566370614359172"
      ]
     },
     "execution_count": 5,
     "metadata": {},
     "output_type": "execute_result"
    }
   ],
   "source": [
    "circle = Circle(2.0)\n",
    "circle.area()"
   ]
  },
  {
   "cell_type": "markdown",
   "metadata": {},
   "source": [
    "The `Rectangle` class is another `Shape`, and also implements the `area` method."
   ]
  },
  {
   "cell_type": "code",
   "execution_count": 8,
   "metadata": {
    "ExecuteTime": {
     "end_time": "2018-11-21T15:52:27.974142Z",
     "start_time": "2018-11-21T15:52:27.962183Z"
    }
   },
   "outputs": [],
   "source": [
    "class Rectangle(Shape):\n",
    "    \n",
    "    def __init__(self, short_side, long_side):\n",
    "        self._short_side = float(short_side)\n",
    "        self._long_side = long_side\n",
    "        \n",
    "    @property\n",
    "    def short_side(self):\n",
    "        return self._short_side\n",
    "    \n",
    "    @property\n",
    "    def long_side(self):\n",
    "        return self._long_side\n",
    "    \n",
    "    def area(self):\n",
    "        return self.short_side*self.long_side"
   ]
  },
  {
   "cell_type": "markdown",
   "metadata": {},
   "source": [
    "A `Square` is a special type of `Rectangle`, so it uses the latter as a base class.  Although there is no implementation of `area` in `Square`, it inherits the one defined in `Rectangle`."
   ]
  },
  {
   "cell_type": "code",
   "execution_count": 7,
   "metadata": {
    "ExecuteTime": {
     "end_time": "2018-11-21T15:52:27.990604Z",
     "start_time": "2018-11-21T15:52:27.981748Z"
    }
   },
   "outputs": [],
   "source": [
    "class Square(Rectangle):\n",
    "    \n",
    "    def __init__(self, side):\n",
    "        super().__init__(side, side)\n",
    "        \n",
    "    @property\n",
    "    def side(self):\n",
    "        return self._side"
   ]
  },
  {
   "cell_type": "code",
   "execution_count": 8,
   "metadata": {
    "ExecuteTime": {
     "end_time": "2018-11-21T15:52:28.023906Z",
     "start_time": "2018-11-21T15:52:28.006500Z"
    }
   },
   "outputs": [
    {
     "data": {
      "text/plain": [
       "9.0"
      ]
     },
     "execution_count": 8,
     "metadata": {},
     "output_type": "execute_result"
    }
   ],
   "source": [
    "square = Square(3.0)\n",
    "square.area()"
   ]
  },
  {
   "cell_type": "markdown",
   "metadata": {},
   "source": [
    "The class `Triangle` has `Shape` as a base class, but it doesn't implement the `area` method."
   ]
  },
  {
   "cell_type": "code",
   "execution_count": 9,
   "metadata": {
    "ExecuteTime": {
     "end_time": "2018-11-21T15:52:28.047476Z",
     "start_time": "2018-11-21T15:52:28.031270Z"
    }
   },
   "outputs": [],
   "source": [
    "class Triangle(Shape):\n",
    "    \n",
    "    def __init__(self, side):\n",
    "        self._side\n",
    "        \n",
    "    @property\n",
    "    def side(self):\n",
    "        return self._side"
   ]
  },
  {
   "cell_type": "markdown",
   "metadata": {},
   "source": [
    "Trying to instantiate `Triangle` will fail because it is an abstract class."
   ]
  },
  {
   "cell_type": "code",
   "execution_count": 10,
   "metadata": {
    "ExecuteTime": {
     "end_time": "2018-11-21T15:52:28.066080Z",
     "start_time": "2018-11-21T15:52:28.052363Z"
    }
   },
   "outputs": [
    {
     "name": "stderr",
     "output_type": "stream",
     "text": [
      "Traceback (most recent call last):\n",
      "  File \"<ipython-input-10-85ceabb7457a>\", line 2, in <module>\n",
      "    _ = Triangle(3.0)\n",
      "TypeError: Can't instantiate abstract class Triangle with abstract methods area\n"
     ]
    }
   ],
   "source": [
    "try:\n",
    "    _ = Triangle(3.0)\n",
    "except TypeError as error:\n",
    "    print_exc()"
   ]
  }
 ],
 "metadata": {
  "kernelspec": {
   "display_name": "Python 3",
   "language": "python",
   "name": "python3"
  },
  "language_info": {
   "codemirror_mode": {
    "name": "ipython",
    "version": 3
   },
   "file_extension": ".py",
   "mimetype": "text/x-python",
   "name": "python",
   "nbconvert_exporter": "python",
   "pygments_lexer": "ipython3",
   "version": "3.8.8"
  }
 },
 "nbformat": 4,
 "nbformat_minor": 4
}
