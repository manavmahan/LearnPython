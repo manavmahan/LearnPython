{
 "cells": [
  {
   "cell_type": "markdown",
   "metadata": {},
   "source": [
    "From a design perspective, deep hierarchies of classes can be cumbersome and make change a lot harder since the entire hierarchy has to be taken into account. Python offers a few mechanism to avoid this, and make the class desing leaner."
   ]
  },
  {
   "cell_type": "markdown",
   "metadata": {},
   "source": [
    "In order to ensure that all cells in this notebook can be evaluated without errors, we will use `try`-`except` to catch exceptions. To show the actual errors, we need to print the backtrace, hence the following import."
   ]
  },
  {
   "cell_type": "code",
   "execution_count": 1,
   "metadata": {},
   "outputs": [],
   "source": [
    "from traceback import print_exc"
   ]
  },
  {
   "cell_type": "markdown",
   "metadata": {},
   "source": [
    "# Duck typing"
   ]
  },
  {
   "cell_type": "markdown",
   "metadata": {},
   "source": [
    "The idea is that if classes implement object methods with the same signature and semantics, that functionality can be used, regardless of the relationship between the classes, if any. If it looks like a duck, swims like a duck and quacks like a duck, it is probably a duck."
   ]
  },
  {
   "cell_type": "markdown",
   "metadata": {},
   "source": [
    "We define two classes that serve completely different purposes.  The only thing they share is that they make a sound, and the relevant method for both is `make_sound`."
   ]
  },
  {
   "cell_type": "code",
   "execution_count": 2,
   "metadata": {},
   "outputs": [],
   "source": [
    "class Duck:\n",
    "       \n",
    "    _sound: str = 'quack'\n",
    "    species: str\n",
    "    \n",
    "    def make_sound(self):\n",
    "        return self._sound\n",
    "    \n",
    "    def __init__(self, species):\n",
    "        self.species = species"
   ]
  },
  {
   "cell_type": "code",
   "execution_count": 3,
   "metadata": {},
   "outputs": [],
   "source": [
    "class Timer:\n",
    "    \n",
    "    _sound: str = 'beep'\n",
    "    time: int\n",
    "    \n",
    "    def make_sound(self):\n",
    "        return self._sound\n",
    "    \n",
    "    def __init__(self, time):\n",
    "        self.time = time"
   ]
  },
  {
   "cell_type": "markdown",
   "metadata": {},
   "source": [
    "Next, we add and instance of each to a list."
   ]
  },
  {
   "cell_type": "code",
   "execution_count": 4,
   "metadata": {},
   "outputs": [],
   "source": [
    "stuff = [Duck('mandarin'), Timer(10)]"
   ]
  },
  {
   "cell_type": "markdown",
   "metadata": {},
   "source": [
    "We can iterate over the list, and regardless of the object's class, invoke the `make_sound` method."
   ]
  },
  {
   "cell_type": "code",
   "execution_count": 5,
   "metadata": {},
   "outputs": [
    {
     "name": "stdout",
     "output_type": "stream",
     "text": [
      "<class '__main__.Duck'> says quack\n",
      "<class '__main__.Timer'> says beep\n"
     ]
    }
   ],
   "source": [
    "for item in stuff:\n",
    "    print(f'{type(item)} says {item.make_sound()}')"
   ]
  },
  {
   "cell_type": "markdown",
   "metadata": {},
   "source": [
    "Note that the sound faculty of these classes is not derived from a common ancestor class by inheritance."
   ]
  },
  {
   "cell_type": "markdown",
   "metadata": {},
   "source": [
    "# Mix-in"
   ]
  },
  {
   "cell_type": "markdown",
   "metadata": {},
   "source": [
    "If the implementation of the common functionality is the same for a number of classes, it is worth defining a mix-in class that defines the implementation.  In the examples above, the `make_sound` method implementation is identical for the `Duck` and `Computer` class. Hence we can move the implementation to its own class `SoundMake`. Note that this class has no `__init__` method, and needs none."
   ]
  },
  {
   "cell_type": "code",
   "execution_count": 6,
   "metadata": {},
   "outputs": [],
   "source": [
    "class SoundMaker:\n",
    "    \n",
    "    def make_sound(self):\n",
    "        if hasattr(self, '_sound'):\n",
    "            return self._sound\n",
    "        else:\n",
    "            raise ValueError(f'{type(self)} does not make sound')"
   ]
  },
  {
   "cell_type": "markdown",
   "metadata": {},
   "source": [
    "The `Duck`, `Timer` and `Dog` classes now inherit from `SoundMaker`, but `Dog` doesn't define its sound attribute."
   ]
  },
  {
   "cell_type": "code",
   "execution_count": 7,
   "metadata": {},
   "outputs": [],
   "source": [
    "class Duck(SoundMaker):\n",
    "       \n",
    "    _sound: str = 'quack'\n",
    "    species: str\n",
    "    \n",
    "    def __init__(self, species):\n",
    "        self.species = species"
   ]
  },
  {
   "cell_type": "code",
   "execution_count": 8,
   "metadata": {},
   "outputs": [],
   "source": [
    "class Timer(SoundMaker):\n",
    "    \n",
    "    _sound: str = 'beep'\n",
    "    time: int\n",
    "    \n",
    "    def __init__(self, time):\n",
    "        self.time = time"
   ]
  },
  {
   "cell_type": "code",
   "execution_count": 9,
   "metadata": {},
   "outputs": [],
   "source": [
    "class Dog(SoundMaker):\n",
    "    \n",
    "    name: str\n",
    "        \n",
    "    def __init__(self, name):\n",
    "        self.name = name"
   ]
  },
  {
   "cell_type": "code",
   "execution_count": 10,
   "metadata": {},
   "outputs": [],
   "source": [
    "stuff = [Duck('mandarin'), Timer(5)]"
   ]
  },
  {
   "cell_type": "code",
   "execution_count": 11,
   "metadata": {},
   "outputs": [
    {
     "name": "stdout",
     "output_type": "stream",
     "text": [
      "<class '__main__.Duck'> says quack\n",
      "<class '__main__.Timer'> says beep\n"
     ]
    }
   ],
   "source": [
    "for item in stuff:\n",
    "    print(f'{type(item)} says {item.make_sound()}')"
   ]
  },
  {
   "cell_type": "markdown",
   "metadata": {},
   "source": [
    "Since the `Dog` has no `_sound`, the mix-in method raises an exception."
   ]
  },
  {
   "cell_type": "code",
   "execution_count": 12,
   "metadata": {},
   "outputs": [
    {
     "name": "stderr",
     "output_type": "stream",
     "text": [
      "Traceback (most recent call last):\n",
      "  File \"<ipython-input-12-1c825f3b7991>\", line 3, in <module>\n",
      "    print(dog.make_sound())\n",
      "  File \"<ipython-input-6-918cd6c589ba>\", line 7, in make_sound\n",
      "    raise ValueError(f'{type(self)} does not make sound')\n",
      "ValueError: <class '__main__.Dog'> does not make sound\n"
     ]
    }
   ],
   "source": [
    "dog = Dog('fido')\n",
    "try:\n",
    "    print(dog.make_sound())\n",
    "except ValueError as error:\n",
    "    print_exc()"
   ]
  }
 ],
 "metadata": {
  "kernelspec": {
   "display_name": "Python 3",
   "language": "python",
   "name": "python3"
  },
  "language_info": {
   "codemirror_mode": {
    "name": "ipython",
    "version": 3
   },
   "file_extension": ".py",
   "mimetype": "text/x-python",
   "name": "python",
   "nbconvert_exporter": "python",
   "pygments_lexer": "ipython3",
   "version": "3.9.5"
  }
 },
 "nbformat": 4,
 "nbformat_minor": 4
}
