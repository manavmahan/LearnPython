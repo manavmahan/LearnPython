{
 "cells": [
  {
   "cell_type": "markdown",
   "metadata": {
    "heading_collapsed": true
   },
   "source": [
    "# Import modules"
   ]
  },
  {
   "cell_type": "code",
   "execution_count": null,
   "metadata": {
    "ExecuteTime": {
     "end_time": "2018-06-25T16:12:27.530982Z",
     "start_time": "2018-06-25T16:12:27.510631Z"
    },
    "hidden": true
   },
   "outputs": [],
   "source": [
    "from math import sqrt, atan2, sin, cos, pi\n",
    "from traceback import print_exc"
   ]
  },
  {
   "cell_type": "markdown",
   "metadata": {
    "heading_collapsed": true
   },
   "source": [
    "# Simple class definitions"
   ]
  },
  {
   "cell_type": "markdown",
   "metadata": {
    "hidden": true
   },
   "source": [
    "Define a simple class that represents a point in two dimensions."
   ]
  },
  {
   "cell_type": "code",
   "execution_count": 2,
   "metadata": {
    "ExecuteTime": {
     "end_time": "2018-06-22T16:11:05.046573Z",
     "start_time": "2018-06-22T16:11:05.024786Z"
    },
    "hidden": true
   },
   "outputs": [],
   "source": [
    "class Point:\n",
    "    '''objects of this class represent points in a 2D space, e.g.,\n",
    "    p1 = Point()\n",
    "    p1.x, p1.y = 5.3, 7.4\n",
    "    print(p1.x, p1.y)\n",
    "    p2 = Point()\n",
    "    p2.x, p2.y = 3.1, 9.7\n",
    "    print(p1.distance(p2))\n",
    "    '''\n",
    "    \n",
    "    # object attributes\n",
    "    x: float\n",
    "    y: float\n",
    "        \n",
    "    def distance(self, other):\n",
    "        '''computes the distance between the point and another point\n",
    "        '''\n",
    "        return sqrt((self.x - other.x)**2 + (self.y - other.y)**2)"
   ]
  },
  {
   "cell_type": "markdown",
   "metadata": {
    "hidden": true
   },
   "source": [
    "A point has two attributes, its x and y coordinates. The function `distance_from_origin` is an object method, it will compute the point's distance to another point."
   ]
  },
  {
   "cell_type": "code",
   "execution_count": 3,
   "metadata": {
    "ExecuteTime": {
     "end_time": "2018-06-22T16:11:05.108513Z",
     "start_time": "2018-06-22T16:11:05.078479Z"
    },
    "hidden": true
   },
   "outputs": [],
   "source": [
    "p1 = Point()"
   ]
  },
  {
   "cell_type": "code",
   "execution_count": 4,
   "metadata": {
    "ExecuteTime": {
     "end_time": "2018-06-22T16:11:05.211104Z",
     "start_time": "2018-06-22T16:11:05.188239Z"
    },
    "hidden": true
   },
   "outputs": [],
   "source": [
    "p1.x, p1.y = 3.7, 5.3"
   ]
  },
  {
   "cell_type": "code",
   "execution_count": 5,
   "metadata": {
    "ExecuteTime": {
     "end_time": "2018-06-22T16:11:05.251074Z",
     "start_time": "2018-06-22T16:11:05.238430Z"
    },
    "hidden": true
   },
   "outputs": [],
   "source": [
    "p2 = Point()"
   ]
  },
  {
   "cell_type": "code",
   "execution_count": 6,
   "metadata": {
    "ExecuteTime": {
     "end_time": "2018-06-22T16:11:05.283833Z",
     "start_time": "2018-06-22T16:11:05.274626Z"
    },
    "hidden": true
   },
   "outputs": [],
   "source": [
    "p2.x, p2.y = 1.4, -7.9"
   ]
  },
  {
   "cell_type": "code",
   "execution_count": 7,
   "metadata": {
    "ExecuteTime": {
     "end_time": "2018-06-22T16:11:05.336729Z",
     "start_time": "2018-06-22T16:11:05.322940Z"
    },
    "hidden": true
   },
   "outputs": [
    {
     "name": "stdout",
     "output_type": "stream",
     "text": [
      "3.7 5.3\n",
      "1.4 -7.9\n"
     ]
    }
   ],
   "source": [
    "print(p1.x, p1.y)\n",
    "print(p2.x, p2.y)"
   ]
  },
  {
   "cell_type": "code",
   "execution_count": 8,
   "metadata": {
    "ExecuteTime": {
     "end_time": "2018-06-22T16:11:05.427395Z",
     "start_time": "2018-06-22T16:11:05.368166Z"
    },
    "hidden": true
   },
   "outputs": [
    {
     "data": {
      "text/plain": [
       "(13.398880550254935, 13.398880550254935)"
      ]
     },
     "execution_count": 8,
     "metadata": {},
     "output_type": "execute_result"
    }
   ],
   "source": [
    "p1.distance(p2), p2.distance(p1)"
   ]
  },
  {
   "cell_type": "markdown",
   "metadata": {
    "hidden": true
   },
   "source": [
    "However, this implementation is very brittle, e.g.,"
   ]
  },
  {
   "cell_type": "code",
   "execution_count": 9,
   "metadata": {
    "ExecuteTime": {
     "end_time": "2018-06-22T16:11:05.452522Z",
     "start_time": "2018-06-22T16:11:05.442795Z"
    },
    "hidden": true
   },
   "outputs": [],
   "source": [
    "p1.x = 'abc'"
   ]
  },
  {
   "cell_type": "markdown",
   "metadata": {
    "hidden": true
   },
   "source": [
    "Although the assignment succeeds, trouble looms down the road, potentially much later during the execution of your code, so that it will be hard to trace the root cause of the problem."
   ]
  },
  {
   "cell_type": "code",
   "execution_count": 10,
   "metadata": {
    "ExecuteTime": {
     "end_time": "2018-06-22T16:11:05.492703Z",
     "start_time": "2018-06-22T16:11:05.467295Z"
    },
    "hidden": true
   },
   "outputs": [
    {
     "name": "stderr",
     "output_type": "stream",
     "text": [
      "Traceback (most recent call last):\n",
      "  File \"<ipython-input-10-45b034ddfb48>\", line 2, in <module>\n",
      "    p1.distance(p2)\n",
      "  File \"<ipython-input-2-aea83951264c>\", line 18, in distance\n",
      "    return sqrt((self.x - other.x)**2 + (self.y - other.y)**2)\n",
      "TypeError: unsupported operand type(s) for -: 'str' and 'float'\n"
     ]
    }
   ],
   "source": [
    "try:\n",
    "    p1.distance(p2)\n",
    "except:\n",
    "    print_exc()"
   ]
  },
  {
   "cell_type": "markdown",
   "metadata": {
    "heading_collapsed": true
   },
   "source": [
    "# Accessing attributes: getters and setters"
   ]
  },
  {
   "cell_type": "markdown",
   "metadata": {
    "hidden": true
   },
   "source": [
    "The class defined below is much more robust. When an inappropriate value is assigned to one of the coordinates, a ValueError exception will immediately be raised.  Note that we renamed the object attributes to `_x` and `_y` respectively. By convention, this implies that users of the class should not access the attribute directly.  This is merely a convention though, and hence is not enforced by the Python interpreter."
   ]
  },
  {
   "cell_type": "code",
   "execution_count": 11,
   "metadata": {
    "ExecuteTime": {
     "end_time": "2018-06-22T16:11:05.576454Z",
     "start_time": "2018-06-22T16:11:05.521991Z"
    },
    "hidden": true,
    "scrolled": true
   },
   "outputs": [],
   "source": [
    "class Point:\n",
    "    '''objects of this class represent points in a 2D space, e.g.,\n",
    "    p1 = Point()\n",
    "    p1.x, p1.y = 5.3, 7.4\n",
    "    print(p1.x, p1.y)\n",
    "    p2 = Point()\n",
    "    p2.x, p2.y = 3.1, 9.7\n",
    "    print(p1.distance(p2))\n",
    "    '''\n",
    "\n",
    "    # object attributes\n",
    "    _x: float\n",
    "    _y: float\n",
    "    \n",
    "    @property\n",
    "    def x(self):\n",
    "        '''get the point's x coordinate\n",
    "        '''\n",
    "        return self._x\n",
    "    \n",
    "    @x.setter\n",
    "    def x(self, value):\n",
    "        '''set the point's x coordinate\n",
    "        '''\n",
    "        self._x = float(value)\n",
    "        \n",
    "    @property\n",
    "    def y(self):\n",
    "        '''get the point's y coordinate\n",
    "        '''\n",
    "        return self._y\n",
    "\n",
    "    @y.setter\n",
    "    def y(self, value):\n",
    "        '''\n",
    "        set the point's y coordinate\n",
    "        '''\n",
    "        self._y = float(value)\n",
    "\n",
    "    def distance(self, other):\n",
    "        '''\n",
    "        computes the distance between the point and another point\n",
    "        '''\n",
    "        return sqrt((self.x - other.x)**2 + (self.y - other.y)**2)"
   ]
  },
  {
   "cell_type": "code",
   "execution_count": 12,
   "metadata": {
    "ExecuteTime": {
     "end_time": "2018-06-22T16:11:05.612732Z",
     "start_time": "2018-06-22T16:11:05.588803Z"
    },
    "hidden": true
   },
   "outputs": [],
   "source": [
    "p1 = Point()\n",
    "p1.x = 3\n",
    "p1.y = 15.1"
   ]
  },
  {
   "cell_type": "code",
   "execution_count": 13,
   "metadata": {
    "ExecuteTime": {
     "end_time": "2018-06-22T16:11:05.654592Z",
     "start_time": "2018-06-22T16:11:05.634182Z"
    },
    "hidden": true
   },
   "outputs": [],
   "source": [
    "p2 = Point()\n",
    "p2.x = '2.9'\n",
    "p2.y = 5.2"
   ]
  },
  {
   "cell_type": "code",
   "execution_count": 14,
   "metadata": {
    "ExecuteTime": {
     "end_time": "2018-06-22T16:11:05.688518Z",
     "start_time": "2018-06-22T16:11:05.669928Z"
    },
    "hidden": true
   },
   "outputs": [
    {
     "name": "stdout",
     "output_type": "stream",
     "text": [
      "3.0 15.1 2.9 5.2\n"
     ]
    }
   ],
   "source": [
    "print(p1.x, p1.y, p2.x, p2.y)"
   ]
  },
  {
   "cell_type": "code",
   "execution_count": 15,
   "metadata": {
    "ExecuteTime": {
     "end_time": "2018-06-22T16:11:05.767132Z",
     "start_time": "2018-06-22T16:11:05.722772Z"
    },
    "hidden": true
   },
   "outputs": [
    {
     "name": "stderr",
     "output_type": "stream",
     "text": [
      "Traceback (most recent call last):\n",
      "  File \"<ipython-input-15-4ef6d68e114c>\", line 2, in <module>\n",
      "    p1.x = 'abc'\n",
      "  File \"<ipython-input-11-17941d33538e>\", line 25, in x\n",
      "    self._x = float(value)\n",
      "ValueError: could not convert string to float: 'abc'\n"
     ]
    }
   ],
   "source": [
    "try:\n",
    "    p1.x = 'abc'\n",
    "except:\n",
    "    print_exc()"
   ]
  },
  {
   "cell_type": "markdown",
   "metadata": {
    "hidden": true
   },
   "source": [
    "Although this statement will still raise an error, it is much more informative, since the stack trace points to the actual culprit, i.e., the assignment to the x coordinate, rather than putting the blame on the `distance` method."
   ]
  },
  {
   "cell_type": "markdown",
   "metadata": {
    "heading_collapsed": true
   },
   "source": [
    "# Constructor and string representation"
   ]
  },
  {
   "cell_type": "markdown",
   "metadata": {
    "hidden": true
   },
   "source": [
    "It would be convenient to immediately specify a point's coordinates when it is created. The method `__init__` will be automatically called when a new `Point` object is created, and can be used to initialize the new object's attributes `_x` and `_y`."
   ]
  },
  {
   "cell_type": "code",
   "execution_count": 16,
   "metadata": {
    "ExecuteTime": {
     "end_time": "2018-06-22T16:11:05.891915Z",
     "start_time": "2018-06-22T16:11:05.806093Z"
    },
    "hidden": true,
    "scrolled": true
   },
   "outputs": [],
   "source": [
    "class Point:\n",
    "    '''objects of this class represent points in a 2D space, e.g.,\n",
    "    p1 = Point(5.3, 7.4)\n",
    "    print(p1.x, p1.y)\n",
    "    p2 = Point(3.1, 9.7)\n",
    "    print(p2)\n",
    "    print(p1.distance(p2))\n",
    "    '''\n",
    "    \n",
    "    # object attributes\n",
    "    _x: float\n",
    "    _y: float\n",
    "    \n",
    "    def __init__(self, x, y):\n",
    "        '''constructs a point with the given coordinates\n",
    "            x: float representing the x coordinate\n",
    "            y: float representing the y coordinate\n",
    "        '''\n",
    "        self.x = x\n",
    "        self.y = y\n",
    "        \n",
    "    @property\n",
    "    def x(self):\n",
    "        '''get the point's x coordinate\n",
    "        '''\n",
    "        return self._x\n",
    "    \n",
    "    @x.setter\n",
    "    def x(self, value):\n",
    "        '''set the point's x coordinate\n",
    "        '''\n",
    "        self._x = float(value)\n",
    "        \n",
    "    @property\n",
    "    def y(self):\n",
    "        '''get the point's y coordinate\n",
    "        '''\n",
    "        return self._y\n",
    "\n",
    "    @y.setter\n",
    "    def y(self, value):\n",
    "        '''set the point's y coordinate\n",
    "        '''\n",
    "        self._y = float(value)\n",
    "    \n",
    "    def distance(self, other):\n",
    "        '''computes the distance between the point and another point\n",
    "        '''\n",
    "        return sqrt((self.x - other.x)**2 + (self.y - other.y)**2)\n",
    "    \n",
    "    def __repr__(self):\n",
    "        '''get the point's string representation\n",
    "        '''\n",
    "        return f'({self.x}, {self.y})'"
   ]
  },
  {
   "cell_type": "markdown",
   "metadata": {
    "hidden": true
   },
   "source": [
    "Also note the `__repr__` method that returns a string representation of the `Point` object."
   ]
  },
  {
   "cell_type": "code",
   "execution_count": 17,
   "metadata": {
    "ExecuteTime": {
     "end_time": "2018-06-22T16:11:05.930640Z",
     "start_time": "2018-06-22T16:11:05.914978Z"
    },
    "hidden": true
   },
   "outputs": [],
   "source": [
    "p1 = Point(3.4, 9.2)\n",
    "p2 = Point(5.6, 7.3)"
   ]
  },
  {
   "cell_type": "code",
   "execution_count": 18,
   "metadata": {
    "ExecuteTime": {
     "end_time": "2018-06-22T16:11:05.990493Z",
     "start_time": "2018-06-22T16:11:05.981748Z"
    },
    "hidden": true
   },
   "outputs": [
    {
     "name": "stdout",
     "output_type": "stream",
     "text": [
      "(3.4, 9.2) (5.6, 7.3)\n"
     ]
    }
   ],
   "source": [
    "print(p1, p2)"
   ]
  },
  {
   "cell_type": "markdown",
   "metadata": {
    "heading_collapsed": true
   },
   "source": [
    "# Non-basic getters/setters"
   ]
  },
  {
   "cell_type": "markdown",
   "metadata": {
    "hidden": true
   },
   "source": [
    "`x` and `y` are the getters/setters for the basic attributes of the point.  However, it may be convenient to define getters and setters for non-basic attributes.  For instance, it may be convenient to access the coordiantes as a tuple, rather than by individual component."
   ]
  },
  {
   "cell_type": "code",
   "execution_count": 19,
   "metadata": {
    "ExecuteTime": {
     "end_time": "2018-06-22T16:11:06.252531Z",
     "start_time": "2018-06-22T16:11:06.064332Z"
    },
    "hidden": true,
    "scrolled": true
   },
   "outputs": [],
   "source": [
    "class Point:\n",
    "    '''objects of this class represent points in a 2D space, e.g.,\n",
    "    p1 = Point(5.3, 7.4)\n",
    "    print(p1.x, p1.y)\n",
    "    p2 = Point(3.1, 9.7)\n",
    "    print(p2)\n",
    "    print(p1.distance(p2))\n",
    "    '''\n",
    "    \n",
    "    # object attributes\n",
    "    _x: float\n",
    "    _y: float\n",
    "    \n",
    "    def __init__(self, x, y):\n",
    "        '''constructs a point with the given coordinates\n",
    "            x: float representing the x coordinate\n",
    "            y: float representing the y coordinate\n",
    "        '''\n",
    "        self.x = x\n",
    "        self.y = y\n",
    "        \n",
    "    @property\n",
    "    def x(self):\n",
    "        '''get the point's x coordinate\n",
    "        '''\n",
    "        return self._x\n",
    "    \n",
    "    @x.setter\n",
    "    def x(self, value):\n",
    "        '''set the point's x coordinate\n",
    "        '''\n",
    "        self._x = float(value)\n",
    "        \n",
    "    @property\n",
    "    def y(self):\n",
    "        '''get the point's y coordinate\n",
    "        '''\n",
    "        return self._y\n",
    "\n",
    "    @y.setter\n",
    "    def y(self, value):\n",
    "        '''set the point's y coordinate\n",
    "        '''\n",
    "        self._y = float(value)\n",
    "  \n",
    "    @property\n",
    "    def coords(self):\n",
    "        '''get the point's coordinates\n",
    "          returns tuple of 2 float values\n",
    "        '''\n",
    "        return self.x, self.y\n",
    "    \n",
    "    @coords.setter\n",
    "    def coords(self, value):\n",
    "        '''set the point's coordinates\n",
    "          coords: tuple of 2 float values\n",
    "        '''\n",
    "        self.x, self.y = value\n",
    "\n",
    "    @property\n",
    "    def polar_coords(self):\n",
    "        '''get the point's polar coordinates\n",
    "          returns tuple of 2 float values as (r, theta)\n",
    "        '''\n",
    "        return sqrt(self.x**2 + self.y**2), atan2(self.y, self.x)\n",
    "        \n",
    "    @polar_coords.setter\n",
    "    def polar_coords(self, value):\n",
    "        self.x = value[0]*cos(value[1])\n",
    "        self.y = value[0]*sin(value[1])\n",
    "        \n",
    "    def distance(self, other):\n",
    "        '''computes the distance between the point and another point\n",
    "        '''\n",
    "        return sqrt((self.x - other.x)**2 + (self.y - other.y)**2)\n",
    "    \n",
    "    def __repr__(self):\n",
    "        '''get the point's string representation\n",
    "        '''\n",
    "        return f'({self.x}, {self.y})'"
   ]
  },
  {
   "cell_type": "markdown",
   "metadata": {
    "hidden": true
   },
   "source": [
    "We also added a getter and setter for a point's polar coordinates, these are computed from `x` and `y` in the getter, while the carthesian coordinates are computed from the given polar coordinates in the setter."
   ]
  },
  {
   "cell_type": "code",
   "execution_count": 20,
   "metadata": {
    "ExecuteTime": {
     "end_time": "2018-06-22T16:11:06.320124Z",
     "start_time": "2018-06-22T16:11:06.284548Z"
    },
    "hidden": true
   },
   "outputs": [],
   "source": [
    "p = Point(1.0, 3.0)"
   ]
  },
  {
   "cell_type": "code",
   "execution_count": 21,
   "metadata": {
    "ExecuteTime": {
     "end_time": "2018-06-22T16:11:06.382979Z",
     "start_time": "2018-06-22T16:11:06.353550Z"
    },
    "hidden": true
   },
   "outputs": [
    {
     "data": {
      "text/plain": [
       "(3.1622776601683795, 1.2490457723982544)"
      ]
     },
     "execution_count": 21,
     "metadata": {},
     "output_type": "execute_result"
    }
   ],
   "source": [
    "p.polar_coords"
   ]
  },
  {
   "cell_type": "code",
   "execution_count": 22,
   "metadata": {
    "ExecuteTime": {
     "end_time": "2018-06-22T16:11:06.433875Z",
     "start_time": "2018-06-22T16:11:06.416958Z"
    },
    "hidden": true
   },
   "outputs": [],
   "source": [
    "p.polar_coords = 2.0, pi/4"
   ]
  },
  {
   "cell_type": "code",
   "execution_count": 23,
   "metadata": {
    "ExecuteTime": {
     "end_time": "2018-06-22T16:11:06.551877Z",
     "start_time": "2018-06-22T16:11:06.493123Z"
    },
    "hidden": true
   },
   "outputs": [
    {
     "data": {
      "text/plain": [
       "(1.4142135623730951, 1.414213562373095)"
      ]
     },
     "execution_count": 23,
     "metadata": {},
     "output_type": "execute_result"
    }
   ],
   "source": [
    "p.coords"
   ]
  },
  {
   "cell_type": "markdown",
   "metadata": {
    "heading_collapsed": true
   },
   "source": [
    "# Interface versus implementation"
   ]
  },
  {
   "cell_type": "markdown",
   "metadata": {
    "hidden": true
   },
   "source": [
    "If a class is well-defined, its implementation can be changed without a user of the class having to make changes to her code.  Note that the setters for the individual attribues `x` and `y` have been removed."
   ]
  },
  {
   "cell_type": "code",
   "execution_count": 24,
   "metadata": {
    "ExecuteTime": {
     "end_time": "2018-06-25T16:31:10.271709Z",
     "start_time": "2018-06-25T16:31:10.232112Z"
    },
    "hidden": true,
    "scrolled": true
   },
   "outputs": [],
   "source": [
    "class Point:\n",
    "    '''objects of this class represent points in a 2D space, e.g.,\n",
    "    p1 = Point(5.3, 7.4)\n",
    "    print(p1.x, p1.y)\n",
    "    p2 = Point(3.1, 9.7)\n",
    "    print(p2)\n",
    "    print(p1.distance(p2))\n",
    "    '''\n",
    "    \n",
    "    # object attributes\n",
    "    _x: float\n",
    "    _y: float\n",
    "    \n",
    "    def __init__(self, coord1, coord2, polar=False):\n",
    "        '''constructs a point with the given coordinates\n",
    "            coord1: float representing the x coordinate, or r\n",
    "            coord2: float representing the y coordinate, or theta\n",
    "            polar: bool indicating whether the coordiantes are polar,\n",
    "                   False by default\n",
    "        '''\n",
    "        coord1, coord2 = float(coord1), float(coord2)\n",
    "        if polar:\n",
    "            self._x, self._y = Point._convert_to_carthesian(coord1, coord2)\n",
    "        else:\n",
    "            self._x, self._y = coord1, coord2\n",
    "        \n",
    "    @property\n",
    "    def x(self):\n",
    "        '''get the point's x coordinate\n",
    "        '''\n",
    "        return self._x\n",
    "    \n",
    "    @property\n",
    "    def y(self):\n",
    "        '''get the point's y coordinate\n",
    "        '''\n",
    "        return self._y\n",
    "\n",
    "    @property\n",
    "    def coords(self):\n",
    "        '''get the point's coordinates\n",
    "          returns tuple of 2 float values\n",
    "        '''\n",
    "        return self.x, self.y\n",
    "    \n",
    "    @coords.setter\n",
    "    def coords(self, value):\n",
    "        '''set the point's coordinates\n",
    "          coords: tuple of 2 float values\n",
    "        '''\n",
    "        self._x, self._y = float(value[0]), float(value[1])\n",
    "\n",
    "    @property\n",
    "    def r(self):\n",
    "        '''get the point's radial coordinate\n",
    "        '''\n",
    "        return sqrt(self.x**2 + self.y**2)\n",
    "    \n",
    "    @property\n",
    "    def theta(self):\n",
    "        '''get the point's angular coordinate\n",
    "        '''\n",
    "        return atan2(self.y, self.x)\n",
    "    \n",
    "    @property\n",
    "    def polar_coords(self):\n",
    "        '''get the point's polar coordinates\n",
    "          returns tuple of 2 float values as (r, theta)\n",
    "        '''\n",
    "        return sqrt(self.x**2 + self.y**2), atan2(self.y, self.x)\n",
    "    \n",
    "    def _convert_to_carthesian(r, theta):\n",
    "        return r*cos(theta), r*sin(theta)\n",
    "    \n",
    "    @polar_coords.setter\n",
    "    def polar_coords(self, value):\n",
    "        self._x, self._y = Point._convert_to_carthesian(float(value[0]), float(value[1])) \n",
    "        \n",
    "    def distance(self, other):\n",
    "        '''computes the distance between the point and another point\n",
    "        '''\n",
    "        return sqrt((self.x - other.x)**2 + (self.y - other.y)**2)\n",
    "    \n",
    "    def __repr__(self):\n",
    "        '''get the point's string representation\n",
    "        '''\n",
    "        return f'({self.x}, {self.y})'"
   ]
  },
  {
   "cell_type": "code",
   "execution_count": 25,
   "metadata": {
    "ExecuteTime": {
     "end_time": "2018-06-22T16:11:06.721811Z",
     "start_time": "2018-06-22T16:11:06.700288Z"
    },
    "hidden": true
   },
   "outputs": [],
   "source": [
    "p = Point(1.0, 3.0)"
   ]
  },
  {
   "cell_type": "code",
   "execution_count": 26,
   "metadata": {
    "ExecuteTime": {
     "end_time": "2018-06-22T16:11:06.753740Z",
     "start_time": "2018-06-22T16:11:06.737765Z"
    },
    "hidden": true
   },
   "outputs": [
    {
     "data": {
      "text/plain": [
       "(3.1622776601683795, 1.2490457723982544)"
      ]
     },
     "execution_count": 26,
     "metadata": {},
     "output_type": "execute_result"
    }
   ],
   "source": [
    "p.polar_coords"
   ]
  },
  {
   "cell_type": "code",
   "execution_count": 27,
   "metadata": {
    "ExecuteTime": {
     "end_time": "2018-06-22T16:11:06.798763Z",
     "start_time": "2018-06-22T16:11:06.786323Z"
    },
    "hidden": true
   },
   "outputs": [],
   "source": [
    "p.polar_coords = 2.0, pi/4"
   ]
  },
  {
   "cell_type": "code",
   "execution_count": 28,
   "metadata": {
    "ExecuteTime": {
     "end_time": "2018-06-22T16:11:06.854409Z",
     "start_time": "2018-06-22T16:11:06.832989Z"
    },
    "hidden": true
   },
   "outputs": [
    {
     "data": {
      "text/plain": [
       "(1.4142135623730951, 1.414213562373095)"
      ]
     },
     "execution_count": 28,
     "metadata": {},
     "output_type": "execute_result"
    }
   ],
   "source": [
    "p.coords"
   ]
  },
  {
   "cell_type": "markdown",
   "metadata": {
    "hidden": true
   },
   "source": [
    "We can now transparently change the implementation of the class, e.g., by storing the coordinates of a point as polar, rather than carthesian coordinates."
   ]
  },
  {
   "cell_type": "code",
   "execution_count": 29,
   "metadata": {
    "ExecuteTime": {
     "end_time": "2018-06-25T16:31:21.191740Z",
     "start_time": "2018-06-25T16:31:21.127902Z"
    },
    "hidden": true,
    "scrolled": true
   },
   "outputs": [],
   "source": [
    "class Point:\n",
    "    '''objects of this class represent points in a 2D space, e.g.,\n",
    "    p1 = Point(5.3, 7.4)\n",
    "    print(p1.x, p1.y)\n",
    "    p2 = Point(3.1, 9.7)\n",
    "    print(p2)\n",
    "    print(p1.distance(p2))\n",
    "    '''\n",
    "    \n",
    "    # object attributes\n",
    "    _r: float\n",
    "    _theta: float\n",
    "    \n",
    "    def __init__(self, coord1, coord2, polar=False):\n",
    "        '''constructs a point with the given coordinates\n",
    "            coord1: float representing the x coordinate, or r\n",
    "            coord2: float representing the y coordinate, or theta\n",
    "            polar: bool indicating whether the coordiantes are polar,\n",
    "                   False by default\n",
    "        '''\n",
    "        coord1, coord2 = float(coord1), float(coord2)\n",
    "        if not polar:\n",
    "            self._r, self._theta = Point._convert_to_polar(coord1, coord2)\n",
    "        else:\n",
    "            self._r, self._theta = coord1, coord2\n",
    "        \n",
    "    @property\n",
    "    def x(self):\n",
    "        '''get the point's x coordinate\n",
    "        '''\n",
    "        return self._r*cos(self._theta)\n",
    "    \n",
    "    @property\n",
    "    def y(self):\n",
    "        '''get the point's y coordinate\n",
    "        '''\n",
    "        return self._r*sin(self._theta)\n",
    "\n",
    "    @property\n",
    "    def coords(self):\n",
    "        '''get the point's coordinates\n",
    "          returns tuple of 2 float values\n",
    "        '''\n",
    "        return self.x, self.y\n",
    "    \n",
    "    @coords.setter\n",
    "    def coords(self, value):\n",
    "        '''set the point's coordinates\n",
    "          coords: tuple of 2 float values\n",
    "        '''\n",
    "        self._r, self._theta = Point._convert_to_polar(float(value[0]), float(value[1]))\n",
    "\n",
    "    @property\n",
    "    def r(self):\n",
    "        '''get the point's radial coordinate\n",
    "        '''\n",
    "        return self._r\n",
    "    \n",
    "    @property\n",
    "    def theta(self):\n",
    "        '''get the point's angular coordinate\n",
    "        '''\n",
    "        return self._theta\n",
    "    \n",
    "    @property\n",
    "    def polar_coords(self):\n",
    "        '''get the point's polar coordinates\n",
    "          returns tuple of 2 float values as (r, theta)\n",
    "        '''\n",
    "        return self.r, self.theta\n",
    "    \n",
    "    def _convert_to_polar(x, y):\n",
    "        return sqrt(x**2 + y**2), atan2(y, x)\n",
    "    \n",
    "    @polar_coords.setter\n",
    "    def polar_coords(self, value):\n",
    "        self._r, self._theta = float(value[0]), float(value[1])\n",
    "        \n",
    "    def distance(self, other):\n",
    "        '''computes the distance between the point and another point\n",
    "        '''\n",
    "        return sqrt((self.x - other.x)**2 + (self.y - other.y)**2)\n",
    "    \n",
    "    def __repr__(self):\n",
    "        '''get the point's string representation\n",
    "        '''\n",
    "        return f'({self.x}, {self.y})'"
   ]
  },
  {
   "cell_type": "code",
   "execution_count": 30,
   "metadata": {
    "ExecuteTime": {
     "end_time": "2018-06-22T16:11:07.067650Z",
     "start_time": "2018-06-22T16:11:07.029771Z"
    },
    "hidden": true
   },
   "outputs": [],
   "source": [
    "p = Point(1.0, 3.0)"
   ]
  },
  {
   "cell_type": "code",
   "execution_count": 31,
   "metadata": {
    "ExecuteTime": {
     "end_time": "2018-06-22T16:11:07.185228Z",
     "start_time": "2018-06-22T16:11:07.148324Z"
    },
    "hidden": true
   },
   "outputs": [
    {
     "data": {
      "text/plain": [
       "(3.1622776601683795, 1.2490457723982544)"
      ]
     },
     "execution_count": 31,
     "metadata": {},
     "output_type": "execute_result"
    }
   ],
   "source": [
    "p.polar_coords"
   ]
  },
  {
   "cell_type": "code",
   "execution_count": 32,
   "metadata": {
    "ExecuteTime": {
     "end_time": "2018-06-22T16:11:07.301001Z",
     "start_time": "2018-06-22T16:11:07.280205Z"
    },
    "hidden": true
   },
   "outputs": [],
   "source": [
    "p.polar_coords = 2.0, pi/4"
   ]
  },
  {
   "cell_type": "code",
   "execution_count": 33,
   "metadata": {
    "ExecuteTime": {
     "end_time": "2018-06-22T16:11:07.407503Z",
     "start_time": "2018-06-22T16:11:07.380539Z"
    },
    "hidden": true
   },
   "outputs": [
    {
     "data": {
      "text/plain": [
       "(1.4142135623730951, 1.414213562373095)"
      ]
     },
     "execution_count": 33,
     "metadata": {},
     "output_type": "execute_result"
    }
   ],
   "source": [
    "p.coords"
   ]
  },
  {
   "cell_type": "markdown",
   "metadata": {
    "heading_collapsed": true
   },
   "source": [
    "# Inheritance"
   ]
  },
  {
   "cell_type": "markdown",
   "metadata": {
    "hidden": true
   },
   "source": [
    "The `Point` class can be extended to represent point masses. One option would be to modifies `Point`'s definition to include and extra object attribute, and add relevant methods to the class. However, that would potentially break existing software, or at least add unnecessary complexity when using `Point` objects.  The better option is to define a new class that inherits attributes and methods from `Point`, but adds the specific logic to represent points that have mass."
   ]
  },
  {
   "cell_type": "code",
   "execution_count": 34,
   "metadata": {
    "ExecuteTime": {
     "end_time": "2018-06-22T16:11:07.477636Z",
     "start_time": "2018-06-22T16:11:07.445920Z"
    },
    "hidden": true
   },
   "outputs": [],
   "source": [
    "class PointMass(Point):\n",
    "    '''objects of this class represent points in a 2D space, e.g.,\n",
    "    p1 = PointMass(5.3, 7.4, 1.3)\n",
    "    print(p1.x, p1.y, p1.mass)\n",
    "    p2 = Point(3.1, 9.7, 0.9)\n",
    "    print(p2)\n",
    "    print(p1.distance(p2))\n",
    "    '''\n",
    "    \n",
    "    # object attributes\n",
    "    _mass: float\n",
    "        \n",
    "    def __init__(self, x, y, mass):\n",
    "        '''constructs a point with the given coordinates and mass\n",
    "            x: float representing the x coordinate\n",
    "            y: float representing the y coordinate\n",
    "            mass: float representing the mass\n",
    "        '''\n",
    "        super().__init__(x, y)\n",
    "        self.mass = mass\n",
    "        \n",
    "    @property\n",
    "    def mass(self):\n",
    "        '''get the point's mass\n",
    "        '''\n",
    "        return self._mass\n",
    "    \n",
    "    @mass.setter\n",
    "    def mass(self, value):\n",
    "        '''set the point's mass\n",
    "        '''\n",
    "        self._mass = float(value)\n",
    "        \n",
    "    def __repr__(self):\n",
    "        '''get the point's string representation\n",
    "        '''\n",
    "        return f'{super().__repr__()}: {self.mass}'"
   ]
  },
  {
   "cell_type": "markdown",
   "metadata": {
    "hidden": true
   },
   "source": [
    "The `PointMass` class add the `_mass` attributes and its getter and setter, and has its own construvtor that calls `Point`'s constructor.  Similarly, the `__repr__` method uses the one defined in `Point` to generate part of the string representation for a `PointMass` object."
   ]
  },
  {
   "cell_type": "code",
   "execution_count": 35,
   "metadata": {
    "ExecuteTime": {
     "end_time": "2018-06-22T16:11:07.508544Z",
     "start_time": "2018-06-22T16:11:07.489854Z"
    },
    "hidden": true
   },
   "outputs": [],
   "source": [
    "p1 = PointMass(1.0, 3.0, 2.0)\n",
    "p2 = PointMass(-2.0, 1.0, 3.0)"
   ]
  },
  {
   "cell_type": "markdown",
   "metadata": {
    "hidden": true
   },
   "source": [
    "All methods defined for `Point` objects work for `PointMass` objects."
   ]
  },
  {
   "cell_type": "code",
   "execution_count": 36,
   "metadata": {
    "ExecuteTime": {
     "end_time": "2018-06-22T16:11:07.601402Z",
     "start_time": "2018-06-22T16:11:07.574282Z"
    },
    "hidden": true
   },
   "outputs": [
    {
     "data": {
      "text/plain": [
       "3.605551275463989"
      ]
     },
     "execution_count": 36,
     "metadata": {},
     "output_type": "execute_result"
    }
   ],
   "source": [
    "p1.distance(p2)"
   ]
  },
  {
   "cell_type": "code",
   "execution_count": 37,
   "metadata": {
    "ExecuteTime": {
     "end_time": "2018-06-22T16:11:07.666555Z",
     "start_time": "2018-06-22T16:11:07.652872Z"
    },
    "hidden": true
   },
   "outputs": [
    {
     "name": "stdout",
     "output_type": "stream",
     "text": [
      "(1.0, 3.0): 2.0\n"
     ]
    }
   ],
   "source": [
    "print(p1)"
   ]
  },
  {
   "cell_type": "markdown",
   "metadata": {
    "hidden": true
   },
   "source": [
    "Type information on objects is fairly straightforward using the `type` and `instanceof` functions."
   ]
  },
  {
   "cell_type": "code",
   "execution_count": 38,
   "metadata": {
    "ExecuteTime": {
     "end_time": "2018-06-22T16:11:07.727370Z",
     "start_time": "2018-06-22T16:11:07.710020Z"
    },
    "hidden": true
   },
   "outputs": [],
   "source": [
    "p1 = Point(3.4, 5.2)\n",
    "p2 = PointMass(1.9, 2.3, 0.7)"
   ]
  },
  {
   "cell_type": "code",
   "execution_count": 39,
   "metadata": {
    "ExecuteTime": {
     "end_time": "2018-06-22T16:11:07.780298Z",
     "start_time": "2018-06-22T16:11:07.761242Z"
    },
    "hidden": true
   },
   "outputs": [
    {
     "name": "stdout",
     "output_type": "stream",
     "text": [
      "<class '__main__.Point'> <class '__main__.PointMass'>\n"
     ]
    }
   ],
   "source": [
    "print(type(p1), type(p2))"
   ]
  },
  {
   "cell_type": "code",
   "execution_count": 40,
   "metadata": {
    "ExecuteTime": {
     "end_time": "2018-06-22T16:11:07.820026Z",
     "start_time": "2018-06-22T16:11:07.806036Z"
    },
    "hidden": true
   },
   "outputs": [
    {
     "name": "stdout",
     "output_type": "stream",
     "text": [
      "True False True True\n"
     ]
    }
   ],
   "source": [
    "print(isinstance(p1, Point), isinstance(p1, PointMass),\n",
    "      isinstance(p2, Point), isinstance(p2, PointMass))"
   ]
  },
  {
   "cell_type": "markdown",
   "metadata": {
    "hidden": true
   },
   "source": [
    "As expected, `p1` is a `Point`, but not a `PointMass`, while `p2` is both a `PointMass` and a `Point` since by definition each `PointMass` is a `Point`.  `Point` is `PointMass` base class, while `PointMass` is a class derived from `Point`."
   ]
  },
  {
   "cell_type": "markdown",
   "metadata": {
    "heading_collapsed": true
   },
   "source": [
    "# Static and class methods, class attributes"
   ]
  },
  {
   "cell_type": "markdown",
   "metadata": {
    "hidden": true
   },
   "source": [
    "The `total_mass` and `center_of_mass` methods operate on collections of point masses, not on individual objects.  Hence they are defined as static and class method respectively.  `center_of_mass` is a class methods, since it needs a reference to the class to call `total_mass`."
   ]
  },
  {
   "cell_type": "code",
   "execution_count": 41,
   "metadata": {
    "ExecuteTime": {
     "end_time": "2018-06-25T16:30:38.404999Z",
     "start_time": "2018-06-25T16:30:38.337936Z"
    },
    "hidden": true
   },
   "outputs": [],
   "source": [
    "class PointMass(Point):\n",
    "    '''objects of this class represent points in a 2D space, e.g.,\n",
    "    p1 = PointMass(5.3, 7.4, 1.3)\n",
    "    print(p1.x, p1.y, p1.mass)\n",
    "    p2 = Point(3.1, 9.7, 0.9)\n",
    "    print(p2)\n",
    "    print(p1.distance(p2))\n",
    "    '''\n",
    "    \n",
    "    # object attributes\n",
    "    _mass: float\n",
    "        \n",
    "    def __init__(self, x, y, mass):\n",
    "        '''constructs a point with the given coordinates and mass\n",
    "            x: float representing the x coordinate\n",
    "            y: float representing the y coordinate\n",
    "            mass: float representing the mass\n",
    "        '''\n",
    "        super().__init__(x, y)\n",
    "        self.mass = mass\n",
    "        \n",
    "    @property\n",
    "    def mass(self):\n",
    "        '''get the point's mass\n",
    "        '''\n",
    "        return self._mass\n",
    "    \n",
    "    @mass.setter\n",
    "    def mass(self, value):\n",
    "        '''set the point's mass\n",
    "        '''\n",
    "        self._mass = float(value)\n",
    "   \n",
    "    @staticmethod\n",
    "    def total_mass(points):\n",
    "        mass = 0.0\n",
    "        for point in points:\n",
    "            mass += point.mass\n",
    "        return mass\n",
    "    \n",
    "    @classmethod\n",
    "    def center_of_mass(cls, points):\n",
    "        x, y = 0.0, 0.0\n",
    "        for point in points:\n",
    "            x += point.mass*point.x\n",
    "            y += point.mass*point.y\n",
    "        mass = cls.total_mass(points)\n",
    "        return x/mass, y/mass\n",
    "        \n",
    "    def __repr__(self):\n",
    "        '''get the point's string representation\n",
    "        '''\n",
    "        return f'{super().__repr__()}: {self.mass}'"
   ]
  },
  {
   "cell_type": "code",
   "execution_count": 42,
   "metadata": {
    "ExecuteTime": {
     "end_time": "2018-06-22T16:12:42.624794Z",
     "start_time": "2018-06-22T16:12:42.613079Z"
    },
    "hidden": true
   },
   "outputs": [],
   "source": [
    "p1 = PointMass(1.5, 2.0, 0.5)\n",
    "p2 = PointMass(-0.5, 1.0, 2.0)"
   ]
  },
  {
   "cell_type": "code",
   "execution_count": 43,
   "metadata": {
    "ExecuteTime": {
     "end_time": "2018-06-22T16:12:44.445778Z",
     "start_time": "2018-06-22T16:12:44.424895Z"
    },
    "hidden": true
   },
   "outputs": [
    {
     "data": {
      "text/plain": [
       "2.5"
      ]
     },
     "execution_count": 43,
     "metadata": {},
     "output_type": "execute_result"
    }
   ],
   "source": [
    "PointMass.total_mass([p1, p2])"
   ]
  },
  {
   "cell_type": "code",
   "execution_count": 44,
   "metadata": {
    "ExecuteTime": {
     "end_time": "2018-06-22T16:12:49.298275Z",
     "start_time": "2018-06-22T16:12:49.267956Z"
    },
    "hidden": true
   },
   "outputs": [
    {
     "data": {
      "text/plain": [
       "(-0.09999999999999995, 1.2)"
      ]
     },
     "execution_count": 44,
     "metadata": {},
     "output_type": "execute_result"
    }
   ],
   "source": [
    "PointMass.center_of_mass([p1, p2])"
   ]
  },
  {
   "cell_type": "markdown",
   "metadata": {
    "hidden": true
   },
   "source": [
    "Suppose we would like each point mass to have a unique identifier.  This can be accomplished if we can keep track of the number of instanciated objects, and use that number as the ID of a newly created one."
   ]
  },
  {
   "cell_type": "code",
   "execution_count": 45,
   "metadata": {
    "ExecuteTime": {
     "end_time": "2018-06-22T16:12:56.905329Z",
     "start_time": "2018-06-22T16:12:56.869532Z"
    },
    "hidden": true
   },
   "outputs": [],
   "source": [
    "class PointMass(Point):\n",
    "    '''objects of this class represent points in a 2D space, e.g.,\n",
    "    p1 = PointMass(5.3, 7.4, 1.3)\n",
    "    print(p1.x, p1.y, p1.mass)\n",
    "    p2 = Point(3.1, 9.7, 0.9)\n",
    "    print(p2)\n",
    "    print(p1.distance(p2))\n",
    "    '''\n",
    "    \n",
    "    # class attribute\n",
    "    _id_state = 0\n",
    "    # object attributes\n",
    "    _mass: float\n",
    "    _id: int\n",
    "        \n",
    "    def __init__(self, x, y, mass):\n",
    "        '''constructs a point with the given coordinates and mass\n",
    "            x: float representing the x coordinate\n",
    "            y: float representing the y coordinate\n",
    "            mass: float representing the mass\n",
    "        '''\n",
    "        super().__init__(x, y)\n",
    "        self.mass = mass\n",
    "        self._id = self.__class__._id_state\n",
    "        self.__class__._id_state += 1\n",
    "        \n",
    "    @property\n",
    "    def id(self):\n",
    "        '''get the point's ID\n",
    "        '''\n",
    "        return self._id\n",
    "    \n",
    "    @property\n",
    "    def mass(self):\n",
    "        '''get the point's mass\n",
    "        '''\n",
    "        return self._mass\n",
    "    \n",
    "    @mass.setter\n",
    "    def mass(self, value):\n",
    "        '''set the point's mass\n",
    "        '''\n",
    "        self._mass = float(value)\n",
    "   \n",
    "    @staticmethod\n",
    "    def total_mass(points):\n",
    "        mass = 0.0\n",
    "        for point in points:\n",
    "            mass += point.mass\n",
    "        return mass\n",
    "    \n",
    "    @classmethod\n",
    "    def center_of_mass(cls, points):\n",
    "        x, y = 0.0, 0.0\n",
    "        for point in points:\n",
    "            x += point.mass*point.x\n",
    "            y += point.mass*point.y\n",
    "        mass = cls.total_mass(points)\n",
    "        return x/mass, y/mass\n",
    "        \n",
    "    def __repr__(self):\n",
    "        '''get the point's string representation\n",
    "        '''\n",
    "        return f'{super().__repr__()}: {self.mass}'"
   ]
  },
  {
   "cell_type": "markdown",
   "metadata": {
    "hidden": true
   },
   "source": [
    "Note that we define a getter for the `id` attribute, but no setter.  Modifying a point's ID would probably mess up functionality that depends on IDs being unique."
   ]
  },
  {
   "cell_type": "code",
   "execution_count": 46,
   "metadata": {
    "ExecuteTime": {
     "end_time": "2018-06-22T16:13:03.036664Z",
     "start_time": "2018-06-22T16:13:03.017946Z"
    },
    "hidden": true
   },
   "outputs": [],
   "source": [
    "p1 = PointMass(0.3, 1.8, 2.5)\n",
    "p2 = PointMass(1.9, -2.1, 0.3)"
   ]
  },
  {
   "cell_type": "code",
   "execution_count": 47,
   "metadata": {
    "ExecuteTime": {
     "end_time": "2018-06-22T16:13:05.428316Z",
     "start_time": "2018-06-22T16:13:05.416272Z"
    },
    "hidden": true
   },
   "outputs": [
    {
     "name": "stdout",
     "output_type": "stream",
     "text": [
      "0 1\n"
     ]
    }
   ],
   "source": [
    "print(p1.id, p2.id)"
   ]
  },
  {
   "cell_type": "markdown",
   "metadata": {
    "heading_collapsed": true
   },
   "source": [
    "# Introspection"
   ]
  },
  {
   "cell_type": "markdown",
   "metadata": {
    "hidden": true
   },
   "source": [
    "In some circumstances, it can be useful to determine properties of an object at runtime, e.g., whether it has an attribute or a method."
   ]
  },
  {
   "cell_type": "code",
   "execution_count": 48,
   "metadata": {
    "ExecuteTime": {
     "end_time": "2018-06-25T16:52:34.440972Z",
     "start_time": "2018-06-25T16:52:34.425637Z"
    },
    "hidden": true
   },
   "outputs": [],
   "source": [
    "p1 = Point(3.1, 4.5)\n",
    "p2 = PointMass(-0.3, 1.2, 0.6)"
   ]
  },
  {
   "cell_type": "markdown",
   "metadata": {
    "hidden": true
   },
   "source": [
    "The `hasattr` function returns true if the object has an attribute of the given name, false otherwise."
   ]
  },
  {
   "cell_type": "code",
   "execution_count": 49,
   "metadata": {
    "ExecuteTime": {
     "end_time": "2018-06-22T16:26:24.146807Z",
     "start_time": "2018-06-22T16:26:24.115028Z"
    },
    "hidden": true
   },
   "outputs": [
    {
     "data": {
      "text/plain": [
       "True"
      ]
     },
     "execution_count": 49,
     "metadata": {},
     "output_type": "execute_result"
    }
   ],
   "source": [
    "hasattr(p1, '_theta')"
   ]
  },
  {
   "cell_type": "code",
   "execution_count": 50,
   "metadata": {
    "ExecuteTime": {
     "end_time": "2018-06-22T16:26:40.618942Z",
     "start_time": "2018-06-22T16:26:40.603253Z"
    },
    "hidden": true
   },
   "outputs": [
    {
     "data": {
      "text/plain": [
       "False"
      ]
     },
     "execution_count": 50,
     "metadata": {},
     "output_type": "execute_result"
    }
   ],
   "source": [
    "hasattr(p1, '_mass')"
   ]
  },
  {
   "cell_type": "code",
   "execution_count": 51,
   "metadata": {
    "ExecuteTime": {
     "end_time": "2018-06-22T16:27:16.389692Z",
     "start_time": "2018-06-22T16:27:16.335883Z"
    },
    "hidden": true
   },
   "outputs": [
    {
     "data": {
      "text/plain": [
       "True"
      ]
     },
     "execution_count": 51,
     "metadata": {},
     "output_type": "execute_result"
    }
   ],
   "source": [
    "hasattr(p2, '_mass')"
   ]
  },
  {
   "cell_type": "markdown",
   "metadata": {
    "hidden": true
   },
   "source": [
    "Note that the term \"attribute\" is used in a flexible way, it also works for methods, and that classes such as `Point` are in fact also objects, e.g.,"
   ]
  },
  {
   "cell_type": "code",
   "execution_count": 52,
   "metadata": {
    "ExecuteTime": {
     "end_time": "2018-06-22T16:27:36.047678Z",
     "start_time": "2018-06-22T16:27:36.031731Z"
    },
    "hidden": true
   },
   "outputs": [
    {
     "data": {
      "text/plain": [
       "True"
      ]
     },
     "execution_count": 52,
     "metadata": {},
     "output_type": "execute_result"
    }
   ],
   "source": [
    "hasattr(p1, 'x')"
   ]
  },
  {
   "cell_type": "code",
   "execution_count": 53,
   "metadata": {
    "ExecuteTime": {
     "end_time": "2018-06-22T16:24:29.052665Z",
     "start_time": "2018-06-22T16:24:29.038507Z"
    },
    "hidden": true
   },
   "outputs": [
    {
     "data": {
      "text/plain": [
       "True"
      ]
     },
     "execution_count": 53,
     "metadata": {},
     "output_type": "execute_result"
    }
   ],
   "source": [
    "hasattr(p2, 'distance')"
   ]
  },
  {
   "cell_type": "markdown",
   "metadata": {
    "hidden": true
   },
   "source": [
    "We can also retrieve values of attributes in a similar way."
   ]
  },
  {
   "cell_type": "code",
   "execution_count": 54,
   "metadata": {
    "ExecuteTime": {
     "end_time": "2018-06-22T16:21:23.562139Z",
     "start_time": "2018-06-22T16:21:23.543252Z"
    },
    "hidden": true
   },
   "outputs": [
    {
     "data": {
      "text/plain": [
       "3.0999999999999996"
      ]
     },
     "execution_count": 54,
     "metadata": {},
     "output_type": "execute_result"
    }
   ],
   "source": [
    "getattr(p1, 'x')"
   ]
  },
  {
   "cell_type": "markdown",
   "metadata": {
    "hidden": true
   },
   "source": [
    "This even works for object methods that can be called dynamically."
   ]
  },
  {
   "cell_type": "code",
   "execution_count": 55,
   "metadata": {
    "ExecuteTime": {
     "end_time": "2018-06-22T16:24:41.128503Z",
     "start_time": "2018-06-22T16:24:41.118536Z"
    },
    "hidden": true
   },
   "outputs": [],
   "source": [
    "method = getattr(p1, \"distance\")"
   ]
  },
  {
   "cell_type": "code",
   "execution_count": 56,
   "metadata": {
    "ExecuteTime": {
     "end_time": "2018-06-22T16:24:49.543323Z",
     "start_time": "2018-06-22T16:24:49.507571Z"
    },
    "hidden": true
   },
   "outputs": [
    {
     "data": {
      "text/plain": [
       "4.738143096192853"
      ]
     },
     "execution_count": 56,
     "metadata": {},
     "output_type": "execute_result"
    }
   ],
   "source": [
    "method(p2)"
   ]
  },
  {
   "cell_type": "markdown",
   "metadata": {
    "hidden": true
   },
   "source": [
    "Note that the method is bound to the object is was retreived from."
   ]
  },
  {
   "cell_type": "code",
   "execution_count": 57,
   "metadata": {
    "ExecuteTime": {
     "end_time": "2018-06-22T16:25:24.111255Z",
     "start_time": "2018-06-22T16:25:24.090124Z"
    },
    "hidden": true
   },
   "outputs": [
    {
     "data": {
      "text/plain": [
       "0.0"
      ]
     },
     "execution_count": 57,
     "metadata": {},
     "output_type": "execute_result"
    }
   ],
   "source": [
    "method(p1)"
   ]
  },
  {
   "cell_type": "markdown",
   "metadata": {
    "hidden": true
   },
   "source": [
    "Attributes can also be set using `setattr`."
   ]
  },
  {
   "cell_type": "code",
   "execution_count": 58,
   "metadata": {
    "ExecuteTime": {
     "end_time": "2018-06-22T16:29:18.417211Z",
     "start_time": "2018-06-22T16:29:18.402153Z"
    },
    "hidden": true
   },
   "outputs": [
    {
     "data": {
      "text/plain": [
       "(3.0999999999999996, 4.5)"
      ]
     },
     "execution_count": 58,
     "metadata": {},
     "output_type": "execute_result"
    }
   ],
   "source": [
    "p1"
   ]
  },
  {
   "cell_type": "code",
   "execution_count": 59,
   "metadata": {
    "ExecuteTime": {
     "end_time": "2018-06-22T16:29:58.353407Z",
     "start_time": "2018-06-22T16:29:58.340798Z"
    },
    "hidden": true
   },
   "outputs": [],
   "source": [
    "setattr(p1, '_r', 1.0)"
   ]
  },
  {
   "cell_type": "code",
   "execution_count": 60,
   "metadata": {
    "ExecuteTime": {
     "end_time": "2018-06-22T16:29:59.587116Z",
     "start_time": "2018-06-22T16:29:59.571123Z"
    },
    "hidden": true
   },
   "outputs": [
    {
     "data": {
      "text/plain": [
       "(0.567305236251496, 0.8235076010102361)"
      ]
     },
     "execution_count": 60,
     "metadata": {},
     "output_type": "execute_result"
    }
   ],
   "source": [
    "p1"
   ]
  },
  {
   "cell_type": "markdown",
   "metadata": {
    "hidden": true
   },
   "source": [
    "Perhaps somewhat more unexpectedly, it is possible to add new attributes after an object has been created. This attribute is specific to that object, other objects of the same class are not affected."
   ]
  },
  {
   "cell_type": "code",
   "execution_count": 61,
   "metadata": {
    "ExecuteTime": {
     "end_time": "2018-06-22T16:32:42.047886Z",
     "start_time": "2018-06-22T16:32:42.032930Z"
    },
    "hidden": true
   },
   "outputs": [],
   "source": [
    "p3 = Point(2.0, pi/4, polar=True)"
   ]
  },
  {
   "cell_type": "code",
   "execution_count": 62,
   "metadata": {
    "ExecuteTime": {
     "end_time": "2018-06-22T16:32:49.193224Z",
     "start_time": "2018-06-22T16:32:49.176392Z"
    },
    "hidden": true
   },
   "outputs": [],
   "source": [
    "setattr(p1, 'color', 'blue')"
   ]
  },
  {
   "cell_type": "code",
   "execution_count": 63,
   "metadata": {
    "ExecuteTime": {
     "end_time": "2018-06-22T16:32:56.857330Z",
     "start_time": "2018-06-22T16:32:56.845003Z"
    },
    "hidden": true
   },
   "outputs": [
    {
     "data": {
      "text/plain": [
       "'blue'"
      ]
     },
     "execution_count": 63,
     "metadata": {},
     "output_type": "execute_result"
    }
   ],
   "source": [
    "p1.color"
   ]
  },
  {
   "cell_type": "code",
   "execution_count": 64,
   "metadata": {
    "ExecuteTime": {
     "end_time": "2018-06-22T16:33:05.701306Z",
     "start_time": "2018-06-22T16:33:05.679872Z"
    },
    "hidden": true
   },
   "outputs": [
    {
     "data": {
      "text/plain": [
       "False"
      ]
     },
     "execution_count": 64,
     "metadata": {},
     "output_type": "execute_result"
    }
   ],
   "source": [
    "hasattr(p3, 'color')"
   ]
  },
  {
   "cell_type": "markdown",
   "metadata": {
    "hidden": true
   },
   "source": [
    "This is most likely bad practice, so you probably should write such code."
   ]
  },
  {
   "cell_type": "markdown",
   "metadata": {
    "hidden": true
   },
   "source": [
    "Note that even a simple typo can lead to \"interesting\" results."
   ]
  },
  {
   "cell_type": "code",
   "execution_count": 65,
   "metadata": {
    "ExecuteTime": {
     "end_time": "2018-06-25T16:32:52.019135Z",
     "start_time": "2018-06-25T16:32:51.978208Z"
    },
    "hidden": true
   },
   "outputs": [],
   "source": [
    "p1.coorrds = 5, 3"
   ]
  },
  {
   "cell_type": "markdown",
   "metadata": {
    "hidden": true
   },
   "source": [
    "The `dir` function returns a list of all the attributes and methods an object has."
   ]
  },
  {
   "cell_type": "code",
   "execution_count": 66,
   "metadata": {
    "ExecuteTime": {
     "end_time": "2018-06-22T16:38:10.947123Z",
     "start_time": "2018-06-22T16:38:10.905076Z"
    },
    "hidden": true
   },
   "outputs": [
    {
     "data": {
      "text/plain": [
       "['__annotations__',\n",
       " '__class__',\n",
       " '__delattr__',\n",
       " '__dict__',\n",
       " '__dir__',\n",
       " '__doc__',\n",
       " '__eq__',\n",
       " '__format__',\n",
       " '__ge__',\n",
       " '__getattribute__',\n",
       " '__gt__',\n",
       " '__hash__',\n",
       " '__init__',\n",
       " '__init_subclass__',\n",
       " '__le__',\n",
       " '__lt__',\n",
       " '__module__',\n",
       " '__ne__',\n",
       " '__new__',\n",
       " '__reduce__',\n",
       " '__reduce_ex__',\n",
       " '__repr__',\n",
       " '__setattr__',\n",
       " '__sizeof__',\n",
       " '__str__',\n",
       " '__subclasshook__',\n",
       " '__weakref__',\n",
       " '_convert_to_polar',\n",
       " '_r',\n",
       " '_theta',\n",
       " 'coords',\n",
       " 'distance',\n",
       " 'polar_coords',\n",
       " 'r',\n",
       " 'theta',\n",
       " 'x',\n",
       " 'y']"
      ]
     },
     "execution_count": 66,
     "metadata": {},
     "output_type": "execute_result"
    }
   ],
   "source": [
    "dir(p3)"
   ]
  },
  {
   "cell_type": "markdown",
   "metadata": {
    "hidden": true
   },
   "source": [
    "We recognize the object attributes `_r` and `_theta`, and object methods we defined such as the getter `x`, `y`,..., `polar_coords`, as well as ordinary methods such as `distance`."
   ]
  },
  {
   "cell_type": "markdown",
   "metadata": {
    "hidden": true
   },
   "source": [
    "The object's `__dict__` attribute is in fact rather interesting, since it is a dictionary that has the object's attribute names as keys, and maps those to their respective values.  The function `vars` returns a reference to this dictionary."
   ]
  },
  {
   "cell_type": "code",
   "execution_count": 67,
   "metadata": {
    "ExecuteTime": {
     "end_time": "2018-06-25T17:04:02.905021Z",
     "start_time": "2018-06-25T17:04:02.888805Z"
    },
    "hidden": true
   },
   "outputs": [
    {
     "name": "stdout",
     "output_type": "stream",
     "text": [
      "_r: 1.0\n",
      "_theta: 0.9675664738702118\n",
      "color: blue\n",
      "coorrds: (5, 3)\n"
     ]
    }
   ],
   "source": [
    "for attr_name, attr_value in vars(p1).items():\n",
    "    print(f'{attr_name}: {attr_value}')"
   ]
  },
  {
   "cell_type": "markdown",
   "metadata": {
    "hidden": true
   },
   "source": [
    "Note that this provides yet another (not so clean) way to alter an object's attribute value."
   ]
  },
  {
   "cell_type": "code",
   "execution_count": 68,
   "metadata": {
    "ExecuteTime": {
     "end_time": "2018-06-25T17:02:29.103004Z",
     "start_time": "2018-06-25T17:02:29.087403Z"
    },
    "hidden": true
   },
   "outputs": [],
   "source": [
    "d = vars(p1)"
   ]
  },
  {
   "cell_type": "code",
   "execution_count": 69,
   "metadata": {
    "ExecuteTime": {
     "end_time": "2018-06-25T17:02:46.234059Z",
     "start_time": "2018-06-25T17:02:46.197598Z"
    },
    "hidden": true
   },
   "outputs": [],
   "source": [
    "d['_r'] = 1.0"
   ]
  },
  {
   "cell_type": "code",
   "execution_count": 70,
   "metadata": {
    "ExecuteTime": {
     "end_time": "2018-06-25T17:03:08.326440Z",
     "start_time": "2018-06-25T17:03:08.307369Z"
    },
    "hidden": true
   },
   "outputs": [
    {
     "data": {
      "text/plain": [
       "1.0"
      ]
     },
     "execution_count": 70,
     "metadata": {},
     "output_type": "execute_result"
    }
   ],
   "source": [
    "p1.r"
   ]
  },
  {
   "cell_type": "markdown",
   "metadata": {},
   "source": [
    "# Using `__slots__`"
   ]
  },
  {
   "cell_type": "markdown",
   "metadata": {},
   "source": [
    "It may be worth avoiding the issue of accidentally adding an attribute to an individual object by using the `__slots__` class attribute.  Consider the following class definition.  A `SimplePoint` object will have only two attributes, `_x` and `_y` with corresonponding accessors."
   ]
  },
  {
   "cell_type": "code",
   "execution_count": 71,
   "metadata": {
    "ExecuteTime": {
     "end_time": "2018-11-18T06:53:38.463043Z",
     "start_time": "2018-11-18T06:53:38.451865Z"
    }
   },
   "outputs": [],
   "source": [
    "class SimpleSlotPoint:\n",
    "    \n",
    "    # object attributes\n",
    "    __slots__ = ('_x', '_y')\n",
    "    \n",
    "    def __init__(self, x, y):\n",
    "        self.x = x\n",
    "        self.y = y\n",
    "        \n",
    "    @property\n",
    "    def x(self):\n",
    "        return self._x\n",
    "    \n",
    "    @x.setter\n",
    "    def x(self, value):\n",
    "        self._x = float(value)\n",
    "    \n",
    "    @property\n",
    "    def y(self):\n",
    "        return self._y\n",
    "    \n",
    "    @y.setter\n",
    "    def y(self, value):\n",
    "        self._y = float(value)"
   ]
  },
  {
   "cell_type": "code",
   "execution_count": 72,
   "metadata": {
    "ExecuteTime": {
     "end_time": "2018-11-18T06:53:39.646493Z",
     "start_time": "2018-11-18T06:53:39.641555Z"
    }
   },
   "outputs": [],
   "source": [
    "p = SimpleSlotPoint(3, 5)"
   ]
  },
  {
   "cell_type": "code",
   "execution_count": 73,
   "metadata": {
    "ExecuteTime": {
     "end_time": "2018-11-18T06:53:42.060564Z",
     "start_time": "2018-11-18T06:53:42.053073Z"
    }
   },
   "outputs": [
    {
     "data": {
      "text/plain": [
       "3.0"
      ]
     },
     "execution_count": 73,
     "metadata": {},
     "output_type": "execute_result"
    }
   ],
   "source": [
    "p.x"
   ]
  },
  {
   "cell_type": "code",
   "execution_count": 74,
   "metadata": {
    "ExecuteTime": {
     "end_time": "2018-11-18T06:53:44.320405Z",
     "start_time": "2018-11-18T06:53:44.315811Z"
    }
   },
   "outputs": [],
   "source": [
    "p.x = 17"
   ]
  },
  {
   "cell_type": "code",
   "execution_count": 75,
   "metadata": {
    "ExecuteTime": {
     "end_time": "2018-11-18T06:53:45.304443Z",
     "start_time": "2018-11-18T06:53:45.283197Z"
    }
   },
   "outputs": [
    {
     "data": {
      "text/plain": [
       "17.0"
      ]
     },
     "execution_count": 75,
     "metadata": {},
     "output_type": "execute_result"
    }
   ],
   "source": [
    "p.x"
   ]
  },
  {
   "cell_type": "markdown",
   "metadata": {},
   "source": [
    "Not surprisingly, the accessors work as before, but when we try to dynamically add an attribute to the `p` object, we actually get an error."
   ]
  },
  {
   "cell_type": "code",
   "execution_count": 76,
   "metadata": {
    "ExecuteTime": {
     "end_time": "2018-11-18T06:52:57.341350Z",
     "start_time": "2018-11-18T06:52:57.331831Z"
    }
   },
   "outputs": [
    {
     "name": "stderr",
     "output_type": "stream",
     "text": [
      "Traceback (most recent call last):\n",
      "  File \"<ipython-input-76-94c673cce77e>\", line 2, in <module>\n",
      "    p.z = 13\n",
      "AttributeError: 'SimpleSlotPoint' object has no attribute 'z'\n"
     ]
    }
   ],
   "source": [
    "try:\n",
    "    p.z = 13\n",
    "except:\n",
    "    print_exc()"
   ]
  },
  {
   "cell_type": "markdown",
   "metadata": {},
   "source": [
    "Using slots has the additional advantage of reducing memory overhead for objects, so it is quite useful when it is expected that many instances of the class may be instantiated during execution."
   ]
  },
  {
   "cell_type": "markdown",
   "metadata": {},
   "source": [
    "Note that objects instantiated from classes that use `__slots__` don't have a `__dict__` attribute.  Hence the `vars` function will throw an error when called on an object that has `__slots__`."
   ]
  },
  {
   "cell_type": "code",
   "execution_count": 77,
   "metadata": {
    "ExecuteTime": {
     "end_time": "2018-06-25T16:49:26.273824Z",
     "start_time": "2018-06-25T16:49:26.251854Z"
    }
   },
   "outputs": [
    {
     "data": {
      "text/plain": [
       "False"
      ]
     },
     "execution_count": 77,
     "metadata": {},
     "output_type": "execute_result"
    }
   ],
   "source": [
    "'__dict__' in dir(p)"
   ]
  },
  {
   "cell_type": "markdown",
   "metadata": {},
   "source": [
    "To measure the difference in performance between an implementation that uses `__slots__` versus one that uses `__dict__` we define an additional class with the same functionality as `SimpleSlotPoint`."
   ]
  },
  {
   "cell_type": "code",
   "execution_count": 78,
   "metadata": {
    "ExecuteTime": {
     "end_time": "2018-11-18T06:58:05.162916Z",
     "start_time": "2018-11-18T06:58:05.148626Z"
    }
   },
   "outputs": [],
   "source": [
    "class SimpleDictPoint:\n",
    "    \n",
    "    def __init__(self, x, y):\n",
    "        self._x = float(x)\n",
    "        self._y = float(y)\n",
    "        \n",
    "    @property\n",
    "    def x(self):\n",
    "        return self._x\n",
    "    \n",
    "    @x.setter\n",
    "    def x(self, value):\n",
    "        self._x = float(value)\n",
    "    \n",
    "    @property\n",
    "    def y(self):\n",
    "        return self._y\n",
    "    \n",
    "    @y.setter\n",
    "    def y(self, value):\n",
    "        self._y = float(value)"
   ]
  },
  {
   "cell_type": "markdown",
   "metadata": {},
   "source": [
    "Time object instantiation."
   ]
  },
  {
   "cell_type": "code",
   "execution_count": 79,
   "metadata": {
    "ExecuteTime": {
     "end_time": "2018-11-18T07:13:19.030850Z",
     "start_time": "2018-11-18T07:13:14.401055Z"
    }
   },
   "outputs": [
    {
     "name": "stdout",
     "output_type": "stream",
     "text": [
      "623 ns ± 115 ns per loop (mean ± std. dev. of 7 runs, 1000000 loops each)\n"
     ]
    }
   ],
   "source": [
    "%timeit SimpleDictPoint(1.0, 3.0)"
   ]
  },
  {
   "cell_type": "code",
   "execution_count": 80,
   "metadata": {
    "ExecuteTime": {
     "end_time": "2018-11-18T07:13:11.328178Z",
     "start_time": "2018-11-18T07:13:10.450596Z"
    }
   },
   "outputs": [
    {
     "name": "stdout",
     "output_type": "stream",
     "text": [
      "900 ns ± 179 ns per loop (mean ± std. dev. of 7 runs, 1000000 loops each)\n"
     ]
    }
   ],
   "source": [
    "%timeit SimpleSlotPoint(1.0, 3.0)"
   ]
  },
  {
   "cell_type": "markdown",
   "metadata": {},
   "source": [
    "Time object attribute access."
   ]
  },
  {
   "cell_type": "code",
   "execution_count": 81,
   "metadata": {},
   "outputs": [
    {
     "name": "stdout",
     "output_type": "stream",
     "text": [
      "1.08 ms ± 440 µs per loop (mean ± std. dev. of 7 runs, 1000 loops each)\n"
     ]
    }
   ],
   "source": [
    "%%timeit\n",
    "p = SimpleDictPoint(0.0, 0.0)\n",
    "for _ in range(1000):\n",
    "    p.x += 1.0\n",
    "    p.y -= 0.5    "
   ]
  },
  {
   "cell_type": "code",
   "execution_count": 82,
   "metadata": {},
   "outputs": [
    {
     "name": "stdout",
     "output_type": "stream",
     "text": [
      "883 µs ± 127 µs per loop (mean ± std. dev. of 7 runs, 1000 loops each)\n"
     ]
    }
   ],
   "source": [
    "%%timeit\n",
    "p = SimpleSlotPoint(0.0, 0.0)\n",
    "for _ in range(1000):\n",
    "    p.x += 1.0\n",
    "    p.y -= 0.5    "
   ]
  },
  {
   "cell_type": "markdown",
   "metadata": {
    "heading_collapsed": true
   },
   "source": [
    "# Wrapper classes or derivation by extension"
   ]
  },
  {
   "cell_type": "markdown",
   "metadata": {
    "hidden": true
   },
   "source": [
    "Suppose (for whatever bizarre reason) we would like to have named numpy arrays.  One option would be to define a new class with `numpy.array` as base class, add a `name` object attribute, along with its accessors. An alternative is to define a class that has an `numpy.array` as an object attribute, and pass all attribute requests on to that attribute by implementing the `__getattr__` method explicitely.  To ensure that the elements of the named arrays are accessible by index, we also implement `__getitem__` and `__setitem__`."
   ]
  },
  {
   "cell_type": "code",
   "execution_count": 83,
   "metadata": {},
   "outputs": [],
   "source": [
    "import numpy as np"
   ]
  },
  {
   "cell_type": "code",
   "execution_count": 84,
   "metadata": {
    "ExecuteTime": {
     "end_time": "2018-06-26T07:21:32.093733Z",
     "start_time": "2018-06-26T07:21:32.076148Z"
    },
    "hidden": true
   },
   "outputs": [],
   "source": [
    "class NamedArray:\n",
    "    import numpy as np    \n",
    "    \n",
    "    # object attributes\n",
    "    _data: np.array\n",
    "    _name: str\n",
    "        \n",
    "    def __init__(self, name, *args, **kwargs):\n",
    "        self._name = name\n",
    "        self._data = np.array(*args, **kwargs)\n",
    "        \n",
    "    @property\n",
    "    def name(self):\n",
    "        return self._name\n",
    "    \n",
    "    def __getattr__(self, name):\n",
    "        if hasattr(self._data, name):\n",
    "            return getattr(self._data, name)\n",
    "        else:\n",
    "            raise AttributeError(f'no such attribute {name}')\n",
    "            \n",
    "    def __getitem__(self, index):\n",
    "        return self._data[index]\n",
    "    \n",
    "    def __setitem__(self, index, value):\n",
    "        self._data[index] = value\n",
    "        \n",
    "    "
   ]
  },
  {
   "cell_type": "code",
   "execution_count": 85,
   "metadata": {
    "ExecuteTime": {
     "end_time": "2018-06-26T07:21:53.581793Z",
     "start_time": "2018-06-26T07:21:53.550670Z"
    },
    "hidden": true
   },
   "outputs": [],
   "source": [
    "array = NamedArray('mine', [[2, 1, 7], [3, -2, 5]], dtype=np.float32)"
   ]
  },
  {
   "cell_type": "markdown",
   "metadata": {
    "hidden": true
   },
   "source": [
    "The array object has a name attribute with the expected value."
   ]
  },
  {
   "cell_type": "code",
   "execution_count": 86,
   "metadata": {
    "ExecuteTime": {
     "end_time": "2018-06-26T07:22:07.347985Z",
     "start_time": "2018-06-26T07:22:07.327614Z"
    },
    "hidden": true
   },
   "outputs": [
    {
     "data": {
      "text/plain": [
       "'mine'"
      ]
     },
     "execution_count": 86,
     "metadata": {},
     "output_type": "execute_result"
    }
   ],
   "source": [
    "array.name"
   ]
  },
  {
   "cell_type": "markdown",
   "metadata": {
    "hidden": true
   },
   "source": [
    "However, all attributes and methods of the `numpy.array` attribute are available directly as well."
   ]
  },
  {
   "cell_type": "code",
   "execution_count": 87,
   "metadata": {
    "ExecuteTime": {
     "end_time": "2018-06-26T07:22:02.320391Z",
     "start_time": "2018-06-26T07:22:02.305766Z"
    },
    "hidden": true
   },
   "outputs": [
    {
     "data": {
      "text/plain": [
       "(2, 3)"
      ]
     },
     "execution_count": 87,
     "metadata": {},
     "output_type": "execute_result"
    }
   ],
   "source": [
    "array.shape"
   ]
  },
  {
   "cell_type": "code",
   "execution_count": 88,
   "metadata": {
    "ExecuteTime": {
     "end_time": "2018-06-26T07:29:39.961135Z",
     "start_time": "2018-06-26T07:29:39.903224Z"
    },
    "hidden": true
   },
   "outputs": [
    {
     "data": {
      "text/plain": [
       "2.6666667"
      ]
     },
     "execution_count": 88,
     "metadata": {},
     "output_type": "execute_result"
    }
   ],
   "source": [
    "array.mean()"
   ]
  },
  {
   "cell_type": "markdown",
   "metadata": {
    "hidden": true
   },
   "source": [
    "Thanks to the `__getitem__` and `__setitem__` methods, the named array can be indexed like an ordinary numpy array."
   ]
  },
  {
   "cell_type": "code",
   "execution_count": 89,
   "metadata": {
    "ExecuteTime": {
     "end_time": "2018-06-26T07:22:22.930217Z",
     "start_time": "2018-06-26T07:22:22.922733Z"
    },
    "hidden": true
   },
   "outputs": [],
   "source": [
    "array[0, 0] = 1"
   ]
  },
  {
   "cell_type": "code",
   "execution_count": 90,
   "metadata": {
    "ExecuteTime": {
     "end_time": "2018-06-26T07:22:29.532743Z",
     "start_time": "2018-06-26T07:22:29.465191Z"
    },
    "hidden": true
   },
   "outputs": [
    {
     "name": "stdout",
     "output_type": "stream",
     "text": [
      "[1. 1. 7.]\n",
      "[ 3. -2.  5.]\n"
     ]
    }
   ],
   "source": [
    "for value in array:\n",
    "    print(value)"
   ]
  },
  {
   "cell_type": "markdown",
   "metadata": {
    "hidden": true
   },
   "source": [
    "When trying to access a non-existing attribute, an exception is raised."
   ]
  },
  {
   "cell_type": "code",
   "execution_count": 91,
   "metadata": {
    "ExecuteTime": {
     "end_time": "2018-06-26T07:22:17.477174Z",
     "start_time": "2018-06-26T07:22:17.423385Z"
    },
    "hidden": true
   },
   "outputs": [
    {
     "name": "stderr",
     "output_type": "stream",
     "text": [
      "Traceback (most recent call last):\n",
      "  File \"<ipython-input-91-7f6b69b2d1dd>\", line 2, in <module>\n",
      "    array.blabla\n",
      "  File \"<ipython-input-84-df9ad9ff1f86>\", line 20, in __getattr__\n",
      "    raise AttributeError(f'no such attribute {name}')\n",
      "AttributeError: no such attribute blabla\n"
     ]
    }
   ],
   "source": [
    "try:\n",
    "    array.blabla\n",
    "except:\n",
    "    print_exc()"
   ]
  }
 ],
 "metadata": {
  "kernelspec": {
   "display_name": "Python 3",
   "language": "python",
   "name": "python3"
  },
  "language_info": {
   "codemirror_mode": {
    "name": "ipython",
    "version": 3
   },
   "file_extension": ".py",
   "mimetype": "text/x-python",
   "name": "python",
   "nbconvert_exporter": "python",
   "pygments_lexer": "ipython3",
   "version": "3.7.9"
  },
  "toc-autonumbering": true
 },
 "nbformat": 4,
 "nbformat_minor": 4
}
