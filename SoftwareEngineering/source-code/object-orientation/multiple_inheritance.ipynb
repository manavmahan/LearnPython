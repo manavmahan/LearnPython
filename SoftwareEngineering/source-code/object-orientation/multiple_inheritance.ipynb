{
 "cells": [
  {
   "cell_type": "markdown",
   "metadata": {},
   "source": [
    "# Multiple inheritance"
   ]
  },
  {
   "cell_type": "markdown",
   "metadata": {},
   "source": [
    "Python supports multiple inheritance, i.e., a class can have multiple parent classes.  Here, we will explore how Python deals with multiple inheritance."
   ]
  },
  {
   "cell_type": "markdown",
   "metadata": {},
   "source": [
    "## Method resoution order (MRO)"
   ]
  },
  {
   "cell_type": "markdown",
   "metadata": {},
   "source": [
    "Consider multiple inheritance where a \"diamond\" occurs in the dependency diagram."
   ]
  },
  {
   "cell_type": "code",
   "execution_count": 6,
   "metadata": {},
   "outputs": [],
   "source": [
    "class BaseClass:\n",
    "    \n",
    "    def __repr__(self):\n",
    "        return 'BaseClass'"
   ]
  },
  {
   "cell_type": "markdown",
   "metadata": {},
   "source": [
    "Both `FirstLevelClass1` and `FirstLevelClass2` are derived from `BaseClass` and override the `__repr__` method."
   ]
  },
  {
   "cell_type": "code",
   "execution_count": 7,
   "metadata": {},
   "outputs": [],
   "source": [
    "class FirstLevelClass1(BaseClass):\n",
    "    \n",
    "    def __repr__(self):\n",
    "        return 'Level 1.1'"
   ]
  },
  {
   "cell_type": "code",
   "execution_count": 8,
   "metadata": {},
   "outputs": [],
   "source": [
    "class FirstLevelClass2(BaseClass):\n",
    "    \n",
    "    def __repr__(self):\n",
    "        return 'Level 1.2'"
   ]
  },
  {
   "cell_type": "markdown",
   "metadata": {},
   "source": [
    "In order to see the method resolution order in action, two classes are derived from both `FirstLevelClass1` and `FirstLevelClass2`.  `MyClass2` has `FirstLevelClass1` as the first parent"
   ]
  },
  {
   "cell_type": "code",
   "execution_count": 22,
   "metadata": {},
   "outputs": [],
   "source": [
    "class MyClass1(FirstLevelClass1, FirstLevelClass2):\n",
    "    pass"
   ]
  },
  {
   "cell_type": "code",
   "execution_count": 23,
   "metadata": {},
   "outputs": [
    {
     "name": "stdout",
     "output_type": "stream",
     "text": [
      "Level 1.1\n"
     ]
    }
   ],
   "source": [
    "print(MyClass1())"
   ]
  },
  {
   "cell_type": "markdown",
   "metadata": {},
   "source": [
    "Class `MyClass2` on the other hand has `FirstLevelClass2` as its first parent."
   ]
  },
  {
   "cell_type": "code",
   "execution_count": 13,
   "metadata": {},
   "outputs": [],
   "source": [
    "class MyClass2(FirstLevelClass2, FirstLevelClass1):\n",
    "    pass"
   ]
  },
  {
   "cell_type": "code",
   "execution_count": 14,
   "metadata": {},
   "outputs": [
    {
     "name": "stdout",
     "output_type": "stream",
     "text": [
      "Level 1.2\n"
     ]
    }
   ],
   "source": [
    "print(MyClass2())"
   ]
  },
  {
   "cell_type": "markdown",
   "metadata": {},
   "source": [
    "In fact, every Python class has the `mro` method that will return a list of classes that will be used for method resolution in the order they appear in the list.  For `MyClass`, the first parent class to check will be `FirstLevelClass1`, while for `MyClass2` it is `FirstLevelClass2`, as we have already observed by calling the `__repr__` method."
   ]
  },
  {
   "cell_type": "code",
   "execution_count": 17,
   "metadata": {},
   "outputs": [
    {
     "data": {
      "text/plain": [
       "[__main__.MyClass1,\n",
       " __main__.FirstLevelClass1,\n",
       " __main__.FirstLevelClass2,\n",
       " __main__.BaseClass,\n",
       " object]"
      ]
     },
     "execution_count": 17,
     "metadata": {},
     "output_type": "execute_result"
    }
   ],
   "source": [
    "MyClass1.mro()"
   ]
  },
  {
   "cell_type": "code",
   "execution_count": 19,
   "metadata": {},
   "outputs": [
    {
     "data": {
      "text/plain": [
       "[__main__.MyClass2,\n",
       " __main__.FirstLevelClass2,\n",
       " __main__.FirstLevelClass1,\n",
       " __main__.BaseClass,\n",
       " object]"
      ]
     },
     "execution_count": 19,
     "metadata": {},
     "output_type": "execute_result"
    }
   ],
   "source": [
    "MyClass2.mro()"
   ]
  },
  {
   "cell_type": "markdown",
   "metadata": {},
   "source": [
    "## Using `super`"
   ]
  },
  {
   "cell_type": "markdown",
   "metadata": {},
   "source": [
    "The `super` function can be used to call methods implemented by an ancestor class.  For instance, in class `MyClass1` we now override the `__repr__` method."
   ]
  },
  {
   "cell_type": "code",
   "execution_count": 36,
   "metadata": {},
   "outputs": [],
   "source": [
    "class MyClass1(FirstLevelClass1, FirstLevelClass2):\n",
    "    \n",
    "    def __repr__(self):\n",
    "        return 'MyClass1: ' + super().__repr__()"
   ]
  },
  {
   "cell_type": "code",
   "execution_count": 37,
   "metadata": {},
   "outputs": [
    {
     "name": "stdout",
     "output_type": "stream",
     "text": [
      "MyClass1: Level 1.1\n"
     ]
    }
   ],
   "source": [
    "print(MyClass1())"
   ]
  },
  {
   "cell_type": "markdown",
   "metadata": {},
   "source": [
    "The semantics is that the classes are searched in the MRO order, starting from the first parent class.  However, it is possible to control this by providing additional arguments to the `super` function.  For instance, if we wanted to use the `__repr__` implementation of `FirstLevelClass2` rather than that of `FirstLevelClass1`, that can be done as follows."
   ]
  },
  {
   "cell_type": "code",
   "execution_count": 40,
   "metadata": {},
   "outputs": [],
   "source": [
    "class MyClass12(FirstLevelClass1, FirstLevelClass2):\n",
    "    \n",
    "    def __repr__(self):\n",
    "        return 'MyClass1: ' + super(FirstLevelClass1, self).__repr__()"
   ]
  },
  {
   "cell_type": "code",
   "execution_count": 11,
   "metadata": {},
   "outputs": [],
   "source": [
    "class MyClass1(FirstLevelClass1, FirstLevelClass2):\n",
    "    pass"
   ]
  },
  {
   "cell_type": "code",
   "execution_count": 12,
   "metadata": {},
   "outputs": [
    {
     "name": "stdout",
     "output_type": "stream",
     "text": [
      "Level 1.1\n"
     ]
    }
   ],
   "source": [
    "print(MyClass1())"
   ]
  },
  {
   "cell_type": "code",
   "execution_count": 41,
   "metadata": {},
   "outputs": [
    {
     "name": "stdout",
     "output_type": "stream",
     "text": [
      "MyClass1: Level 1.2\n"
     ]
    }
   ],
   "source": [
    "print(MyClass12())"
   ]
  },
  {
   "cell_type": "markdown",
   "metadata": {},
   "source": [
    "This may seem counter-intuitive at first, but that is due to the semantics of the `super` function.  The method search will start after the class specified (in MRO order), so the first class to search for a `__repr__` implementation would be `FirstLevelClass2`, since that is the one after `FirstLevelClass1`, the first argument of `super`."
   ]
  },
  {
   "cell_type": "markdown",
   "metadata": {},
   "source": [
    "Similarly, to get the `__repr__` implementation of `BaseClass`, we would have to pass `FirstLevelClass2` to `super` so that the search starts in `BaseClass`."
   ]
  },
  {
   "cell_type": "code",
   "execution_count": 42,
   "metadata": {},
   "outputs": [],
   "source": [
    "class MyClassBase(FirstLevelClass1, FirstLevelClass2):\n",
    "    \n",
    "    def __repr__(self):\n",
    "        return 'MyClass1: ' + super(FirstLevelClass2, self).__repr__()"
   ]
  },
  {
   "cell_type": "code",
   "execution_count": 43,
   "metadata": {},
   "outputs": [
    {
     "name": "stdout",
     "output_type": "stream",
     "text": [
      "MyClass1: BaseClass\n"
     ]
    }
   ],
   "source": [
    "print(MyClassBase())"
   ]
  },
  {
   "cell_type": "markdown",
   "metadata": {},
   "source": [
    "Note that this is quite error prone.  If one of the classes in the hierarchy is redefined, this type of code is likely to break."
   ]
  },
  {
   "cell_type": "markdown",
   "metadata": {},
   "source": [
    "## Querying types"
   ]
  },
  {
   "cell_type": "markdown",
   "metadata": {},
   "source": [
    "The `type` function will return the class an object is an instance of, e.g.,"
   ]
  },
  {
   "cell_type": "code",
   "execution_count": 44,
   "metadata": {},
   "outputs": [
    {
     "data": {
      "text/plain": [
       "__main__.MyClass1"
      ]
     },
     "execution_count": 44,
     "metadata": {},
     "output_type": "execute_result"
    }
   ],
   "source": [
    "obj = MyClass1()\n",
    "type(obj)"
   ]
  },
  {
   "cell_type": "markdown",
   "metadata": {},
   "source": [
    "Each object (at least in Python 3) also has a `__class__` attribute that hold the same information, e.g.,"
   ]
  },
  {
   "cell_type": "code",
   "execution_count": 45,
   "metadata": {},
   "outputs": [
    {
     "data": {
      "text/plain": [
       "__main__.MyClass1"
      ]
     },
     "execution_count": 45,
     "metadata": {},
     "output_type": "execute_result"
    }
   ],
   "source": [
    "obj.__class__"
   ]
  },
  {
   "cell_type": "markdown",
   "metadata": {},
   "source": [
    "Hence it is easy to retrieve all ancestor classes of an object."
   ]
  },
  {
   "cell_type": "code",
   "execution_count": 46,
   "metadata": {},
   "outputs": [
    {
     "data": {
      "text/plain": [
       "[__main__.MyClass1,\n",
       " __main__.FirstLevelClass1,\n",
       " __main__.FirstLevelClass2,\n",
       " __main__.BaseClass,\n",
       " object]"
      ]
     },
     "execution_count": 46,
     "metadata": {},
     "output_type": "execute_result"
    }
   ],
   "source": [
    "obj.__class__.mro()"
   ]
  },
  {
   "cell_type": "markdown",
   "metadata": {},
   "source": [
    "However, in general you typically want to check whether an object is an instance of some class, and Python provides the `isinstance` function for that purpose."
   ]
  },
  {
   "cell_type": "code",
   "execution_count": 48,
   "metadata": {},
   "outputs": [
    {
     "data": {
      "text/plain": [
       "True"
      ]
     },
     "execution_count": 48,
     "metadata": {},
     "output_type": "execute_result"
    }
   ],
   "source": [
    "isinstance(obj, FirstLevelClass1)"
   ]
  },
  {
   "cell_type": "code",
   "execution_count": 49,
   "metadata": {},
   "outputs": [
    {
     "data": {
      "text/plain": [
       "False"
      ]
     },
     "execution_count": 49,
     "metadata": {},
     "output_type": "execute_result"
    }
   ],
   "source": [
    "isinstance(obj, MyClassBase)"
   ]
  },
  {
   "cell_type": "markdown",
   "metadata": {},
   "source": [
    "Obviously, an object is an instance of each class in its MRO, i.e.,"
   ]
  },
  {
   "cell_type": "code",
   "execution_count": 53,
   "metadata": {},
   "outputs": [
    {
     "name": "stdout",
     "output_type": "stream",
     "text": [
      "my object is instance of MyClass1\n",
      "my object is instance of FirstLevelClass1\n",
      "my object is instance of FirstLevelClass2\n",
      "my object is instance of BaseClass\n",
      "my object is instance of object\n"
     ]
    }
   ],
   "source": [
    "for cls in obj.__class__.mro():\n",
    "    if isinstance(obj, cls):\n",
    "        print(f'my object is instance of {cls.__name__}')\n",
    "    else:\n",
    "        print(f'weird for {cls.__name__}')"
   ]
  },
  {
   "cell_type": "markdown",
   "metadata": {},
   "source": [
    "At the class level, the function `issubclass` serves a similar purpose."
   ]
  },
  {
   "cell_type": "code",
   "execution_count": 50,
   "metadata": {},
   "outputs": [
    {
     "data": {
      "text/plain": [
       "True"
      ]
     },
     "execution_count": 50,
     "metadata": {},
     "output_type": "execute_result"
    }
   ],
   "source": [
    "issubclass(MyClass2, BaseClass)"
   ]
  },
  {
   "cell_type": "code",
   "execution_count": 51,
   "metadata": {},
   "outputs": [
    {
     "data": {
      "text/plain": [
       "False"
      ]
     },
     "execution_count": 51,
     "metadata": {},
     "output_type": "execute_result"
    }
   ],
   "source": [
    "issubclass(FirstLevelClass1, MyClass12)"
   ]
  },
  {
   "cell_type": "code",
   "execution_count": 54,
   "metadata": {},
   "outputs": [
    {
     "name": "stdout",
     "output_type": "stream",
     "text": [
      "my class is sbuclass of MyClass1\n",
      "my class is sbuclass of FirstLevelClass1\n",
      "my class is sbuclass of FirstLevelClass2\n",
      "my class is sbuclass of BaseClass\n",
      "my class is sbuclass of object\n"
     ]
    }
   ],
   "source": [
    "for cls in MyClass1.mro():\n",
    "    if issubclass(MyClass1, cls):\n",
    "        print(f'my class is sbuclass of {cls.__name__}')\n",
    "    else:\n",
    "        print(f'weird for {cls.__name__}')"
   ]
  },
  {
   "cell_type": "markdown",
   "metadata": {},
   "source": [
    "Note that a class is a subclass of itself."
   ]
  }
 ],
 "metadata": {
  "kernelspec": {
   "display_name": "Python 3",
   "language": "python",
   "name": "python3"
  },
  "language_info": {
   "codemirror_mode": {
    "name": "ipython",
    "version": 3
   },
   "file_extension": ".py",
   "mimetype": "text/x-python",
   "name": "python",
   "nbconvert_exporter": "python",
   "pygments_lexer": "ipython3",
   "version": "3.7.5"
  }
 },
 "nbformat": 4,
 "nbformat_minor": 4
}
