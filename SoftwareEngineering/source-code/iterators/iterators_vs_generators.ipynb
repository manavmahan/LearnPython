{
 "cells": [
  {
   "cell_type": "markdown",
   "id": "formed-ratio",
   "metadata": {},
   "source": [
    "# Requirements"
   ]
  },
  {
   "cell_type": "code",
   "execution_count": 1,
   "id": "intimate-update",
   "metadata": {},
   "outputs": [],
   "source": [
    "import itertools\n",
    "import math\n",
    "import sys"
   ]
  },
  {
   "cell_type": "markdown",
   "id": "forty-sauce",
   "metadata": {},
   "source": [
    "We define a simple function to test whether a given number is a prime."
   ]
  },
  {
   "cell_type": "code",
   "execution_count": 2,
   "id": "informal-documentation",
   "metadata": {},
   "outputs": [],
   "source": [
    "def is_prime(n):\n",
    "    '''verify whether a given integer is a prime\n",
    "    \n",
    "    Paraemeters\n",
    "    -----------\n",
    "    n : int\n",
    "        value to check\n",
    "        \n",
    "    Returns\n",
    "    -------\n",
    "    bool\n",
    "        True if the number is prime, False otherwise\n",
    "    '''\n",
    "    if n < 2:\n",
    "        return False\n",
    "    for divisor in range(2, int(round(math.sqrt(n), 0)) + 1):\n",
    "        if n % divisor == 0:\n",
    "            return False\n",
    "    return True"
   ]
  },
  {
   "cell_type": "markdown",
   "id": "insured-logan",
   "metadata": {},
   "source": [
    "We test it on a number of values."
   ]
  },
  {
   "cell_type": "code",
   "execution_count": 3,
   "id": "romance-japan",
   "metadata": {},
   "outputs": [
    {
     "name": "stdout",
     "output_type": "stream",
     "text": [
      "2 is prime\n",
      "3 is prime\n",
      "5 is prime\n",
      "7 is prime\n",
      "11 is prime\n",
      "13 is prime\n",
      "17 is prime\n",
      "19 is prime\n",
      "23 is prime\n",
      "29 is prime\n",
      "31 is prime\n",
      "37 is prime\n",
      "41 is prime\n",
      "43 is prime\n",
      "47 is prime\n"
     ]
    }
   ],
   "source": [
    "for n in range(50):\n",
    "    if is_prime(n):\n",
    "        print(f'{n} is prime')"
   ]
  },
  {
   "cell_type": "markdown",
   "id": "distributed-playback",
   "metadata": {},
   "source": [
    "Now we want something to give us an indetermined number of primes.  We do not want to specify\n",
    "* the maximum value of the value returned, or\n",
    "* the number of values to be returned.\n",
    "\n",
    "There are at least two approaches, one using object orientation by implementing an iterator class, the other implementing a generator."
   ]
  },
  {
   "cell_type": "markdown",
   "id": "alpha-concentration",
   "metadata": {},
   "source": [
    "# Iterator"
   ]
  },
  {
   "cell_type": "markdown",
   "id": "educated-portable",
   "metadata": {},
   "source": [
    "An iterator class has to implement two methods:\n",
    "1. `__iter__`: this returns an instance of the class taht is initialized;\n",
    "1. `__next__`: this method will return the consecutive values for this iterator, it computes the next value to return."
   ]
  },
  {
   "cell_type": "code",
   "execution_count": 4,
   "id": "informal-uniform",
   "metadata": {},
   "outputs": [],
   "source": [
    "class Primes:\n",
    "    '''Iterator that returns all prime numbers (if you have enough patience, that is).\n",
    "    \n",
    "    Example\n",
    "    -------\n",
    "    for n in Primes():\n",
    "        print(n)\n",
    "    '''\n",
    "    \n",
    "    @staticmethod\n",
    "    def _is_prime(n):\n",
    "        '''verify whether a given integer is a prime\n",
    "    \n",
    "        Paraemeters\n",
    "        -----------\n",
    "        n : int\n",
    "            value to check\n",
    "\n",
    "        Returns\n",
    "        -------\n",
    "        bool\n",
    "            True if the number is prime, False otherwise\n",
    "        '''\n",
    "        if n < 2:\n",
    "            return False\n",
    "        for divisor in range(2, int(round(math.sqrt(n), 0)) + 1):\n",
    "            if n % divisor == 0:\n",
    "                return False\n",
    "        return True\n",
    "\n",
    "    def __iter__(self):\n",
    "        '''initializes iterator\n",
    "        \n",
    "        Returns\n",
    "        -------\n",
    "        Primes\n",
    "            initialized iterator\n",
    "        '''\n",
    "        self._n = 2\n",
    "        return self\n",
    "    \n",
    "    def __next__(self):\n",
    "        '''next value of the iterator\n",
    "        \n",
    "        Returns\n",
    "        -------\n",
    "        int\n",
    "            next prime number in the sequence\n",
    "        '''\n",
    "        if self._n == 2:\n",
    "            self._n = 3\n",
    "            return 2\n",
    "        result = self._n\n",
    "        self._n += 2\n",
    "        while not Primes._is_prime(self._n):\n",
    "            self._n += 2\n",
    "        return result"
   ]
  },
  {
   "cell_type": "code",
   "execution_count": 5,
   "id": "dried-trading",
   "metadata": {},
   "outputs": [
    {
     "name": "stdout",
     "output_type": "stream",
     "text": [
      "2\n",
      "3\n",
      "5\n",
      "7\n",
      "11\n",
      "13\n",
      "17\n",
      "19\n",
      "23\n",
      "29\n",
      "31\n",
      "37\n",
      "41\n",
      "43\n",
      "47\n",
      "53\n",
      "59\n",
      "61\n",
      "67\n",
      "71\n",
      "73\n",
      "79\n",
      "83\n",
      "89\n",
      "97\n",
      "101\n"
     ]
    }
   ],
   "source": [
    "for prime in Primes():\n",
    "    print(prime)\n",
    "    if prime > 100:\n",
    "        break"
   ]
  },
  {
   "cell_type": "markdown",
   "id": "respected-rachel",
   "metadata": {},
   "source": [
    "Let's generalize that a bit so that the iterator returns only prime numbers between two given values."
   ]
  },
  {
   "cell_type": "code",
   "execution_count": 6,
   "id": "signal-hometown",
   "metadata": {},
   "outputs": [],
   "source": [
    "class Primes:\n",
    "    '''Iterator that returns all prime numbers (if you have enough patience, that is).\n",
    "    \n",
    "    Example\n",
    "    -------\n",
    "    for n in Primes():\n",
    "        print(n)\n",
    "    '''\n",
    "    \n",
    "    def __init__(self, low=2, high=None):\n",
    "        '''constructor that takes a low and a high value, generating prime numbers greater\n",
    "        than or equal to the low value, but less than the high value\n",
    "        \n",
    "        Parameters\n",
    "        ----------\n",
    "        low : int\n",
    "            start value for the sequence, default value 2\n",
    "        high : int\n",
    "            end value for the sequence, non-inclusive, default None, i.e., the sequence continues indefinetly\n",
    "            \n",
    "        Raises\n",
    "        ------\n",
    "        ValueError\n",
    "            when low is negative\n",
    "        '''\n",
    "        if low < 0:\n",
    "            raise ValueError('lower bound should be positive')\n",
    "        self._low = low\n",
    "        self._high = high\n",
    "        \n",
    "    @staticmethod\n",
    "    def _is_prime(n):\n",
    "        '''verify whether a given integer is a prime\n",
    "    \n",
    "        Paraemeters\n",
    "        -----------\n",
    "        n : int\n",
    "            value to check\n",
    "\n",
    "        Returns\n",
    "        -------\n",
    "        bool\n",
    "            True if the number is prime, False otherwise\n",
    "        '''\n",
    "        if n < 2:\n",
    "            return False\n",
    "        for divisor in range(2, int(round(math.sqrt(n), 0)) + 1):\n",
    "            if n % divisor == 0:\n",
    "                return False\n",
    "        return True\n",
    "\n",
    "    def __iter__(self):\n",
    "        '''initializes iterator\n",
    "        \n",
    "        Returns\n",
    "        -------\n",
    "        Primes\n",
    "            initialized iterator\n",
    "        '''\n",
    "        self._n = self._low\n",
    "        while not Primes._is_prime(self._n):\n",
    "            self._n += 1\n",
    "        return self\n",
    "    \n",
    "    def __next__(self):\n",
    "        '''next value of the iterator\n",
    "        \n",
    "        Returns\n",
    "        -------\n",
    "        int\n",
    "            next prime number in the sequence\n",
    "        '''\n",
    "        result = self._n\n",
    "        if self._high is not None and result >= self._high:\n",
    "            raise StopIteration()\n",
    "        if self._n == 2:\n",
    "            self._n = 3\n",
    "        else:\n",
    "            self._n += 2\n",
    "            while not Primes._is_prime(self._n):\n",
    "                self._n += 2\n",
    "        return result"
   ]
  },
  {
   "cell_type": "markdown",
   "id": "prerequisite-authentication",
   "metadata": {},
   "source": [
    "We need to raise a `StopIteration` exception when the iterator should not return any more values."
   ]
  },
  {
   "cell_type": "code",
   "execution_count": 7,
   "id": "white-ready",
   "metadata": {},
   "outputs": [
    {
     "name": "stdout",
     "output_type": "stream",
     "text": [
      "5\n",
      "7\n",
      "11\n",
      "13\n",
      "17\n"
     ]
    }
   ],
   "source": [
    "for n in Primes(4, 18):\n",
    "    print(n)"
   ]
  },
  {
   "cell_type": "markdown",
   "id": "heavy-configuration",
   "metadata": {},
   "source": [
    "Note that `Primes` has the same semantics as `range`, i.e., the high value is not inclusive."
   ]
  },
  {
   "cell_type": "code",
   "execution_count": 8,
   "id": "noticed-samba",
   "metadata": {},
   "outputs": [],
   "source": [
    "for n in Primes(14, 17):\n",
    "    print(n)"
   ]
  },
  {
   "cell_type": "code",
   "execution_count": 9,
   "id": "clean-proposition",
   "metadata": {},
   "outputs": [
    {
     "name": "stderr",
     "output_type": "stream",
     "text": [
      "error: lower bound should be positive\n"
     ]
    }
   ],
   "source": [
    "try:\n",
    "    for n in Primes(-3, 5):\n",
    "        print(n)\n",
    "except ValueError as error:\n",
    "    print('error:', error, file=sys.stderr)"
   ]
  },
  {
   "cell_type": "markdown",
   "id": "parallel-association",
   "metadata": {},
   "source": [
    "We can easily verify that two iterators are indepedent."
   ]
  },
  {
   "cell_type": "code",
   "execution_count": 10,
   "id": "banner-orleans",
   "metadata": {},
   "outputs": [
    {
     "name": "stdout",
     "output_type": "stream",
     "text": [
      " 5, 13\n",
      " 5, 17\n",
      " 5, 19\n",
      " 7, 13\n",
      " 7, 17\n",
      " 7, 19\n",
      "11, 13\n",
      "11, 17\n",
      "11, 19\n",
      "13, 13\n",
      "13, 17\n",
      "13, 19\n",
      "17, 13\n",
      "17, 17\n",
      "17, 19\n"
     ]
    }
   ],
   "source": [
    "for m in Primes(4, 18):\n",
    "    for n in Primes(12, 22):\n",
    "        print(f'{m:2d}, {n:2d}')"
   ]
  },
  {
   "cell_type": "markdown",
   "id": "selected-renaissance",
   "metadata": {},
   "source": [
    "# Generator"
   ]
  },
  {
   "cell_type": "code",
   "execution_count": 11,
   "id": "animated-organic",
   "metadata": {},
   "outputs": [],
   "source": [
    "def primes():\n",
    "    '''generator for prime number sequences\n",
    "    \n",
    "    Expample\n",
    "    --------\n",
    "    for n in primes():\n",
    "        print(n)\n",
    "    '''\n",
    "\n",
    "    def is_prime(n):\n",
    "        if n < 2:\n",
    "            return False\n",
    "        for divisor in range(2, int(round(math.sqrt(n), 0)) + 1):\n",
    "            if n % divisor == 0:\n",
    "                return False\n",
    "        return True\n",
    "\n",
    "    yield 2\n",
    "    n = 3\n",
    "    while True:\n",
    "        if is_prime(n):\n",
    "            yield n\n",
    "        n += 2"
   ]
  },
  {
   "cell_type": "code",
   "execution_count": 12,
   "id": "continued-graph",
   "metadata": {},
   "outputs": [
    {
     "name": "stdout",
     "output_type": "stream",
     "text": [
      "2\n",
      "3\n",
      "5\n",
      "7\n",
      "11\n",
      "13\n",
      "17\n",
      "19\n",
      "23\n",
      "29\n",
      "31\n",
      "37\n",
      "41\n",
      "43\n",
      "47\n",
      "53\n",
      "59\n",
      "61\n",
      "67\n",
      "71\n",
      "73\n",
      "79\n",
      "83\n",
      "89\n",
      "97\n",
      "101\n"
     ]
    }
   ],
   "source": [
    "for prime in primes():\n",
    "    print(prime)\n",
    "    if prime > 100:\n",
    "        break"
   ]
  },
  {
   "cell_type": "markdown",
   "id": "correct-reception",
   "metadata": {},
   "source": [
    "The behaviour of the generator is exactly the same as that of the iterator, but the implementation is significantly simpler.  It is straighforward to modify `primes` such that it generates only prime numbers within given bounds."
   ]
  },
  {
   "cell_type": "code",
   "execution_count": 13,
   "id": "statewide-value",
   "metadata": {},
   "outputs": [],
   "source": [
    "def primes(low=2, high=None):\n",
    "    '''generator for prime number sequences\n",
    "    \n",
    "    Expample\n",
    "    --------\n",
    "    for n in primes():\n",
    "        print(n)\n",
    "    '''\n",
    "\n",
    "    if low < 0:\n",
    "        raise ValueError('lower bound should be positive')\n",
    "        \n",
    "    def is_prime(n):\n",
    "        if n < 2:\n",
    "            return False\n",
    "        for divisor in range(2, int(round(math.sqrt(n), 0)) + 1):\n",
    "            if n % divisor == 0:\n",
    "                return False\n",
    "        return True\n",
    "\n",
    "    n = low\n",
    "    if n <= 2:\n",
    "        yield n\n",
    "        n = 3\n",
    "    elif n % 2 == 0:\n",
    "        n += 1\n",
    "    while True:\n",
    "        if is_prime(n):\n",
    "            if n < high:\n",
    "                yield n\n",
    "            else:\n",
    "                break\n",
    "        n += 2"
   ]
  },
  {
   "cell_type": "markdown",
   "id": "grave-peoples",
   "metadata": {},
   "source": [
    "We don't need to bother raising a `StopIteration` exception when the iterator should not return any more values."
   ]
  },
  {
   "cell_type": "code",
   "execution_count": 14,
   "id": "blind-accuracy",
   "metadata": {},
   "outputs": [
    {
     "name": "stdout",
     "output_type": "stream",
     "text": [
      "5\n",
      "7\n",
      "11\n",
      "13\n",
      "17\n"
     ]
    }
   ],
   "source": [
    "for n in primes(4, 18):\n",
    "    print(n)"
   ]
  },
  {
   "cell_type": "markdown",
   "id": "copyrighted-triangle",
   "metadata": {},
   "source": [
    "Note that `primes` has the same semantics as `range`, i.e., the high value is not inclusive."
   ]
  },
  {
   "cell_type": "code",
   "execution_count": 15,
   "id": "nearby-importance",
   "metadata": {},
   "outputs": [],
   "source": [
    "for n in primes(14, 17):\n",
    "    print(n)"
   ]
  },
  {
   "cell_type": "code",
   "execution_count": 16,
   "id": "colored-hybrid",
   "metadata": {},
   "outputs": [
    {
     "name": "stderr",
     "output_type": "stream",
     "text": [
      "error: lower bound should be positive\n"
     ]
    }
   ],
   "source": [
    "try:\n",
    "    for n in primes(-3, 5):\n",
    "        print(n)\n",
    "except ValueError as error:\n",
    "    print('error:', error, file=sys.stderr)"
   ]
  },
  {
   "cell_type": "markdown",
   "id": "spanish-allocation",
   "metadata": {},
   "source": [
    "We can easily verify that two generators are indepedent."
   ]
  },
  {
   "cell_type": "code",
   "execution_count": 17,
   "id": "owned-filling",
   "metadata": {},
   "outputs": [
    {
     "name": "stdout",
     "output_type": "stream",
     "text": [
      " 5, 13\n",
      " 5, 17\n",
      " 5, 19\n",
      " 7, 13\n",
      " 7, 17\n",
      " 7, 19\n",
      "11, 13\n",
      "11, 17\n",
      "11, 19\n",
      "13, 13\n",
      "13, 17\n",
      "13, 19\n",
      "17, 13\n",
      "17, 17\n",
      "17, 19\n"
     ]
    }
   ],
   "source": [
    "for m in primes(4, 18):\n",
    "    for n in primes(12, 22):\n",
    "        print(f'{m:2d}, {n:2d}')"
   ]
  },
  {
   "cell_type": "markdown",
   "id": "intensive-sullivan",
   "metadata": {},
   "source": [
    "# itertools"
   ]
  },
  {
   "cell_type": "markdown",
   "id": "decreased-behalf",
   "metadata": {},
   "source": [
    "`itertools` is a very nice and useful module in Python's standard libray.  It contains all we need to get our infinite sequence of prime numbers with a single line of code (except for the `is_prime` funciton.  We will also need Python's built-in `filter` function."
   ]
  },
  {
   "cell_type": "code",
   "execution_count": 18,
   "id": "dense-baltimore",
   "metadata": {},
   "outputs": [
    {
     "name": "stdout",
     "output_type": "stream",
     "text": [
      "2\n",
      "3\n",
      "5\n",
      "7\n",
      "11\n",
      "13\n",
      "17\n",
      "19\n",
      "23\n",
      "29\n",
      "31\n",
      "37\n",
      "41\n",
      "43\n",
      "47\n",
      "53\n",
      "59\n",
      "61\n",
      "67\n",
      "71\n",
      "73\n",
      "79\n",
      "83\n",
      "89\n",
      "97\n",
      "101\n"
     ]
    }
   ],
   "source": [
    "for prime in filter(is_prime, itertools.count()):\n",
    "    print(prime)\n",
    "    if prime > 100:\n",
    "        break"
   ]
  },
  {
   "cell_type": "markdown",
   "id": "organized-terrorism",
   "metadata": {},
   "source": [
    "We can limit the prime values taken by using a  `ragne`."
   ]
  },
  {
   "cell_type": "code",
   "execution_count": 19,
   "id": "spiritual-reminder",
   "metadata": {},
   "outputs": [
    {
     "name": "stdout",
     "output_type": "stream",
     "text": [
      "5\n",
      "7\n",
      "11\n",
      "13\n",
      "17\n"
     ]
    }
   ],
   "source": [
    "for prime in filter(is_prime, range(4, 18)):\n",
    "    print(prime)"
   ]
  },
  {
   "cell_type": "markdown",
   "id": "central-waste",
   "metadata": {},
   "source": [
    "Note the rather nice and simple lambda function to restrict the prima values."
   ]
  },
  {
   "cell_type": "code",
   "execution_count": 20,
   "id": "congressional-moses",
   "metadata": {},
   "outputs": [
    {
     "name": "stdout",
     "output_type": "stream",
     "text": [
      "5 13\n",
      "5 17\n",
      "5 19\n",
      "7 13\n",
      "7 17\n",
      "7 19\n",
      "11 13\n",
      "11 17\n",
      "11 19\n",
      "13 13\n",
      "13 17\n",
      "13 19\n",
      "17 13\n",
      "17 17\n",
      "17 19\n"
     ]
    }
   ],
   "source": [
    "for m in filter(lambda x: is_prime(x), range(4, 18)):\n",
    "    for n in filter(lambda x: is_prime(x), range(12, 22)):\n",
    "        print(m, n)"
   ]
  },
  {
   "cell_type": "markdown",
   "id": "moral-coral",
   "metadata": {},
   "source": [
    "For an application like this, `itertools.product` comes in handy."
   ]
  },
  {
   "cell_type": "code",
   "execution_count": 21,
   "id": "separate-london",
   "metadata": {},
   "outputs": [
    {
     "name": "stdout",
     "output_type": "stream",
     "text": [
      "5 13\n",
      "5 17\n",
      "5 19\n",
      "7 13\n",
      "7 17\n",
      "7 19\n",
      "11 13\n",
      "11 17\n",
      "11 19\n",
      "13 13\n",
      "13 17\n",
      "13 19\n",
      "17 13\n",
      "17 17\n",
      "17 19\n"
     ]
    }
   ],
   "source": [
    "for m, n in itertools.product(filter(lambda x: is_prime(x), range(4, 18)),\n",
    "                              filter(lambda x: is_prime(x), range(12, 22))):\n",
    "    print(m, n)"
   ]
  }
 ],
 "metadata": {
  "kernelspec": {
   "display_name": "Python 3",
   "language": "python",
   "name": "python3"
  },
  "language_info": {
   "codemirror_mode": {
    "name": "ipython",
    "version": 3
   },
   "file_extension": ".py",
   "mimetype": "text/x-python",
   "name": "python",
   "nbconvert_exporter": "python",
   "pygments_lexer": "ipython3",
   "version": "3.9.2"
  }
 },
 "nbformat": 4,
 "nbformat_minor": 5
}
