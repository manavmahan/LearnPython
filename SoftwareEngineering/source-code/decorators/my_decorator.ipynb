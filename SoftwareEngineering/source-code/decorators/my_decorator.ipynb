{
 "cells": [
  {
   "cell_type": "code",
   "execution_count": 14,
   "id": "5ffe495d-7c30-47fc-b5e8-e2d9d76f9f3a",
   "metadata": {},
   "outputs": [],
   "source": [
    "from functools import wraps"
   ]
  },
  {
   "cell_type": "code",
   "execution_count": 24,
   "id": "97c8d112-84db-4cf1-bbc8-187ee6c0fef3",
   "metadata": {},
   "outputs": [],
   "source": [
    "def decorator(func):\n",
    "    @wraps(func)\n",
    "    def wrapper(n):\n",
    "        print(f\"running before {func.__name__}\")\n",
    "        if n<0:\n",
    "            raise Exception(\"argument must be greater than 0\")\n",
    "        func(n)\n",
    "    \n",
    "    return wrapper\n",
    "\n",
    "def decorator2(func):\n",
    "    @wraps(func)\n",
    "    def wrapper(n):\n",
    "        func(n)\n",
    "        print(f\"running after {func.__name__}\")\n",
    "    \n",
    "    return wrapper"
   ]
  },
  {
   "cell_type": "code",
   "execution_count": 25,
   "id": "53c47e12-12bb-4c8a-af55-ee8dbc630c70",
   "metadata": {},
   "outputs": [],
   "source": [
    "@decorator\n",
    "@decorator2\n",
    "def func_main(n):\n",
    "    print(f\"Calculating square root: {n**0.5}\")"
   ]
  },
  {
   "cell_type": "code",
   "execution_count": 26,
   "id": "ac1b8913-2880-4dc6-abe4-1235aec0a5e8",
   "metadata": {},
   "outputs": [
    {
     "name": "stdout",
     "output_type": "stream",
     "text": [
      "running before func_main\n",
      "Calculating square root: 1.4142135623730951\n",
      "running after func_main\n"
     ]
    }
   ],
   "source": [
    "func_main(2)"
   ]
  },
  {
   "cell_type": "code",
   "execution_count": null,
   "id": "74550ae5-e9d3-49d6-badc-9d0c1cb0f9ef",
   "metadata": {},
   "outputs": [],
   "source": []
  }
 ],
 "metadata": {
  "kernelspec": {
   "display_name": "Python 3",
   "language": "python",
   "name": "python3"
  },
  "language_info": {
   "codemirror_mode": {
    "name": "ipython",
    "version": 3
   },
   "file_extension": ".py",
   "mimetype": "text/x-python",
   "name": "python",
   "nbconvert_exporter": "python",
   "pygments_lexer": "ipython3",
   "version": "3.8.8"
  }
 },
 "nbformat": 4,
 "nbformat_minor": 5
}
