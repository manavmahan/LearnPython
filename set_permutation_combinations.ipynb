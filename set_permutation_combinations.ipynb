{
 "cells": [
  {
   "cell_type": "code",
   "execution_count": 1,
   "id": "bd9c9514-42c8-459c-a36c-b9b0a01b7ed1",
   "metadata": {},
   "outputs": [
    {
     "name": "stdout",
     "output_type": "stream",
     "text": [
      "[['a', 'b'], ['a', 'c'], ['b', 'c']]\n"
     ]
    }
   ],
   "source": [
    "def factorial(number):\n",
    "    def is_negative(number):     \n",
    "        if number < 0:\n",
    "            raise ValueError(\"factorial cannot be calculated for a negative number!\")\n",
    "    try:\n",
    "        is_negative(number)\n",
    "    except ValueError as err:\n",
    "        print(err)\n",
    "    else:\n",
    "        return 1 if number <= 1 else number * factorial(number - 1)\n",
    "\n",
    "def get_ith_pemutations(list_char = ['1','2','a','b'], i=0):\n",
    "    l_char = list_char.copy()\n",
    "    permutation = []\n",
    "    while l_char:\n",
    "        count = factorial(len(l_char)-1)\n",
    "        select = i//count\n",
    "        permutation.append(l_char[select])\n",
    "        del(l_char[select])\n",
    "        i -= count * select\n",
    "    return permutation\n",
    "                \n",
    "def getElementFromEachList(l=[['1', '2'],['a', 'b']]):\n",
    "    if len(l) == 1:\n",
    "        return [[x] for x in l[0]]\n",
    "    result = []\n",
    "    for listElements in getElementFromEachList(l[1:]):\n",
    "        for fElement in l[0]:\n",
    "            result.append([fElement] + listElements)\n",
    "    return result\n",
    "\n",
    "def getPermutations(l=['a','b','c'], r=2):\n",
    "    results = []\n",
    "    def getPermutationsRecr(l, com = []):\n",
    "        if len(com) == r:\n",
    "            results.append(com)\n",
    "            return\n",
    "        for e in l:\n",
    "            li = list(l)\n",
    "            li.remove(e)\n",
    "            getPermutationsRecr(li, com + [e])\n",
    "    \n",
    "    getPermutationsRecr(l)\n",
    "    return results\n",
    "\n",
    "def getCombinations(l=['a','b','c'], r=2):\n",
    "    results = []\n",
    "    def getCombinationsRecr(l, com = []):\n",
    "        if len(com) == r:\n",
    "            results.append(com)\n",
    "            return\n",
    "\n",
    "        for i, e in enumerate(l):\n",
    "            getCombinationsRecr(l[i+1:], com + [e])\n",
    "    \n",
    "    getCombinationsRecr(l)\n",
    "    return results\n",
    "\n",
    "print(getCombinations())"
   ]
  },
  {
   "cell_type": "code",
   "execution_count": 30,
   "id": "c4c21206-234b-4008-ae5a-1975f280d42a",
   "metadata": {},
   "outputs": [
    {
     "data": {
      "text/plain": [
       "[['a', 'b', 'c'],\n",
       " ['a', 'c', 'b'],\n",
       " ['b', 'a', 'c'],\n",
       " ['b', 'c', 'a'],\n",
       " ['c', 'a', 'b'],\n",
       " ['c', 'b', 'a']]"
      ]
     },
     "execution_count": 30,
     "metadata": {},
     "output_type": "execute_result"
    }
   ],
   "source": [
    "def get_permutation_generator(ls=['a', 'b', 'c']):\n",
    "    if len(ls)==1:\n",
    "        yield ls\n",
    "    else:\n",
    "        for i, e in enumerate(ls):\n",
    "            for left in get_permutation_generator(ls[:i] + ls[i+1:]):\n",
    "                yield [e]+left\n",
    "                \n",
    "list(get_permutation_generator())"
   ]
  },
  {
   "cell_type": "code",
   "execution_count": null,
   "id": "85ca8214-b03b-4744-8196-056d2e3e3446",
   "metadata": {},
   "outputs": [],
   "source": []
  }
 ],
 "metadata": {
  "kernelspec": {
   "display_name": "Python 3",
   "language": "python",
   "name": "python3"
  },
  "language_info": {
   "codemirror_mode": {
    "name": "ipython",
    "version": 3
   },
   "file_extension": ".py",
   "mimetype": "text/x-python",
   "name": "python",
   "nbconvert_exporter": "python",
   "pygments_lexer": "ipython3",
   "version": "3.8.8"
  }
 },
 "nbformat": 4,
 "nbformat_minor": 5
}
