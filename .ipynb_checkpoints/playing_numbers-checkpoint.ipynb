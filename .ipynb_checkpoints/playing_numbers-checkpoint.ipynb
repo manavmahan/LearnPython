{
 "cells": [
  {
   "cell_type": "code",
   "execution_count": 30,
   "id": "52880635-6a1a-41b1-aec2-57bc698f9540",
   "metadata": {},
   "outputs": [
    {
     "data": {
      "text/plain": [
       "[2, 2, 5, 5]"
      ]
     },
     "execution_count": 30,
     "metadata": {},
     "output_type": "execute_result"
    }
   ],
   "source": [
    "def get_prime_factors(n):\n",
    "    i = 2\n",
    "    while n > i:\n",
    "        while n%i == 0:\n",
    "            yield i\n",
    "            n //= i\n",
    "        i += 1\n",
    "            \n",
    "    if n > 1:\n",
    "        yield n\n",
    "\n",
    "list(get_prime_factors(100))"
   ]
  },
  {
   "cell_type": "code",
   "execution_count": null,
   "id": "ce3d9275-3b9b-44b0-a3ee-3dbf04918b2d",
   "metadata": {},
   "outputs": [],
   "source": []
  }
 ],
 "metadata": {
  "kernelspec": {
   "display_name": "Python 3",
   "language": "python",
   "name": "python3"
  },
  "language_info": {
   "codemirror_mode": {
    "name": "ipython",
    "version": 3
   },
   "file_extension": ".py",
   "mimetype": "text/x-python",
   "name": "python",
   "nbconvert_exporter": "python",
   "pygments_lexer": "ipython3",
   "version": "3.8.8"
  }
 },
 "nbformat": 4,
 "nbformat_minor": 5
}
