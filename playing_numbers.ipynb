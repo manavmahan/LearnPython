{
 "cells": [
  {
   "cell_type": "code",
   "execution_count": 30,
   "id": "52880635-6a1a-41b1-aec2-57bc698f9540",
   "metadata": {},
   "outputs": [
    {
     "data": {
      "text/plain": [
       "[2, 2, 5, 5]"
      ]
     },
     "execution_count": 30,
     "metadata": {},
     "output_type": "execute_result"
    }
   ],
   "source": [
    "def get_prime_factors(n):\n",
    "    i = 2\n",
    "    while n > i:\n",
    "        while n%i == 0:\n",
    "            yield i\n",
    "            n //= i\n",
    "        i += 1\n",
    "            \n",
    "    if n > 1:\n",
    "        yield n\n",
    "\n",
    "list(get_prime_factors(100))"
   ]
  },
  {
   "cell_type": "code",
   "execution_count": 38,
   "id": "ce3d9275-3b9b-44b0-a3ee-3dbf04918b2d",
   "metadata": {},
   "outputs": [
    {
     "name": "stdout",
     "output_type": "stream",
     "text": [
      "0\n"
     ]
    },
    {
     "data": {
      "text/plain": [
       "False"
      ]
     },
     "execution_count": 38,
     "metadata": {},
     "output_type": "execute_result"
    }
   ],
   "source": [
    "n=1\n",
    "s='1'\n",
    "def queryString(s: str, n: int) -> bool:\n",
    "    for i in range(n+1):\n",
    "        print(i)\n",
    "        if not bin(i).replace('0b', '') in s:\n",
    "            return False\n",
    "    return True\n",
    "queryString(s, n)"
   ]
  },
  {
   "cell_type": "code",
   "execution_count": 56,
   "id": "5406f7c3-adba-4c57-844d-c76bbadc1cd3",
   "metadata": {},
   "outputs": [
    {
     "data": {
      "text/plain": [
       "[(3, 2, 9, 0), (0, 4, 2, 3), (8, 5, 6, 1), (4, 7, 3, 0)]"
      ]
     },
     "execution_count": 56,
     "metadata": {},
     "output_type": "execute_result"
    }
   ],
   "source": [
    "grid = [[3,0,8,4],[2,4,5,7],[9,2,6,3],[0,3,1,0]] \n",
    "list(zip(*grid))"
   ]
  },
  {
   "cell_type": "code",
   "execution_count": 52,
   "id": "cce40323-673a-49dd-a801-422a08036a9d",
   "metadata": {},
   "outputs": [
    {
     "data": {
      "text/plain": [
       "'ban'"
      ]
     },
     "execution_count": 52,
     "metadata": {},
     "output_type": "execute_result"
    }
   ],
   "source": [
    "'bank'[:3]"
   ]
  },
  {
   "cell_type": "code",
   "execution_count": 28,
   "id": "a6258125-60e5-4d68-8c7a-516dcac5ef24",
   "metadata": {},
   "outputs": [
    {
     "name": "stdout",
     "output_type": "stream",
     "text": [
      "0\n",
      "1\n",
      "1\n",
      "2\n",
      "3\n",
      "5\n",
      "8\n",
      "13\n",
      "21\n",
      "34\n"
     ]
    }
   ],
   "source": [
    "def getFibonacci():\n",
    "    a = 1; b =0\n",
    "    while(True):\n",
    "        yield (b)\n",
    "        a, b = b, a + b\n",
    "\n",
    "a = getFibonacci()\n",
    "for _ in range(10):\n",
    "    print(next(a))"
   ]
  }
 ],
 "metadata": {
  "kernelspec": {
   "display_name": "Python 3",
   "language": "python",
   "name": "python3"
  },
  "language_info": {
   "codemirror_mode": {
    "name": "ipython",
    "version": 3
   },
   "file_extension": ".py",
   "mimetype": "text/x-python",
   "name": "python",
   "nbconvert_exporter": "python",
   "pygments_lexer": "ipython3",
   "version": "3.8.8"
  }
 },
 "nbformat": 4,
 "nbformat_minor": 5
}
