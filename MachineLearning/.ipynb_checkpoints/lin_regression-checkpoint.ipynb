{
 "cells": [
  {
   "cell_type": "code",
   "execution_count": 8,
   "id": "9ebae902-814e-4895-9ca0-721425a8c16e",
   "metadata": {},
   "outputs": [],
   "source": [
    "import numpy as np\n",
    "from sklearn.linear_model import LinearRegression"
   ]
  },
  {
   "cell_type": "code",
   "execution_count": 208,
   "id": "fb4e3c0c-672a-468d-9726-55f6edac2482",
   "metadata": {},
   "outputs": [],
   "source": [
    "X = np.random.rand(100, 2)\n",
    "y = (2*X[:, 0] + 3*X[:, 1] + 0.001*np.random.rand(100)).reshape(100, 1)\n",
    "\n",
    "X_ = np.c_[np.ones((X.shape[0], 1)), X]"
   ]
  },
  {
   "cell_type": "code",
   "execution_count": 218,
   "id": "e3d50f4e-6b93-46af-91e4-49e9006e19e4",
   "metadata": {},
   "outputs": [],
   "source": [
    "def predict(X, theta):\n",
    "    return X @ theta.T\n",
    "\n",
    "def get_cost(y_true, y_pred, l1=0, l2=0, theta=None):\n",
    "    m = y_true.shape[0]\n",
    "    if theta.any():\n",
    "        penality = np.zeros(theta.shape)\n",
    "    if l1:\n",
    "        penality += (l1/m) * theta\n",
    "    if l2:\n",
    "        penality += (l2/m) * (theta ** 2)\n",
    "    return 0.5 * np.average((y_true - y_pred) ** 2) + np.sum(penality)\n",
    "    \n",
    "def get_grad(y_true, y_pred, X):\n",
    "    return (y_true - y_pred).T @ X\n",
    "\n",
    "def lin_reg(X, y_true, theta, iters=1000, lr=1, l1=0, l2=0):\n",
    "    m = X.shape[0]\n",
    "    for i in range(iters):\n",
    "        if l1:\n",
    "            reg = (l1/m) * np.array(theta!=0, dtype=int)        \n",
    "        if l2:\n",
    "            reg = (l2/m) * theta\n",
    "            \n",
    "        y_pred = X @ theta.T\n",
    "        theta += (lr/m) * get_grad(y_true, y_pred, X) - reg"
   ]
  },
  {
   "cell_type": "code",
   "execution_count": 227,
   "id": "278e1041-1db3-44f9-a915-c47388103a01",
   "metadata": {},
   "outputs": [],
   "source": [
    "theta = np.zeros((1, X_.shape[1]))\n",
    "lin_reg(X_, y, theta, lr=.1, l2=0.001, iters=1000)"
   ]
  },
  {
   "cell_type": "code",
   "execution_count": 228,
   "id": "53c074cd-6916-4b41-b7f3-e0eb962c8bc6",
   "metadata": {},
   "outputs": [
    {
     "name": "stdout",
     "output_type": "stream",
     "text": [
      "[[0.01520087 1.98550392 2.98769204]]\n",
      "9.443998141751415e-05\n"
     ]
    }
   ],
   "source": [
    "print(theta)\n",
    "c = get_cost(y, X_@theta.T, l1=0.001, l2=0.001, theta=theta)\n",
    "print(c)"
   ]
  },
  {
   "cell_type": "code",
   "execution_count": 158,
   "id": "66761e77-5a49-46c8-bf10-8470ea27a0cc",
   "metadata": {},
   "outputs": [
    {
     "data": {
      "text/plain": [
       "LinearRegression()"
      ]
     },
     "execution_count": 158,
     "metadata": {},
     "output_type": "execute_result"
    }
   ],
   "source": [
    "lin_reg_sk = LinearRegression()\n",
    "lin_reg_sk.fit(X_, y)"
   ]
  },
  {
   "cell_type": "code",
   "execution_count": 159,
   "id": "ea776dd6-6733-4433-a67c-41a45b4e8b00",
   "metadata": {},
   "outputs": [
    {
     "data": {
      "text/plain": [
       "array([[0.        , 2.00133397, 3.00060784]])"
      ]
     },
     "execution_count": 159,
     "metadata": {},
     "output_type": "execute_result"
    }
   ],
   "source": [
    "lin_reg_sk.coef_"
   ]
  },
  {
   "cell_type": "code",
   "execution_count": 166,
   "id": "0034cbcd-80ae-47da-aeb9-d9e272e47547",
   "metadata": {},
   "outputs": [
    {
     "data": {
      "text/plain": [
       "array([[0.00398438],\n",
       "       [2.00133397],\n",
       "       [3.00060784]])"
      ]
     },
     "execution_count": 166,
     "metadata": {},
     "output_type": "execute_result"
    }
   ],
   "source": [
    "beta = np.linalg.inv(X_.T @ X_) @ X_.T @ y\n",
    "beta"
   ]
  }
 ],
 "metadata": {
  "kernelspec": {
   "display_name": "Python 3",
   "language": "python",
   "name": "python3"
  },
  "language_info": {
   "codemirror_mode": {
    "name": "ipython",
    "version": 3
   },
   "file_extension": ".py",
   "mimetype": "text/x-python",
   "name": "python",
   "nbconvert_exporter": "python",
   "pygments_lexer": "ipython3",
   "version": "3.8.8"
  }
 },
 "nbformat": 4,
 "nbformat_minor": 5
}
