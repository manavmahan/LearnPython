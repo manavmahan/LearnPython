{
 "cells": [
  {
   "cell_type": "markdown",
   "id": "f56e84be-9c12-45b4-90ae-4d47173ec4c6",
   "metadata": {
    "slideshow": {
     "slide_type": "fragment"
    },
    "tags": []
   },
   "source": [
    "# Chapter 2"
   ]
  },
  {
   "cell_type": "markdown",
   "id": "31d86aa8-d89f-40b5-86ae-c57b1c2302c3",
   "metadata": {},
   "source": [
    "## descriptive statistics using numpy and matplotlib"
   ]
  },
  {
   "cell_type": "code",
   "execution_count": null,
   "id": "84297ea2-9608-4c92-9a66-0c1050abe6ed",
   "metadata": {
    "tags": []
   },
   "outputs": [],
   "source": [
    "import sklearn.datasets\n",
    "import matplotlib.pyplot as plt\n",
    "import numpy as np\n",
    "%matplotlib inline"
   ]
  },
  {
   "cell_type": "code",
   "execution_count": null,
   "id": "c963bdc7-00b1-4a62-be80-d0ed4628644b",
   "metadata": {
    "tags": []
   },
   "outputs": [],
   "source": [
    "# get California housing dataset\n",
    "data = sklearn.datasets.fetch_california_housing()\n",
    "X = data.data\n",
    "y = data.target.reshape(-1, 1)"
   ]
  },
  {
   "cell_type": "code",
   "execution_count": null,
   "id": "948e7d00-2071-430d-a255-258f2d5fb74c",
   "metadata": {
    "tags": []
   },
   "outputs": [],
   "source": [
    "# scatter plot (latitude, longitude, median income, and cost)\n",
    "plt.scatter(X[:, 6], X[:, 7], s=X[:, 0], c=y)\n",
    "plt.colorbar();"
   ]
  },
  {
   "cell_type": "code",
   "execution_count": null,
   "id": "ffd7477a-ef57-4a9f-92ac-e0be9c4814a5",
   "metadata": {
    "tags": []
   },
   "outputs": [],
   "source": [
    "# co-variance heat map\n",
    "from matplotlib import cm\n",
    "X_y = np.concatenate((X, y), axis=1)\n",
    "cov = np.corrcoef(X_y.T)\n",
    "ax = plt.matshow(abs(cov), cmap=cm.cividis)\n",
    "plt.colorbar()\n",
    "\n",
    "ticks = data.feature_names + data.target_names\n",
    "plt.xticks(range(len(ticks)), ticks, rotation=90)\n",
    "plt.yticks(range(len(ticks)), ticks);"
   ]
  },
  {
   "cell_type": "code",
   "execution_count": null,
   "id": "e8d1d2b6-8246-4919-9ac3-a0f43b233dab",
   "metadata": {
    "tags": []
   },
   "outputs": [],
   "source": [
    "# scatter matrix\n",
    "n = X_y.shape[1]\n",
    "fig, axes = plt.subplots(figsize=(n*2, n*2), nrows=n, ncols=n)\n",
    "for i in range(n):\n",
    "    for j in range(n):\n",
    "        plt.sca(axes[i, j])\n",
    "        if i==n-1: plt.xlabel(ticks[j])\n",
    "        if j==0: plt.ylabel(ticks[i])\n",
    "        if i==j:\n",
    "            da = X_y[:, i]\n",
    "            plt.hist(X_y[:, i], \n",
    "                     bins = np.arange(min(da), max(da), (max(da)-min(da))/20))\n",
    "        else:\n",
    "            if i>j:\n",
    "                plt.scatter(X_y[:, i], X_y[:, j])\n",
    "            else:\n",
    "                plt.text(0, 0, f'{cov[i, j]:.2f}')\n",
    "                plt.xlim([-1, 1])\n",
    "                plt.ylim([-1, 1])\n",
    "                plt.axis('off')"
   ]
  },
  {
   "cell_type": "markdown",
   "id": "b73a3f27-e815-4e48-a02c-f218ed9995c2",
   "metadata": {},
   "source": [
    "## descriptive statistics and visualisation using pandas"
   ]
  },
  {
   "cell_type": "code",
   "execution_count": null,
   "id": "68ee8af6-d331-43c8-92d3-d7691dce6e7d",
   "metadata": {
    "tags": []
   },
   "outputs": [],
   "source": [
    "import pandas as pd\n",
    "\n",
    "file = 'C:/Users/manav.singh/Documents/GitHub/learn_python/datasets/housing/housing.csv'\n",
    "housing = pd.read_csv(file)\n",
    "\n",
    "housing.info()\n",
    "housing.describe()"
   ]
  },
  {
   "cell_type": "code",
   "execution_count": null,
   "id": "b2d23322-7f68-4333-8663-0f674484f44a",
   "metadata": {
    "tags": []
   },
   "outputs": [],
   "source": [
    "housing.hist(figsize=(10, 10), bins=50);"
   ]
  },
  {
   "cell_type": "code",
   "execution_count": null,
   "id": "3a0ac166-93a5-446c-8959-94ad3f138c9f",
   "metadata": {
    "tags": []
   },
   "outputs": [],
   "source": [
    "pd.plotting.scatter_matrix(housing, figsize=(20, 20));"
   ]
  },
  {
   "cell_type": "code",
   "execution_count": null,
   "id": "a0183eb7-0f9d-41ac-9977-9bc02cf8b5a0",
   "metadata": {
    "tags": []
   },
   "outputs": [],
   "source": [
    "housing.index = housing.longitude * 1000 + housing.latitude"
   ]
  },
  {
   "cell_type": "code",
   "execution_count": null,
   "id": "4391c803-1400-4b4f-84c6-aa2424e0f673",
   "metadata": {},
   "outputs": [],
   "source": [
    "housing['income_cat'] = pd.cut(housing.median_income, bins = [0, 1.5, 3, 4.5, 6, np.inf], labels = range(1, 6))"
   ]
  },
  {
   "cell_type": "code",
   "execution_count": null,
   "id": "257ca6e0-7f2d-405d-a02d-3d786d9d8c1e",
   "metadata": {},
   "outputs": [],
   "source": [
    "housing.income_cat.hist();"
   ]
  },
  {
   "cell_type": "code",
   "execution_count": null,
   "id": "9e5b771b-c017-4fc3-84e8-2e654cf98468",
   "metadata": {},
   "outputs": [],
   "source": [
    "housing.reset_index(inplace=True)\n",
    "from sklearn.model_selection import StratifiedShuffleSplit\n",
    "split = StratifiedShuffleSplit(n_splits=1, test_size=0.2, random_state=0)\n",
    "\n",
    "[[train_index, test_index]] = split.split(housing, housing.income_cat)\n",
    "\n",
    "strat_train_test = housing.loc[train_index]\n",
    "strat_test_set = housing.loc[test_index]"
   ]
  },
  {
   "cell_type": "code",
   "execution_count": null,
   "id": "f50de490-2f25-4eae-a0ae-e235eec85c7d",
   "metadata": {},
   "outputs": [],
   "source": [
    "print(strat_test_set.income_cat.value_counts()/len(strat_test_set))\n",
    "print(housing.income_cat.value_counts()/len(housing))"
   ]
  },
  {
   "cell_type": "code",
   "execution_count": null,
   "id": "c22593c1-a63d-49bd-a0db-041d66f901d7",
   "metadata": {},
   "outputs": [],
   "source": [
    "housing = strat_train_test.copy()"
   ]
  },
  {
   "cell_type": "code",
   "execution_count": null,
   "id": "0afe4de5-8a21-4631-ac4d-af692deeec1e",
   "metadata": {},
   "outputs": [],
   "source": [
    "housing.plot(kind='scatter', x='longitude', y='latitude', s=housing.population/100, label='population', alpha=0.4,\n",
    "            figsize=(10,7), c=housing.median_house_value, cmap=plt.get_cmap('jet'), colorbar=True)\n",
    "plt.legend();"
   ]
  },
  {
   "cell_type": "code",
   "execution_count": null,
   "id": "4ffba6a4-ddec-44c1-87c4-b77c1125740c",
   "metadata": {},
   "outputs": [],
   "source": [
    "housing.drop('index', axis=1, inplace=True)\n",
    "corr_matrix = housing.corr()\n",
    "corr_matrix['median_house_value'].sort_values(ascending=False)"
   ]
  },
  {
   "cell_type": "code",
   "execution_count": null,
   "id": "5041769e-b7f4-44ac-9813-4510977fbb53",
   "metadata": {},
   "outputs": [],
   "source": [
    "attributes = ['median_house_value', 'median_income', 'total_rooms', 'housing_median_age']\n",
    "pd.plotting.scatter_matrix(housing[attributes], figsize=(12, 8));"
   ]
  },
  {
   "cell_type": "markdown",
   "id": "795ab86a-0078-4246-8700-820c1cd59800",
   "metadata": {},
   "source": [
    "## experimenting with attribute combinations"
   ]
  },
  {
   "cell_type": "code",
   "execution_count": null,
   "id": "d1296c5e-ece3-474e-b84f-57d417565e11",
   "metadata": {},
   "outputs": [],
   "source": [
    "housing['rooms_per_household'] = housing.total_rooms / housing.households\n",
    "housing['bedrooms_per_room'] = housing.total_bedrooms / housing.total_rooms\n",
    "housing['population_per_household'] = housing.total_bedrooms / housing.households\n",
    "\n",
    "corr_matrix = housing.corr()['median_house_value'].sort_values(ascending=False)\n",
    "print(corr_matrix)"
   ]
  },
  {
   "cell_type": "markdown",
   "id": "daa7198e-a796-44e8-a4c0-dab4947401ba",
   "metadata": {},
   "source": [
    "## prepare the data for ML algorithms\n",
    "to allow reproduce results, library for further transformations, easily try various transformations"
   ]
  },
  {
   "cell_type": "code",
   "execution_count": null,
   "id": "c1b973c9-1b19-494b-8e41-ea89acedd033",
   "metadata": {},
   "outputs": [],
   "source": [
    "housing = strat_train_test.drop(['index', 'median_house_value'], axis=1)\n",
    "housing_label = strat_train_test.median_house_value.copy()"
   ]
  },
  {
   "cell_type": "markdown",
   "id": "c010a8c2-592b-4173-8fa4-89338dfe5b7c",
   "metadata": {},
   "source": [
    "## data cleaning\n",
    "##### remove samples, remove attribute, or impute zero, mean, or median value"
   ]
  },
  {
   "cell_type": "code",
   "execution_count": null,
   "id": "b10ad614-24f5-4bd1-b200-c061a4919a87",
   "metadata": {},
   "outputs": [],
   "source": [
    "housing.dropna(axis=0).describe()"
   ]
  },
  {
   "cell_type": "code",
   "execution_count": null,
   "id": "c64bbf2c-59cd-4624-b173-acd1906c690b",
   "metadata": {},
   "outputs": [],
   "source": [
    "housing.dropna(axis=1).describe()"
   ]
  },
  {
   "cell_type": "code",
   "execution_count": null,
   "id": "5463e660-ce6b-4e6e-a51f-9b2407d48063",
   "metadata": {},
   "outputs": [],
   "source": [
    "housing.total_bedrooms.fillna(housing.total_bedrooms.median())"
   ]
  },
  {
   "cell_type": "code",
   "execution_count": null,
   "id": "314e26ee-54c0-4b3e-bac4-7b95a05190af",
   "metadata": {},
   "outputs": [],
   "source": [
    "from sklearn.impute import SimpleImputer\n",
    "imputer = SimpleImputer(strategy='median')\n",
    "housing_num = housing.drop(['income_cat', 'ocean_proximity'], axis=1)\n",
    "imputer.fit(housing_num)"
   ]
  },
  {
   "cell_type": "code",
   "execution_count": null,
   "id": "b92bbb91-94b2-4380-9b74-9add8c221d78",
   "metadata": {},
   "outputs": [],
   "source": [
    "housing_num.median().values"
   ]
  },
  {
   "cell_type": "code",
   "execution_count": null,
   "id": "85bb51e0-910f-4b1b-8b08-dd6174375af7",
   "metadata": {},
   "outputs": [],
   "source": [
    "imputer.statistics_"
   ]
  },
  {
   "cell_type": "code",
   "execution_count": null,
   "id": "4605f6b1-819e-4561-9af0-0be5d2b93f6a",
   "metadata": {},
   "outputs": [],
   "source": [
    "X = imputer.transform(housing_num)\n",
    "housing_tr = pd.DataFrame(X, columns=housing_num.columns)"
   ]
  },
  {
   "cell_type": "markdown",
   "id": "d04efede-0dbf-43ba-a6ae-bf7146f1dcc7",
   "metadata": {},
   "source": [
    "## handling text and categorical attributes"
   ]
  },
  {
   "cell_type": "code",
   "execution_count": null,
   "id": "8b4aa1bd-d8d4-460c-90b4-20fdce70fd0f",
   "metadata": {},
   "outputs": [],
   "source": [
    "housing_cat = housing[['ocean_proximity']]\n",
    "from sklearn.preprocessing import OrdinalEncoder\n",
    "encoder = OrdinalEncoder()\n",
    "housing_cat_encoded = encoder.fit_transform(housing_cat)\n",
    "print(housing_cat_encoded[:10])\n",
    "print(encoder.categories_)"
   ]
  },
  {
   "cell_type": "code",
   "execution_count": null,
   "id": "fa340b5d-9ca0-4b86-ad3e-1729d3d5e19a",
   "metadata": {},
   "outputs": [],
   "source": [
    "from sklearn.preprocessing import OneHotEncoder\n",
    "cat_encoder = OneHotEncoder()\n",
    "housing_cat_one_hot = cat_encoder.fit_transform(housing_cat)\n",
    "print(type(housing_cat_one_hot))"
   ]
  },
  {
   "cell_type": "markdown",
   "id": "10e12473-0dac-454d-b523-7e4e2b806dbe",
   "metadata": {},
   "source": [
    "## custom transformers"
   ]
  },
  {
   "cell_type": "code",
   "execution_count": null,
   "id": "963867a9-5f84-4868-b953-492d5931de9c",
   "metadata": {},
   "outputs": [],
   "source": [
    "from sklearn.base import BaseEstimator, TransformerMixin\n",
    "rooms_ix, bedrooms_ix, population_ix, households_ix = 3, 4, 5, 6\n",
    "\n",
    "class CombinedAttributes(BaseEstimator, TransformerMixin):\n",
    "    def __init__(self, add_bedrooms_per_room=True):\n",
    "        self.add_bedrooms_per_room = add_bedrooms_per_room\n",
    "    \n",
    "    def fit(self, X, y=None):\n",
    "        return self\n",
    "    \n",
    "    def transform(self, X, y=None):\n",
    "        rooms_per_household = X[:, rooms_ix] / X[:, households_ix]\n",
    "        population_per_household = X[:, population_ix] / X[:, households_ix]\n",
    "        if self.add_bedrooms_per_room:\n",
    "            bedrooms_per_room = X[:, bedrooms_ix] / X[:, rooms_ix]\n",
    "            return np.c_[X, rooms_per_household, population_per_household, bedrooms_per_room]\n",
    "        else:\n",
    "            return np.c_[X, rooms_per_household, population_per_household]\n",
    "\n",
    "attr_adder = CombinedAttributes()\n",
    "housing_extra_attribs = attr_adder.transform(housing.values)\n",
    "print(housing_extra_attribs[0])"
   ]
  },
  {
   "cell_type": "markdown",
   "id": "ec2b5b7c-9690-4fb5-8a4f-0a170658e8a2",
   "metadata": {},
   "source": [
    "## feature scaling"
   ]
  },
  {
   "cell_type": "code",
   "execution_count": null,
   "id": "7cd43ea2-a4cf-4e88-a901-7f966f723380",
   "metadata": {},
   "outputs": [],
   "source": [
    "from sklearn.preprocessing import MinMaxScaler, StandardScaler\n",
    "from sklearn.pipeline import Pipeline\n",
    "\n",
    "num_pipeline = Pipeline([('imputer', SimpleImputer(strategy='median')), \n",
    "                        ('attribs_adder', CombinedAttributes()),\n",
    "                        ('std_scalar', StandardScaler())\n",
    "                        ])\n",
    "\n",
    "housing_num_tr = num_pipeline.fit_transform(housing_num)\n",
    "housing_num_tr[0]"
   ]
  },
  {
   "cell_type": "code",
   "execution_count": null,
   "id": "c4daded3-3c3a-44e7-b32a-e6deb19a366f",
   "metadata": {},
   "outputs": [],
   "source": [
    "from sklearn.compose import ColumnTransformer\n",
    "num_attribs = list(housing_num)\n",
    "cat_attribs = ['ocean_proximity']\n",
    "\n",
    "full_pipeline = ColumnTransformer([('num', num_pipeline, num_attribs), ('cat', OneHotEncoder(), cat_attribs)])\n",
    "housing_prepared = full_pipeline.fit_transform(housing)"
   ]
  },
  {
   "cell_type": "markdown",
   "id": "98ad3eb2-ee0f-4e35-8a8f-b484a4270925",
   "metadata": {},
   "source": [
    "## select and train a model"
   ]
  },
  {
   "cell_type": "code",
   "execution_count": null,
   "id": "72f070f0-312d-43b1-a6ff-eec59e1cb207",
   "metadata": {},
   "outputs": [],
   "source": [
    "from sklearn.linear_model import LinearRegression\n",
    "lin_reg = LinearRegression()\n",
    "lin_reg.fit(housing_prepared, housing_label)\n",
    "\n",
    "housing_predictions = lin_reg.predict(housing_prepared)\n",
    "\n",
    "from sklearn.metrics import mean_squared_error as mse\n",
    "error = mse(housing_label.values, housing_predictions)\n",
    "print(np.sqrt(error))"
   ]
  },
  {
   "cell_type": "code",
   "execution_count": null,
   "id": "b6aab544-2186-4d98-9ad3-8f25589f922a",
   "metadata": {},
   "outputs": [],
   "source": [
    "from sklearn.tree import DecisionTreeRegressor\n",
    "tree_reg = DecisionTreeRegressor()\n",
    "tree_reg.fit(housing_prepared, housing_label)\n",
    "\n",
    "housing_tree_predictions = tree_reg.predict(housing_prepared)\n",
    "tree_error = mse(housing_label.values, housing_tree_predictions)\n",
    "print(np.sqrt(tree_error))"
   ]
  },
  {
   "cell_type": "markdown",
   "id": "d0f84916-5674-4230-9571-607dedc5a318",
   "metadata": {},
   "source": [
    "## better evaluation using cross-validation"
   ]
  },
  {
   "cell_type": "code",
   "execution_count": null,
   "id": "223ca69f-87dc-4dfd-bbbe-858c85e398e1",
   "metadata": {},
   "outputs": [],
   "source": [
    "from sklearn.model_selection import cross_val_score\n",
    "tree_scores = cross_val_score(tree_reg, housing_prepared, housing_label, scoring='neg_mean_squared_error', cv=10)\n",
    "tree_rmse = np.sqrt(-tree_scores)\n",
    "\n",
    "def display_score(scores):\n",
    "    print(f'Scores: {scores}\\nMean: {scores.mean():.0f}\\nStd: {scores.std():.0f}')\n",
    "    \n",
    "display_score(tree_rmse)"
   ]
  },
  {
   "cell_type": "code",
   "execution_count": null,
   "id": "fed7bcfa-3ced-4c20-87c1-370379fe17f6",
   "metadata": {},
   "outputs": [],
   "source": [
    "lin_scores = cross_val_score(lin_reg, housing_prepared, housing_label, scoring='neg_mean_squared_error', cv=10)\n",
    "display_score(np.sqrt(-lin_scores))"
   ]
  },
  {
   "cell_type": "code",
   "execution_count": null,
   "id": "cf48c025-1773-40a2-bdc0-dc8f48cfebe3",
   "metadata": {},
   "outputs": [],
   "source": [
    "from sklearn.ensemble import RandomForestRegressor\n",
    "forest_reg = RandomForestRegressor()\n",
    "forest_scores = cross_val_score(forest_reg, housing_prepared, housing_label, scoring='neg_mean_squared_error', cv=10)\n",
    "display_score(np.sqrt(-forest_scores))"
   ]
  },
  {
   "cell_type": "markdown",
   "id": "0e8df748-1cf2-4092-8e7c-b5410da08582",
   "metadata": {},
   "source": [
    "## fine tuning the model"
   ]
  },
  {
   "cell_type": "code",
   "execution_count": null,
   "id": "e974beed-ed7d-4a74-99a8-b7da7d9415bc",
   "metadata": {},
   "outputs": [],
   "source": [
    "from sklearn.model_selection import GridSearchCV\n",
    "param_grid = [\n",
    "    {\n",
    "        'n_estimators': [3, 10],\n",
    "        'max_features': [2, 4]\n",
    "    },\n",
    "    {\n",
    "        'bootstrap': [False],\n",
    "        'n_estimators': [3, 10],\n",
    "        'max_features': [2, 3, 4]\n",
    "    }\n",
    "]\n",
    "\n",
    "forest_reg = RandomForestRegressor()\n",
    "grid_search = GridSearchCV(forest_reg, param_grid, cv=5,\n",
    "                          scoring='neg_mean_squared_error',\n",
    "                          return_train_score=True)\n",
    "\n",
    "grid_search.fit(housing_prepared, housing_label)"
   ]
  },
  {
   "cell_type": "code",
   "execution_count": null,
   "id": "e79feb86-e6fc-4386-9143-ab4a70f9225d",
   "metadata": {},
   "outputs": [],
   "source": [
    "cv_results = grid_search.cv_results_\n",
    "for param, score in zip(cv_results['params'], cv_results['mean_test_score']):\n",
    "    print(f'{param}: {np.sqrt(-score):.2f}')"
   ]
  },
  {
   "cell_type": "code",
   "execution_count": null,
   "id": "4d810701-5be6-4a5b-a26b-2001752d2d43",
   "metadata": {},
   "outputs": [],
   "source": [
    "grid_search.best_estimator_.feature_importances_"
   ]
  },
  {
   "cell_type": "markdown",
   "id": "a5a45691-4a35-42f5-83d9-88e5650dc03d",
   "metadata": {},
   "source": [
    "## Evaluating model on the test dataset"
   ]
  },
  {
   "cell_type": "code",
   "execution_count": null,
   "id": "c283ddef-d5d4-4d50-9905-fef301e71c4d",
   "metadata": {},
   "outputs": [],
   "source": [
    "final_model = grid_search.best_estimator_\n",
    "X_test = strat_test_set.drop(['index', 'median_house_value'], axis=1)\n",
    "y_test = strat_test_set['median_house_value']\n",
    "\n",
    "X_test_prepared = full_pipeline.transform(X_test)\n",
    "y_pred = final_model.predict(X_test_prepared)\n",
    "test_rmse = sklearn.metrics.mean_squared_error(y_test, y_pred, squared=False)\n",
    "print(test_rmse)"
   ]
  },
  {
   "cell_type": "markdown",
   "id": "72136040-5a29-4ed2-924b-4d76c2a0f0c0",
   "metadata": {},
   "source": [
    "## Launch, monitor, and maintain system"
   ]
  }
 ],
 "metadata": {
  "kernelspec": {
   "display_name": "Python 3",
   "language": "python",
   "name": "python3"
  },
  "language_info": {
   "codemirror_mode": {
    "name": "ipython",
    "version": 3
   },
   "file_extension": ".py",
   "mimetype": "text/x-python",
   "name": "python",
   "nbconvert_exporter": "python",
   "pygments_lexer": "ipython3",
   "version": "3.8.8"
  }
 },
 "nbformat": 4,
 "nbformat_minor": 5
}
