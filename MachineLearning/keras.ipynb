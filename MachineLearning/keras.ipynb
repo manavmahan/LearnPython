{
 "cells": [
  {
   "cell_type": "code",
   "execution_count": 1,
   "id": "9929c1e3-8c9b-4602-9d12-63ad0a25983b",
   "metadata": {},
   "outputs": [],
   "source": [
    "import tensorflow as tf\n",
    "tf.keras.backend.clear_session()\n",
    "import matplotlib.pyplot as plt\n",
    "import numpy as np"
   ]
  },
  {
   "cell_type": "markdown",
   "id": "21f095e1-62fe-4f67-9093-0cb1b4526ef2",
   "metadata": {},
   "source": [
    "# Load image data from fashion_mnist dataset"
   ]
  },
  {
   "cell_type": "code",
   "execution_count": 4,
   "id": "16500dc8-45d3-4121-ae2a-a9e71af5ce26",
   "metadata": {},
   "outputs": [],
   "source": [
    "img_shape = (28, 28)\n",
    "(raw_train_X, raw_train_y), (raw_test_X, raw_test_y) = tf.keras.datasets.fashion_mnist.load_data()\n",
    "\n",
    "train_X = raw_train_X / 255\n",
    "test_X = raw_test_X / 255\n",
    "\n",
    "test_y = raw_test_y\n",
    "train_y = np.eye(10)[raw_train_y]"
   ]
  },
  {
   "cell_type": "markdown",
   "id": "ea2b19cb-7654-43a3-876e-5d4e0dd646b8",
   "metadata": {},
   "source": [
    "## multi-class classifier using deep neural network"
   ]
  },
  {
   "cell_type": "code",
   "execution_count": 13,
   "id": "77db438e-39e6-41c2-a722-74a61f840a44",
   "metadata": {},
   "outputs": [
    {
     "name": "stdout",
     "output_type": "stream",
     "text": [
      "Epoch 1/10\n",
      "1500/1500 [==============================] - 6s 3ms/step - loss: 0.7063 - categorical_accuracy: 0.8116 - val_loss: 0.5773 - val_categorical_accuracy: 0.8462\n",
      "Epoch 2/10\n",
      "1500/1500 [==============================] - 5s 3ms/step - loss: 0.5417 - categorical_accuracy: 0.8493 - val_loss: 0.5085 - val_categorical_accuracy: 0.8594\n",
      "Epoch 3/10\n",
      "1500/1500 [==============================] - 5s 3ms/step - loss: 0.4946 - categorical_accuracy: 0.8582 - val_loss: 0.4739 - val_categorical_accuracy: 0.8597\n",
      "Epoch 4/10\n",
      "1500/1500 [==============================] - 5s 3ms/step - loss: 0.4703 - categorical_accuracy: 0.8620 - val_loss: 0.4945 - val_categorical_accuracy: 0.8561\n",
      "Epoch 5/10\n",
      "1500/1500 [==============================] - 5s 3ms/step - loss: 0.4557 - categorical_accuracy: 0.8645 - val_loss: 0.4515 - val_categorical_accuracy: 0.8696\n",
      "Epoch 6/10\n",
      "1500/1500 [==============================] - 5s 3ms/step - loss: 0.4378 - categorical_accuracy: 0.8703 - val_loss: 0.4382 - val_categorical_accuracy: 0.8703\n",
      "Epoch 7/10\n",
      "1500/1500 [==============================] - 5s 3ms/step - loss: 0.4309 - categorical_accuracy: 0.8719 - val_loss: 0.4475 - val_categorical_accuracy: 0.8618\n",
      "Epoch 8/10\n",
      "1500/1500 [==============================] - 5s 3ms/step - loss: 0.4225 - categorical_accuracy: 0.8729 - val_loss: 0.4406 - val_categorical_accuracy: 0.8710\n",
      "Epoch 9/10\n",
      "1500/1500 [==============================] - 5s 3ms/step - loss: 0.4158 - categorical_accuracy: 0.8756 - val_loss: 0.4306 - val_categorical_accuracy: 0.8681\n",
      "Epoch 10/10\n",
      "1500/1500 [==============================] - 5s 3ms/step - loss: 0.4119 - categorical_accuracy: 0.8762 - val_loss: 0.4288 - val_categorical_accuracy: 0.8683\n"
     ]
    },
    {
     "data": {
      "text/plain": [
       "<tensorflow.python.keras.callbacks.History at 0x2e3a573ce50>"
      ]
     },
     "execution_count": 13,
     "metadata": {},
     "output_type": "execute_result"
    }
   ],
   "source": [
    "dnn = tf.keras.Sequential()\n",
    "dnn.add(tf.keras.layers.InputLayer(input_shape=img_shape))\n",
    "dnn.add(tf.keras.layers.Flatten())\n",
    "dnn.add(tf.keras.layers.Dense(100, activation=tf.keras.activations.relu,\n",
    "                                kernel_regularizer=tf.keras.regularizers.L2(0.001)))\n",
    "dnn.add(tf.keras.layers.Dense(100, activation=tf.keras.activations.relu,\n",
    "                                kernel_regularizer =tf.keras.regularizers.L2(0.001)))\n",
    "dnn.add(tf.keras.layers.Dense(10, activation=tf.keras.activations.softmax))\n",
    "\n",
    "optimizer = tf.keras.optimizers.Adam()\n",
    "dnn.compile(optimizer=optimizer, metrics=[tf.metrics.categorical_accuracy], loss=tf.losses.categorical_crossentropy)\n",
    "\n",
    "es = tf.keras.callbacks.EarlyStopping(monitor='val_loss', patience=5, restore_best_weights=True)\n",
    "\n",
    "dnn.fit(train_X, train_y, validation_split=0.2, callbacks=[es], epochs=10)"
   ]
  },
  {
   "cell_type": "code",
   "execution_count": 17,
   "id": "effdbb8e-41b6-4b8c-9b84-85792d593654",
   "metadata": {},
   "outputs": [
    {
     "data": {
      "text/plain": [
       "0.8587"
      ]
     },
     "execution_count": 17,
     "metadata": {},
     "output_type": "execute_result"
    }
   ],
   "source": [
    "accuracy = tf.metrics.Accuracy()\n",
    "accuracy.reset_state()\n",
    "accuracy.update_state(test_y, np.argmax(dnn.predict(test_X), axis=1))\n",
    "accuracy.result().numpy()"
   ]
  },
  {
   "cell_type": "markdown",
   "id": "3586e131-4a0f-449d-806a-5d3c76196e0e",
   "metadata": {},
   "source": [
    "## multi-class classification using CNN"
   ]
  },
  {
   "cell_type": "code",
   "execution_count": 24,
   "id": "0238eb32-53cd-4b82-9765-c314afc25145",
   "metadata": {},
   "outputs": [
    {
     "name": "stdout",
     "output_type": "stream",
     "text": [
      "Epoch 1/10\n",
      "1500/1500 [==============================] - 10s 6ms/step - loss: 0.8719 - categorical_accuracy: 0.7197 - val_loss: 0.7187 - val_categorical_accuracy: 0.7651\n",
      "Epoch 2/10\n",
      "1500/1500 [==============================] - 8s 5ms/step - loss: 0.6649 - categorical_accuracy: 0.7918 - val_loss: 0.6338 - val_categorical_accuracy: 0.7932\n",
      "Epoch 3/10\n",
      "1500/1500 [==============================] - 8s 5ms/step - loss: 0.5962 - categorical_accuracy: 0.8153 - val_loss: 0.5956 - val_categorical_accuracy: 0.8113\n",
      "Epoch 4/10\n",
      "1500/1500 [==============================] - 8s 5ms/step - loss: 0.5546 - categorical_accuracy: 0.8308 - val_loss: 0.5588 - val_categorical_accuracy: 0.8234\n",
      "Epoch 5/10\n",
      "1500/1500 [==============================] - 8s 5ms/step - loss: 0.5246 - categorical_accuracy: 0.8379 - val_loss: 0.5177 - val_categorical_accuracy: 0.8375\n",
      "Epoch 6/10\n",
      "1500/1500 [==============================] - 8s 5ms/step - loss: 0.5006 - categorical_accuracy: 0.8458 - val_loss: 0.5006 - val_categorical_accuracy: 0.8412\n",
      "Epoch 7/10\n",
      "1500/1500 [==============================] - 8s 5ms/step - loss: 0.4829 - categorical_accuracy: 0.8507 - val_loss: 0.5599 - val_categorical_accuracy: 0.8077\n",
      "Epoch 8/10\n",
      "1500/1500 [==============================] - 8s 5ms/step - loss: 0.4699 - categorical_accuracy: 0.8529 - val_loss: 0.4713 - val_categorical_accuracy: 0.8516\n",
      "Epoch 9/10\n",
      "1500/1500 [==============================] - 8s 5ms/step - loss: 0.4583 - categorical_accuracy: 0.8574 - val_loss: 0.4884 - val_categorical_accuracy: 0.8452\n",
      "Epoch 10/10\n",
      "1500/1500 [==============================] - 8s 5ms/step - loss: 0.4494 - categorical_accuracy: 0.8601 - val_loss: 0.4673 - val_categorical_accuracy: 0.8538\n"
     ]
    },
    {
     "data": {
      "text/plain": [
       "<tensorflow.python.keras.callbacks.History at 0x2e3961b9580>"
      ]
     },
     "execution_count": 24,
     "metadata": {},
     "output_type": "execute_result"
    }
   ],
   "source": [
    "cnn = tf.keras.Sequential()\n",
    "cnn.add(tf.keras.layers.InputLayer(input_shape=img_shape))\n",
    "cnn.add(tf.keras.layers.Reshape(list(img_shape) + [1]))\n",
    "cnn.add(tf.keras.layers.Conv2D(3, kernel_size=(7, 7), strides=(4, 4)))\n",
    "cnn.add(tf.keras.layers.AveragePooling2D(pool_size=(2, 2), strides=(1, 1)))\n",
    "cnn.add(tf.keras.layers.Flatten())\n",
    "cnn.add(tf.keras.layers.Dense(100, activation=tf.keras.activations.relu,\n",
    "                                kernel_regularizer=tf.keras.regularizers.L2(0.001)))\n",
    "cnn.add(tf.keras.layers.Dense(100, activation=tf.keras.activations.relu,\n",
    "                                kernel_regularizer =tf.keras.regularizers.L2(0.001)))\n",
    "cnn.add(tf.keras.layers.Dense(10, activation=tf.keras.activations.softmax))\n",
    "\n",
    "optimizer = tf.keras.optimizers.Adam()\n",
    "cnn.compile(optimizer=optimizer, metrics=[tf.metrics.categorical_accuracy], loss=tf.losses.categorical_crossentropy)\n",
    "\n",
    "es = tf.keras.callbacks.EarlyStopping(monitor='val_loss', patience=5, restore_best_weights=True)\n",
    "\n",
    "cnn.fit(train_X, train_y, validation_split=0.2, callbacks=[es], epochs=10)"
   ]
  },
  {
   "cell_type": "code",
   "execution_count": 26,
   "id": "7c939d1f-9a8d-4d73-a20c-19e7d45b075d",
   "metadata": {},
   "outputs": [
    {
     "data": {
      "text/plain": [
       "0.847"
      ]
     },
     "execution_count": 26,
     "metadata": {},
     "output_type": "execute_result"
    }
   ],
   "source": [
    "accuracy = tf.metrics.Accuracy()\n",
    "accuracy.reset_state()\n",
    "accuracy.update_state(test_y, np.argmax(cnn.predict(test_X), axis=1))\n",
    "accuracy.result().numpy()"
   ]
  },
  {
   "cell_type": "code",
   "execution_count": null,
   "id": "676cd484-ddd6-4859-a417-7e9af9253c07",
   "metadata": {},
   "outputs": [],
   "source": []
  }
 ],
 "metadata": {
  "kernelspec": {
   "display_name": "Python 3",
   "language": "python",
   "name": "python3"
  },
  "language_info": {
   "codemirror_mode": {
    "name": "ipython",
    "version": 3
   },
   "file_extension": ".py",
   "mimetype": "text/x-python",
   "name": "python",
   "nbconvert_exporter": "python",
   "pygments_lexer": "ipython3",
   "version": "3.8.8"
  }
 },
 "nbformat": 4,
 "nbformat_minor": 5
}
