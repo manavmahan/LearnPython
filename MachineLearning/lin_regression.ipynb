{
 "cells": [
  {
   "cell_type": "code",
   "execution_count": 1,
   "id": "9ebae902-814e-4895-9ca0-721425a8c16e",
   "metadata": {},
   "outputs": [],
   "source": [
    "import numpy as np\n",
    "import matplotlib.pyplot as plt"
   ]
  },
  {
   "cell_type": "code",
   "execution_count": 2,
   "id": "fb4e3c0c-672a-468d-9726-55f6edac2482",
   "metadata": {},
   "outputs": [
    {
     "data": {
      "text/plain": [
       "<matplotlib.collections.PathCollection at 0x1e108386370>"
      ]
     },
     "execution_count": 2,
     "metadata": {},
     "output_type": "execute_result"
    },
    {
     "data": {
      "image/png": "[encoded data removed]",
      "text/plain": [
       "<Figure size 720x360 with 2 Axes>"
      ]
     },
     "metadata": {
      "needs_background": "light"
     },
     "output_type": "display_data"
    }
   ],
   "source": [
    "X = np.random.rand(100, 2)\n",
    "y = (2*X[:, 0] + 3*X[:, 1] + 0.001*np.random.rand(100)).reshape(100, 1)\n",
    "\n",
    "fig, ax = plt.subplots(nrows=1, ncols=2, figsize=(10, 5))\n",
    "fig.sca(ax[0])\n",
    "plt.scatter(X[:, 0], y[:, 0], c='k')\n",
    "fig.sca(ax[1])\n",
    "plt.scatter(X[:, 1], y[:, 0], c='b')"
   ]
  },
  {
   "cell_type": "code",
   "execution_count": 40,
   "id": "e3d50f4e-6b93-46af-91e4-49e9006e19e4",
   "metadata": {},
   "outputs": [],
   "source": [
    "class LinearRegression():\n",
    "    '''\n",
    "    '''\n",
    "    def __init__(self):\n",
    "        pass\n",
    "    \n",
    "    def predict(self, X, theta):\n",
    "        X_ = np.c_[np.ones((X.shape[0], 1)), X]\n",
    "        return X_ @ theta.T\n",
    "\n",
    "    def get_cost(self, y_true, y_pred, l1=0, l2=0, theta=None):\n",
    "        return 0.5 * np.average((y_true - y_pred) ** 2)\n",
    "\n",
    "    def get_grad(self, y_true, y_pred, X_):\n",
    "        return (y_true - y_pred).T @ X_\n",
    "\n",
    "    def fit(self, X, y, iters=1000, lr=1, l1=0, l2=0, reporting_frequency=20):\n",
    "        X_ = np.c_[np.ones((X.shape[0], 1)), X]\n",
    "        theta = np.zeros((1, X_.shape[1]))\n",
    "        \n",
    "        m = X.shape[0]\n",
    "        \n",
    "        for i in range(iters):\n",
    "            y_pred = X_ @ theta.T\n",
    "            \n",
    "            if iters%reporting_frequency==0:\n",
    "                print(self.get_cost(y, y_pred), end=\"\\r\")\n",
    "            \n",
    "            reg = np.zeros(theta.shape)\n",
    "            if l1:\n",
    "                reg += (l1/m) * np.array(theta!=0, dtype=int)        \n",
    "            if l2:\n",
    "                reg += (l2/m) * theta\n",
    "\n",
    "            \n",
    "            theta += (lr/m) * self.get_grad(y, y_pred, X_) - reg\n",
    "        self.coef__ = theta"
   ]
  },
  {
   "cell_type": "code",
   "execution_count": 41,
   "id": "278e1041-1db3-44f9-a915-c47388103a01",
   "metadata": {},
   "outputs": [
    {
     "name": "stdout",
     "output_type": "stream",
     "text": [
      "4.048511572965042e-088\r"
     ]
    }
   ],
   "source": [
    "model = LinearRegression()\n",
    "model.fit(X, y)"
   ]
  },
  {
   "cell_type": "code",
   "execution_count": 43,
   "id": "53c074cd-6916-4b41-b7f3-e0eb962c8bc6",
   "metadata": {},
   "outputs": [
    {
     "data": {
      "text/plain": [
       "array([[6.13872122e-04, 1.99986380e+00, 2.99997712e+00]])"
      ]
     },
     "execution_count": 43,
     "metadata": {},
     "output_type": "execute_result"
    }
   ],
   "source": [
    "model.coef__"
   ]
  },
  {
   "cell_type": "code",
   "execution_count": 47,
   "id": "66761e77-5a49-46c8-bf10-8470ea27a0cc",
   "metadata": {},
   "outputs": [
    {
     "data": {
      "text/plain": [
       "LinearRegression()"
      ]
     },
     "execution_count": 47,
     "metadata": {},
     "output_type": "execute_result"
    }
   ],
   "source": [
    "from sklearn.linear_model import LinearRegression as LinearRegression_SK\n",
    "lin_reg_sk = LinearRegression_SK()\n",
    "X_ = np.c_[np.ones((X.shape[0], 1)), X]\n",
    "lin_reg_sk.fit(X_, y)"
   ]
  },
  {
   "cell_type": "code",
   "execution_count": 48,
   "id": "ea776dd6-6733-4433-a67c-41a45b4e8b00",
   "metadata": {},
   "outputs": [
    {
     "data": {
      "text/plain": [
       "array([[0.        , 1.9998638 , 2.99997712]])"
      ]
     },
     "execution_count": 48,
     "metadata": {},
     "output_type": "execute_result"
    }
   ],
   "source": [
    "lin_reg_sk.coef_"
   ]
  },
  {
   "cell_type": "code",
   "execution_count": 49,
   "id": "0034cbcd-80ae-47da-aeb9-d9e272e47547",
   "metadata": {},
   "outputs": [
    {
     "data": {
      "text/plain": [
       "array([[6.13872122e-04],\n",
       "       [1.99986380e+00],\n",
       "       [2.99997712e+00]])"
      ]
     },
     "execution_count": 49,
     "metadata": {},
     "output_type": "execute_result"
    }
   ],
   "source": [
    "beta = np.linalg.inv(X_.T @ X_) @ X_.T @ y\n",
    "beta"
   ]
  }
 ],
 "metadata": {
  "kernelspec": {
   "display_name": "Python 3",
   "language": "python",
   "name": "python3"
  },
  "language_info": {
   "codemirror_mode": {
    "name": "ipython",
    "version": 3
   },
   "file_extension": ".py",
   "mimetype": "text/x-python",
   "name": "python",
   "nbconvert_exporter": "python",
   "pygments_lexer": "ipython3",
   "version": "3.8.8"
  }
 },
 "nbformat": 4,
 "nbformat_minor": 5
}
