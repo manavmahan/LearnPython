{
 "cells": [
  {
   "cell_type": "code",
   "execution_count": 1,
   "id": "d361b289-f31d-4fd7-971d-1066288066ba",
   "metadata": {},
   "outputs": [],
   "source": [
    "class Root():\n",
    "    def __init__(self, val, left=None, right=None):\n",
    "        self.val = val\n",
    "        self.left = left\n",
    "        self.right = right"
   ]
  },
  {
   "cell_type": "code",
   "execution_count": null,
   "id": "958a0fe5-21b7-4f39-8a4f-be5087a726d4",
   "metadata": {},
   "outputs": [],
   "source": [
    "def is_same(t1, t2):\n",
    "    if not t1 and not t2:\n",
    "        return True\n",
    "    if t1.val and not(t2.val)\n",
    "    if t1.val != t2.val:\n",
    "        return False\n",
    "    else:\n",
    "        return is_same(t1.left, t2.left) and is_same(t1.right, t2.right)"
   ]
  },
  {
   "cell_type": "code",
   "execution_count": 9,
   "id": "e22bace8-46bd-442e-9cce-55fb544a0b76",
   "metadata": {},
   "outputs": [],
   "source": [
    "def get_palindromes(string:str)->[str]:\n",
    "    palindromes = []\n",
    "    for i in range(len(string)):\n",
    "        for j in range(i+2, len(string)+1):\n",
    "            s = string[i:j]\n",
    "            if s==s[::-1]:\n",
    "                palindromes.append(s)\n",
    "    return set(palindromes)"
   ]
  },
  {
   "cell_type": "code",
   "execution_count": 12,
   "id": "2b164036-e561-44d4-8519-e35e38a9ad81",
   "metadata": {},
   "outputs": [
    {
     "data": {
      "text/plain": [
       "{'AA', 'ABA', 'BAB', 'BB', 'BBB', 'BBBB', 'MM', 'MMM', 'NAN', 'NMMMN'}"
      ]
     },
     "execution_count": 12,
     "metadata": {},
     "output_type": "execute_result"
    }
   ],
   "source": [
    "string=\"AABABBBBNANMMMN\"\n",
    "get_palindromes(string)"
   ]
  },
  {
   "cell_type": "code",
   "execution_count": null,
   "id": "802d1b02-4273-4d64-8a0a-4894db082022",
   "metadata": {},
   "outputs": [],
   "source": [
    "\n"
   ]
  }
 ],
 "metadata": {
  "kernelspec": {
   "display_name": "Python 3",
   "language": "python",
   "name": "python3"
  },
  "language_info": {
   "codemirror_mode": {
    "name": "ipython",
    "version": 3
   },
   "file_extension": ".py",
   "mimetype": "text/x-python",
   "name": "python",
   "nbconvert_exporter": "python",
   "pygments_lexer": "ipython3",
   "version": "3.8.8"
  }
 },
 "nbformat": 4,
 "nbformat_minor": 5
}
