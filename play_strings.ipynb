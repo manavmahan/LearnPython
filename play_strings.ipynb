{
 "cells": [
  {
   "cell_type": "markdown",
   "id": "81ea5fc8-b7dd-4ce1-a449-c36136cb7662",
   "metadata": {},
   "source": [
    "## Removing special characters"
   ]
  },
  {
   "cell_type": "code",
   "execution_count": 1,
   "id": "8f294e3e-b2b8-42f3-a305-8241652da825",
   "metadata": {},
   "outputs": [],
   "source": [
    "import re\n",
    "import timeit"
   ]
  },
  {
   "cell_type": "code",
   "execution_count": 9,
   "id": "96df86e7-de8e-4bed-b327-687a3ce109ee",
   "metadata": {},
   "outputs": [
    {
     "data": {
      "text/plain": [
       "'love_you'"
      ]
     },
     "execution_count": 9,
     "metadata": {},
     "output_type": "execute_result"
    }
   ],
   "source": [
    "def removeSpecialCharacters(string):\n",
    "    return ''.join(x for x in string if x.isalnum())\n",
    "\n",
    "def removeSpecialCharactersRe(string):\n",
    "    return re.sub('[^A-Za-z0-9_]', '', string)\n",
    "\n",
    "removeSpecialCharactersRe('love_you! ')"
   ]
  },
  {
   "cell_type": "code",
   "execution_count": 80,
   "id": "fa2f4057-01ae-4ccd-bddd-787517c687ac",
   "metadata": {},
   "outputs": [
    {
     "name": "stdout",
     "output_type": "stream",
     "text": [
      "2.53 µs ± 639 ns per loop (mean ± std. dev. of 7 runs, 100000 loops each)\n"
     ]
    }
   ],
   "source": [
    "%timeit removeSpecialCharacters('love_you!')"
   ]
  },
  {
   "cell_type": "code",
   "execution_count": 81,
   "id": "4dd51f88-03ab-488a-aa94-8f8a29916f53",
   "metadata": {},
   "outputs": [
    {
     "name": "stdout",
     "output_type": "stream",
     "text": [
      "2.17 µs ± 334 ns per loop (mean ± std. dev. of 7 runs, 100000 loops each)\n"
     ]
    }
   ],
   "source": [
    "%timeit removeSpecialCharactersRe('love you!')"
   ]
  },
  {
   "cell_type": "markdown",
   "id": "398cc009-c93e-427f-8f73-d9500bdccba0",
   "metadata": {},
   "source": [
    "# Palindromes"
   ]
  },
  {
   "cell_type": "code",
   "execution_count": 19,
   "id": "a708a473-cbdc-430b-af92-f6d46e6db36e",
   "metadata": {},
   "outputs": [],
   "source": [
    "def is_palindrome(string):\n",
    "    return string == string[::-1]\n",
    "\n",
    "def is_number_palindrome(number):\n",
    "    return str(number) == str(number)[::-1]"
   ]
  },
  {
   "cell_type": "code",
   "execution_count": 67,
   "id": "256e9a6d-2df0-4f5c-bfc8-e5e281e08048",
   "metadata": {},
   "outputs": [
    {
     "data": {
      "text/plain": [
       "[('e', 1), ('i', 1), ('o', 1), ('u', 1)]"
      ]
     },
     "execution_count": 67,
     "metadata": {},
     "output_type": "execute_result"
    }
   ],
   "source": [
    "def find_vowels_count(string):\n",
    "    vowels = []\n",
    "    for vowel in ['a', 'e', 'i', 'o', 'u']:\n",
    "        vowels.append((vowel, string.count(vowel)))\n",
    "    return vowels\n",
    "\n",
    "a = find_vowels_count('live you')\n",
    "\n",
    "def get_key(x):\n",
    "    return x[1]\n",
    "\n",
    "a = filter(lambda x: x[1]>0, a)\n",
    "a = sorted(a, key=get_key, reverse=True)\n",
    "a"
   ]
  },
  {
   "cell_type": "markdown",
   "id": "1dc35b57-153a-4477-ab10-6a597ada431d",
   "metadata": {},
   "source": [
    "# Zig Zag"
   ]
  },
  {
   "cell_type": "code",
   "execution_count": 68,
   "id": "4c066931-8468-4b02-9e33-b4d7e7e40845",
   "metadata": {},
   "outputs": [],
   "source": [
    "def get_zig_zag_string(s, n = 3):\n",
    "    '''\n",
    "    type s: str\n",
    "    type n: int\n",
    "    rtype: str\n",
    "    \n",
    "    s = PAYPALISHIRING\n",
    "    n = 3 string = PAHNAPLSIIGYIR\n",
    "    n = 4 string = PINALSIGYAHRPI\n",
    "    '''\n",
    "    \n",
    "    string = ''\n",
    "    for r in range(n):\n",
    "        for i, c in enumerate(s):\n",
    "            if i % (2 * (n - 1)) == r or (i + r) % (2 * (n - 1)) == 0:\n",
    "                string += c\n",
    "                \n",
    "    str_list = ['' for x in range(n)]\n",
    "    row = 0\n",
    "    step = 1\n",
    "    for i, c in enumerate(s):\n",
    "        str_list[row] += c\n",
    "        if row==0:\n",
    "            step = 1\n",
    "        if row == n - 1:\n",
    "            step = -1\n",
    "        row += step\n",
    "    \n",
    "    return string == ''.join(str_list)"
   ]
  },
  {
   "cell_type": "markdown",
   "id": "6c1ef706-bf4f-4d10-8beb-818b6f21c734",
   "metadata": {},
   "source": [
    "# Pattern matching"
   ]
  },
  {
   "cell_type": "code",
   "execution_count": 10,
   "id": "14ab711d-d18d-42c6-80cc-c5a790ca393d",
   "metadata": {},
   "outputs": [],
   "source": [
    "def get_matching_pattern_star_dot(string, pattern):\n",
    "    if not pattern: return not string    \n",
    "    first_match = bool(string) and pattern[0] in {string[0], '.'}\n",
    "    \n",
    "    if (len(pattern)>1 and pattern[1]=='*'):\n",
    "        return get_matching_pattern_star_dot(string, pattern[2:]) or \\\n",
    "                (first_match and get_matching_pattern_star_dot(string[1:], pattern))\n",
    "    \n",
    "    return first_match and get_matching_pattern_star_dot(string[1:], pattern[1:])"
   ]
  },
  {
   "cell_type": "code",
   "execution_count": 11,
   "id": "14c5e2d4-e4f7-4f98-92bb-319137502633",
   "metadata": {},
   "outputs": [
    {
     "name": "stdout",
     "output_type": "stream",
     "text": [
      "abcdefghijklmnopqrstuvwxyzABCDEFGHIJKLMNOPQRSTUVWXYZ\n",
      "!\"#$%&'()*+,-./:;<=>?@[\\]^_`{|}~\n",
      "0123456789abcdefABCDEF\n"
     ]
    }
   ],
   "source": [
    "import string\n",
    "print(string.ascii_letters)\n",
    "print(string.punctuation)\n",
    "print(string.hexdigits)"
   ]
  },
  {
   "cell_type": "code",
   "execution_count": 41,
   "id": "e3f88d09-b1fb-44f6-9827-dba13f1062bf",
   "metadata": {},
   "outputs": [
    {
     "name": "stdout",
     "output_type": "stream",
     "text": [
      "1010\n"
     ]
    }
   ],
   "source": [
    "print(f\"{10:#b}\"[2:])"
   ]
  },
  {
   "cell_type": "code",
   "execution_count": 42,
   "id": "a5cb70dc-f0a5-453b-ba7f-e799966166bf",
   "metadata": {},
   "outputs": [
    {
     "name": "stdout",
     "output_type": "stream",
     "text": [
      "a\n"
     ]
    }
   ],
   "source": [
    "print(f\"{10:#2x}\"[2:])"
   ]
  },
  {
   "cell_type": "code",
   "execution_count": 52,
   "id": "6ddb8cbb-1853-4694-8348-dcfa4bd858cd",
   "metadata": {},
   "outputs": [],
   "source": [
    "a, b = 0b1010, 0b1111"
   ]
  }
 ],
 "metadata": {
  "kernelspec": {
   "display_name": "Python 3",
   "language": "python",
   "name": "python3"
  },
  "language_info": {
   "codemirror_mode": {
    "name": "ipython",
    "version": 3
   },
   "file_extension": ".py",
   "mimetype": "text/x-python",
   "name": "python",
   "nbconvert_exporter": "python",
   "pygments_lexer": "ipython3",
   "version": "3.8.8"
  }
 },
 "nbformat": 4,
 "nbformat_minor": 5
}
