{
 "cells": [
  {
   "cell_type": "code",
   "execution_count": null,
   "id": "8182b3f0-0b82-4af5-a958-e05b754e56ef",
   "metadata": {},
   "outputs": [],
   "source": []
  }
 ],
 "metadata": {
  "kernelspec": {
   "display_name": "Python 3",
   "language": "python",
   "name": "python3"
  },
  "language_info": {
   "name": ""
  }
 },
 "nbformat": 4,
 "nbformat_minor": 5
}
