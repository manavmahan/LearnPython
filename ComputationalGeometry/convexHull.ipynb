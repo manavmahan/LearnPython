{
 "cells": [
  {
   "cell_type": "code",
   "execution_count": 26,
   "id": "f0aaa192-6e6c-46d8-91fd-a10f4d0af790",
   "metadata": {},
   "outputs": [],
   "source": [
    "class Point():\n",
    "    def __init__(self, x=0, y=0):\n",
    "        self.x, self.y = x, y\n",
    "    \n",
    "    def __str__(self):\n",
    "        return f'Point: ({str(self.x)}, {str(self.y)})'\n",
    "    \n",
    "    def __repr__(self):\n",
    "        return self.__str__()"
   ]
  },
  {
   "cell_type": "code",
   "execution_count": 27,
   "id": "5fc6ed3c-43f3-4b2f-a84d-f77f2b238e0a",
   "metadata": {},
   "outputs": [],
   "source": [
    "# angle between p, q, r (q is the center point)\n",
    "import math\n",
    "\n",
    "def counterClockwise(p, q, r):\n",
    "    pq, qr = Point(q.x - p.x, q.y - p.y), Point(r.x - q.x, r.y - q.y)\n",
    "    \n",
    "    # cross product of vectors gives the direction of normal; normal is negative Z if counter-clockwise\n",
    "    # normal = pq.y * qr.x - qr.y * pq.x < 0\n",
    "    \n",
    "    # slope of vector pq should be less than qr for p, q, r to be counter-clockwise\n",
    "    # (q.y - p.y)*(r.x - q.x) - (r.y - q.y)*(q.x - p.x)<0\n",
    "    \n",
    "    return (pq.y * qr.x - qr.y * pq.x)<0"
   ]
  },
  {
   "cell_type": "code",
   "execution_count": 28,
   "id": "f49dcbae-e7bb-4e08-b256-412f593d5e7f",
   "metadata": {},
   "outputs": [
    {
     "data": {
      "text/plain": [
       "True"
      ]
     },
     "execution_count": 28,
     "metadata": {},
     "output_type": "execute_result"
    }
   ],
   "source": [
    "p = Point(0, 1)\n",
    "q = Point(0, 0)\n",
    "r = Point(1, 0)\n",
    "counterClockwise(p, q, r)"
   ]
  },
  {
   "cell_type": "code",
   "execution_count": 29,
   "id": "0cf0f49b-f60b-431f-950c-04209b4d6714",
   "metadata": {},
   "outputs": [],
   "source": [
    "def getLeftPoint(points):\n",
    "    left = 0\n",
    "    for i, p in enumerate(points):\n",
    "        if p.x < points[left].x:\n",
    "            left = i\n",
    "        elif p.x == points[left].x and p.y > points[left].y:\n",
    "            left = i\n",
    "    return left"
   ]
  },
  {
   "cell_type": "code",
   "execution_count": 30,
   "id": "0c66b0f9-2cef-44aa-878c-689a3f4899aa",
   "metadata": {},
   "outputs": [],
   "source": [
    "def getConvexHull(points):\n",
    "    n = len(points)\n",
    "    if n<3:\n",
    "        return\n",
    "    \n",
    "    hull = []    \n",
    "    left = getLeftPoint(points)    \n",
    "    p = left\n",
    "\n",
    "    while True:\n",
    "        hull.append(p)\n",
    "        r = (p + 1) % n\n",
    "        for q in range(n):\n",
    "            if counterClockwise(points[p], points[q], points[r]):\n",
    "                r = q\n",
    "        p = r\n",
    "        if p==left:\n",
    "            break\n",
    "    return list(points[x] for x in hull)"
   ]
  },
  {
   "cell_type": "code",
   "execution_count": 32,
   "id": "29d90bc9-eb6f-44f0-aefc-acca7cc6966e",
   "metadata": {},
   "outputs": [
    {
     "data": {
      "text/plain": [
       "[Point: (0, 3), Point: (0, 0), Point: (3, 0), Point: (3, 3)]"
      ]
     },
     "execution_count": 32,
     "metadata": {},
     "output_type": "execute_result"
    }
   ],
   "source": [
    "points = []\n",
    "points.append(Point(0, 0))\n",
    "points.append(Point(2, 2))\n",
    "points.append(Point(1, 1))\n",
    "points.append(Point(2, 1))\n",
    "points.append(Point(3, 0))\n",
    "points.append(Point(0, 3))\n",
    "points.append(Point(3, 3))\n",
    "\n",
    "getConvexHull(points)"
   ]
  }
 ],
 "metadata": {
  "kernelspec": {
   "display_name": "Python 3",
   "language": "python",
   "name": "python3"
  },
  "language_info": {
   "codemirror_mode": {
    "name": "ipython",
    "version": 3
   },
   "file_extension": ".py",
   "mimetype": "text/x-python",
   "name": "python",
   "nbconvert_exporter": "python",
   "pygments_lexer": "ipython3",
   "version": "3.8.8"
  }
 },
 "nbformat": 4,
 "nbformat_minor": 5
}
