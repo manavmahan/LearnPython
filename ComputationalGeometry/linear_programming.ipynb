{
 "cells": [
  {
   "cell_type": "code",
   "execution_count": 1,
   "id": "96b715c8-4abb-4419-bd79-3a2fd5213f3c",
   "metadata": {},
   "outputs": [],
   "source": [
    "from scipy.optimize import linprog"
   ]
  },
  {
   "cell_type": "code",
   "execution_count": 2,
   "id": "1e6c0484-beee-4807-907a-7d214c9cec72",
   "metadata": {},
   "outputs": [],
   "source": [
    "c = [-1, 4]\n",
    "A = [[-3, -1], [1, 2]]\n",
    "b = [6, 4]\n",
    "bounds = [(None, None), (-3, None)]"
   ]
  },
  {
   "cell_type": "code",
   "execution_count": 3,
   "id": "b8386634-51fc-489d-9170-39201bdbe08b",
   "metadata": {},
   "outputs": [],
   "source": [
    "result = linprog(c, A_ub=A, b_ub=b, bounds=bounds)"
   ]
  },
  {
   "cell_type": "code",
   "execution_count": 4,
   "id": "67332aa9-e24e-4c0f-9ec1-f6cfbf1a349b",
   "metadata": {},
   "outputs": [
    {
     "data": {
      "text/plain": [
       "     con: array([], dtype=float64)\n",
       "     fun: -21.999999894806738\n",
       " message: 'Optimization terminated successfully.'\n",
       "     nit: 6\n",
       "   slack: array([3.29999998e+01, 5.97709908e-08])\n",
       "  status: 0\n",
       " success: True\n",
       "       x: array([ 9.99999993, -2.99999999])"
      ]
     },
     "execution_count": 4,
     "metadata": {},
     "output_type": "execute_result"
    }
   ],
   "source": [
    "result"
   ]
  }
 ],
 "metadata": {
  "kernelspec": {
   "display_name": "Python 3",
   "language": "python",
   "name": "python3"
  },
  "language_info": {
   "codemirror_mode": {
    "name": "ipython",
    "version": 3
   },
   "file_extension": ".py",
   "mimetype": "text/x-python",
   "name": "python",
   "nbconvert_exporter": "python",
   "pygments_lexer": "ipython3",
   "version": "3.8.8"
  }
 },
 "nbformat": 4,
 "nbformat_minor": 5
}
