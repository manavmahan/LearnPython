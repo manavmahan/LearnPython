{
 "cells": [
  {
   "cell_type": "code",
   "execution_count": 1,
   "id": "321ac3ea-329e-413e-9372-78c33bf6b5d6",
   "metadata": {},
   "outputs": [],
   "source": [
    "N = 5\n",
    "E = 6\n"
   ]
  },
  {
   "cell_type": "code",
   "execution_count": 31,
   "id": "ae6a9f9d-f4a4-4275-b80d-a41ed8d88048",
   "metadata": {},
   "outputs": [
    {
     "name": "stdout",
     "output_type": "stream",
     "text": [
      "[0, 1, 2, 0, 1, 2] [2, 2, 3, 3, 4, 4]\n",
      "deque([3, 4]) [[], [], [0, 1], [2, 0], [1]] [2, 2, 1, 0, 0]\n",
      "deque([3, 4])\n",
      "3 [2, 2, 1, 0, 0]\n",
      "2\n",
      "[1, 1, 2, 1, 1]\n",
      "0\n",
      "[2, 1, 2, 1, 1]\n",
      "deque([4, 2])\n",
      "4 [1, 2, 0, 0, 0]\n",
      "1\n",
      "[2, 2, 2, 1, 1]\n",
      "deque([2])\n",
      "2 [1, 1, 0, 0, 0]\n",
      "0\n",
      "[3, 2, 2, 1, 1]\n",
      "1\n",
      "[3, 3, 2, 1, 1]\n",
      "deque([0, 1])\n",
      "0 [0, 0, 0, 0, 0]\n",
      "deque([1])\n",
      "1 [0, 0, 0, 0, 0]\n",
      "3\n"
     ]
    }
   ],
   "source": [
    "from collections import deque\n",
    "U = [1, 2, 3, 1, 2, 3]\n",
    "V = [3, 3, 4, 4, 5, 5]\n",
    "\n",
    "U = [x-1 for x in U]\n",
    "V = [x-1 for x in V]\n",
    "\n",
    "print(U, V)\n",
    "\n",
    "adj = [[] for _ in range(N)]\n",
    "color = [1] * N\n",
    "count = [0] * N\n",
    "\n",
    "for i in range(N):\n",
    "    adj[V[i]].append(U[i])\n",
    "    count[U[i]] += 1\n",
    "\n",
    "q = deque()\n",
    "for i in range(N):\n",
    "    if count[i]==0:\n",
    "        q.append(i)\n",
    "\n",
    "print(q, adj, count)\n",
    "while len(q)>0:\n",
    "    print(q)\n",
    "    u = q.popleft()\n",
    "    print(u, count)\n",
    "    for x in adj[u]:\n",
    "        print(x)\n",
    "        count[x] -= 1\n",
    "        if count[x]==0:\n",
    "            q.append(x)\n",
    "        \n",
    "        if color[x]<=color[u]:\n",
    "            color[x] = color[u] + 1\n",
    "            print(color)\n",
    "\n",
    "print(max(color))"
   ]
  },
  {
   "cell_type": "code",
   "execution_count": null,
   "id": "0f774e73-fcb7-4b2d-9234-a2ca6859013d",
   "metadata": {},
   "outputs": [],
   "source": []
  }
 ],
 "metadata": {
  "kernelspec": {
   "display_name": "Python 3",
   "language": "python",
   "name": "python3"
  },
  "language_info": {
   "codemirror_mode": {
    "name": "ipython",
    "version": 3
   },
   "file_extension": ".py",
   "mimetype": "text/x-python",
   "name": "python",
   "nbconvert_exporter": "python",
   "pygments_lexer": "ipython3",
   "version": "3.8.8"
  }
 },
 "nbformat": 4,
 "nbformat_minor": 5
}
