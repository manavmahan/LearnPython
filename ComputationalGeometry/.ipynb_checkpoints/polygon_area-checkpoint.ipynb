{
 "cells": [
  {
   "cell_type": "code",
   "execution_count": 25,
   "id": "9cc8caad-77e5-4b8d-8fa2-f6dcf942d9ed",
   "metadata": {},
   "outputs": [],
   "source": [
    "import numpy as np\n",
    "\n",
    "X = [0, 0, 1, 1]\n",
    "Y = [0, 1, 1, 0]"
   ]
  },
  {
   "cell_type": "code",
   "execution_count": 26,
   "id": "054c4a8e-2156-49b1-8116-c23e451297a6",
   "metadata": {},
   "outputs": [],
   "source": [
    "nX = np.roll(X, 1)\n",
    "nY = np.roll(Y, 1)"
   ]
  },
  {
   "cell_type": "code",
   "execution_count": 27,
   "id": "d58e3b08-12fd-46af-807e-b6a7523e61c9",
   "metadata": {},
   "outputs": [
    {
     "data": {
      "text/plain": [
       "1.0"
      ]
     },
     "execution_count": 27,
     "metadata": {},
     "output_type": "execute_result"
    }
   ],
   "source": [
    "area = 0.5 * np.abs(np.dot(X, nY) - np.dot(Y, nX))\n",
    "area"
   ]
  },
  {
   "cell_type": "code",
   "execution_count": 28,
   "id": "e90bbf0c-95d4-41a9-af65-b5d73b06d6d5",
   "metadata": {},
   "outputs": [],
   "source": [
    "def is_counter_clockwise(X, Y):\n",
    "    nX = np.roll(X, 1)\n",
    "    nY = np.roll(Y, 1)\n",
    "    area = np.dot(X, nY) - np.dot(Y, nX)\n",
    "    return area<0"
   ]
  },
  {
   "cell_type": "code",
   "execution_count": 29,
   "id": "1cb69074-9529-402c-9d61-5f837007762e",
   "metadata": {},
   "outputs": [
    {
     "data": {
      "text/plain": [
       "False"
      ]
     },
     "execution_count": 29,
     "metadata": {},
     "output_type": "execute_result"
    }
   ],
   "source": [
    "is_counter_clockwise(X, Y)"
   ]
  }
 ],
 "metadata": {
  "kernelspec": {
   "display_name": "Python 3",
   "language": "python",
   "name": "python3"
  },
  "language_info": {
   "codemirror_mode": {
    "name": "ipython",
    "version": 3
   },
   "file_extension": ".py",
   "mimetype": "text/x-python",
   "name": "python",
   "nbconvert_exporter": "python",
   "pygments_lexer": "ipython3",
   "version": "3.8.8"
  }
 },
 "nbformat": 4,
 "nbformat_minor": 5
}
