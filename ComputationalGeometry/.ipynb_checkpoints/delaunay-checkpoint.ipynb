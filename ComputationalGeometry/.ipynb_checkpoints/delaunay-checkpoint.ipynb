{
 "cells": [
  {
   "cell_type": "code",
   "execution_count": 4,
   "id": "cd4d588d-6f3b-42ce-9d6e-6634eca55112",
   "metadata": {},
   "outputs": [],
   "source": [
    "from scipy.spatial import Delaunay\n",
    "import numpy as np\n",
    "import matplotlib.pyplot as plt\n",
    "\n",
    "points = np.array(([0, 0], [1, 0], [1, 1], [0, 1.1]))\n",
    "triang = Delaunay(points)"
   ]
  },
  {
   "cell_type": "code",
   "execution_count": 10,
   "id": "c77a3ea7-d3e4-4624-9b06-fc9b28031d02",
   "metadata": {},
   "outputs": [
    {
     "data": {
      "text/plain": [
       "<matplotlib.collections.PathCollection at 0x1b7908139a0>"
      ]
     },
     "execution_count": 10,
     "metadata": {},
     "output_type": "execute_result"
    },
    {
     "data": {
      "image/png": "[encoded data removed]",
      "text/plain": [
       "<Figure size 432x288 with 1 Axes>"
      ]
     },
     "metadata": {
      "needs_background": "light"
     },
     "output_type": "display_data"
    }
   ],
   "source": [
    "plt.triplot(points[:, 0], points[:, 1], triang.simplices)\n",
    "plt.scatter(points[:, 0], points[:, 1], c='k', marker='o', zorder=10)"
   ]
  },
  {
   "cell_type": "code",
   "execution_count": 27,
   "id": "87e8aedf-5af5-4522-ad54-259cc8af1d50",
   "metadata": {},
   "outputs": [
    {
     "data": {
      "text/plain": [
       "array([[1, 2, 0],\n",
       "       [2, 3, 0]], dtype=int32)"
      ]
     },
     "execution_count": 27,
     "metadata": {},
     "output_type": "execute_result"
    }
   ],
   "source": [
    "triang.simplices"
   ]
  },
  {
   "cell_type": "code",
   "execution_count": 28,
   "id": "7e291c15-cdf9-4094-8d44-35dd3f964f02",
   "metadata": {},
   "outputs": [
    {
     "data": {
      "text/plain": [
       "array([[[1. , 0. ],\n",
       "        [1. , 1. ],\n",
       "        [0. , 0. ]],\n",
       "\n",
       "       [[1. , 1. ],\n",
       "        [0. , 1.1],\n",
       "        [0. , 0. ]]])"
      ]
     },
     "execution_count": 28,
     "metadata": {},
     "output_type": "execute_result"
    }
   ],
   "source": [
    "points[triang.simplices]"
   ]
  },
  {
   "cell_type": "code",
   "execution_count": null,
   "id": "326e97e5-c443-4cb0-8d41-9d41dd2aed91",
   "metadata": {},
   "outputs": [],
   "source": []
  }
 ],
 "metadata": {
  "kernelspec": {
   "display_name": "Python 3",
   "language": "python",
   "name": "python3"
  },
  "language_info": {
   "codemirror_mode": {
    "name": "ipython",
    "version": 3
   },
   "file_extension": ".py",
   "mimetype": "text/x-python",
   "name": "python",
   "nbconvert_exporter": "python",
   "pygments_lexer": "ipython3",
   "version": "3.8.8"
  }
 },
 "nbformat": 4,
 "nbformat_minor": 5
}
