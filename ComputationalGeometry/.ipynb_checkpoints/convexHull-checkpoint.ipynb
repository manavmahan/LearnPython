{
 "cells": [
  {
   "cell_type": "code",
   "execution_count": 13,
   "id": "f0aaa192-6e6c-46d8-91fd-a10f4d0af790",
   "metadata": {},
   "outputs": [],
   "source": [
    "class Point():\n",
    "    def __init__(self, x=0, y=0):\n",
    "        self.x, self.y = x, y"
   ]
  },
  {
   "cell_type": "code",
   "execution_count": 32,
   "id": "5fc6ed3c-43f3-4b2f-a84d-f77f2b238e0a",
   "metadata": {},
   "outputs": [],
   "source": [
    "# angle between p, q, r (q is the center point)\n",
    "import math\n",
    "\n",
    "def getAngle(p, q, r):\n",
    "    pq, qr = Point(q.x - p.x, q.y - p.y), Point(r.x - q.x, r.y - q.y)\n",
    "    \n",
    "    # cross product of vectors gives the direction of normal\n",
    "    normal = pq.y * qr.x - pq.x * qr.y\n",
    "    angle = math.asin(normal)\n",
    "    return angle"
   ]
  },
  {
   "cell_type": "code",
   "execution_count": 34,
   "id": "f49dcbae-e7bb-4e08-b256-412f593d5e7f",
   "metadata": {},
   "outputs": [
    {
     "data": {
      "text/plain": [
       "1.5707963267948966"
      ]
     },
     "execution_count": 34,
     "metadata": {},
     "output_type": "execute_result"
    }
   ],
   "source": [
    "p = Point(0, 1)\n",
    "q = Point(0, 0)\n",
    "r = Point(1, 0)\n",
    "getAngle(r, q, p)"
   ]
  },
  {
   "cell_type": "code",
   "execution_count": null,
   "id": "0cf0f49b-f60b-431f-950c-04209b4d6714",
   "metadata": {},
   "outputs": [],
   "source": []
  }
 ],
 "metadata": {
  "kernelspec": {
   "display_name": "Python 3",
   "language": "python",
   "name": "python3"
  },
  "language_info": {
   "codemirror_mode": {
    "name": "ipython",
    "version": 3
   },
   "file_extension": ".py",
   "mimetype": "text/x-python",
   "name": "python",
   "nbconvert_exporter": "python",
   "pygments_lexer": "ipython3",
   "version": "3.8.8"
  }
 },
 "nbformat": 4,
 "nbformat_minor": 5
}
