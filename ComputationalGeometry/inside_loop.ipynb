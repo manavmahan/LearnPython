{
 "cells": [
  {
   "cell_type": "code",
   "execution_count": 1,
   "id": "0c24ae29-e36a-486e-ab47-8a390324c1aa",
   "metadata": {},
   "outputs": [],
   "source": [
    "l1 = [(-4, -1), (1, 2)]\n",
    "l2 = [(1, 2), (2, 1)]\n",
    "l3 = [(2, 1), (2, -1)]"
   ]
  },
  {
   "cell_type": "code",
   "execution_count": 2,
   "id": "60b57698-8aaa-47e7-9be7-2e858bdf0210",
   "metadata": {},
   "outputs": [],
   "source": [
    "p1 = (0, 0)"
   ]
  },
  {
   "cell_type": "code",
   "execution_count": 3,
   "id": "4e568170-f17f-474d-9cc5-bb78c06c8db3",
   "metadata": {},
   "outputs": [],
   "source": [
    "def rY(p1, line):\n",
    "    p2 = line[0]\n",
    "    p3 = line[1]\n",
    "    return (p1[1] - p2[1])/(p3[1] - p2[1])"
   ]
  },
  {
   "cell_type": "code",
   "execution_count": 10,
   "id": "7544a69b-bfe6-4be0-b055-35e8538f4c4b",
   "metadata": {},
   "outputs": [],
   "source": [
    "def is_intersecting(p1, line):\n",
    "    r = rY(p1, line)\n",
    "    if 0 <= r and r < 1:\n",
    "        x = r * (line[0][0] - line[1][0]) + line[1][0]\n",
    "        if x > p1[0]:\n",
    "            return True\n",
    "    return False"
   ]
  },
  {
   "cell_type": "code",
   "execution_count": 13,
   "id": "c5eab120-666d-4bfa-b058-aaafd3432236",
   "metadata": {},
   "outputs": [
    {
     "data": {
      "text/plain": [
       "True"
      ]
     },
     "execution_count": 13,
     "metadata": {},
     "output_type": "execute_result"
    }
   ],
   "source": [
    "is_intersecting(p1, l3)"
   ]
  }
 ],
 "metadata": {
  "kernelspec": {
   "display_name": "Python 3",
   "language": "python",
   "name": "python3"
  },
  "language_info": {
   "codemirror_mode": {
    "name": "ipython",
    "version": 3
   },
   "file_extension": ".py",
   "mimetype": "text/x-python",
   "name": "python",
   "nbconvert_exporter": "python",
   "pygments_lexer": "ipython3",
   "version": "3.8.8"
  }
 },
 "nbformat": 4,
 "nbformat_minor": 5
}
